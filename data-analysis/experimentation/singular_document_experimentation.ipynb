{
 "cells": [
  {
   "cell_type": "markdown",
   "metadata": {},
   "source": [
    "# Experimentation Notebook for Single Documents\n",
    "\n",
    "Will be used for experimenting various methods on individual documents. Methods will be abstracted"
   ]
  },
  {
   "cell_type": "markdown",
   "metadata": {},
   "source": [
    "### Document Breakup"
   ]
  },
  {
   "cell_type": "code",
   "execution_count": 5,
   "metadata": {},
   "outputs": [],
   "source": [
    "import helper\n",
    "import docx\n",
    "\n",
    "import nltk\n",
    "from nltk.corpus import stopwords\n",
    "from nltk.stem import WordNetLemmatizer\n",
    "from nltk.tokenize import sent_tokenize\n",
    "import re"
   ]
  },
  {
   "cell_type": "code",
   "execution_count": 8,
   "metadata": {},
   "outputs": [
    {
     "name": "stderr",
     "output_type": "stream",
     "text": [
      "[nltk_data] Downloading package punkt to\n",
      "[nltk_data]     /Users/virajkacker/nltk_data...\n",
      "[nltk_data]   Unzipping tokenizers/punkt.zip.\n"
     ]
    },
    {
     "data": {
      "text/plain": [
       "True"
      ]
     },
     "execution_count": 8,
     "metadata": {},
     "output_type": "execute_result"
    }
   ],
   "source": [
    "import nltk\n",
    "nltk.download('punkt')"
   ]
  },
  {
   "cell_type": "code",
   "execution_count": 6,
   "metadata": {},
   "outputs": [],
   "source": [
    "def get_sentences(file_path):\n",
    "    # Load the document\n",
    "    doc = docx.Document(file_path)\n",
    "\n",
    "    # Iterate over each paragraph in the document\n",
    "    sentences = []\n",
    "    for para in doc.paragraphs:\n",
    "        # Split the paragraph into sentences\n",
    "        for sent in nltk.sent_tokenize(para.text):\n",
    "            # Append the sentence to the list\n",
    "            sentences.append(sent)\n",
    "    \n",
    "    return sentences"
   ]
  },
  {
   "cell_type": "code",
   "execution_count": 2,
   "metadata": {},
   "outputs": [],
   "source": [
    "file_path = '../congress_report/18th-CCP-Congress-Report.docx'"
   ]
  },
  {
   "cell_type": "code",
   "execution_count": 3,
   "metadata": {},
   "outputs": [],
   "source": [
    "# Paragraphs\n",
    "paragraphs = helper.get_paragraphs(file_path)"
   ]
  },
  {
   "cell_type": "code",
   "execution_count": 9,
   "metadata": {},
   "outputs": [],
   "source": [
    "# Split paragraphs into sentences\n",
    "sentences = get_sentences(file_path)"
   ]
  },
  {
   "cell_type": "markdown",
   "metadata": {},
   "source": [
    "### Data Cleaning Methods"
   ]
  },
  {
   "cell_type": "code",
   "execution_count": 12,
   "metadata": {},
   "outputs": [],
   "source": [
    "import nltk\n",
    "from nltk.corpus import stopwords\n",
    "from nltk.stem import WordNetLemmatizer\n",
    "import re"
   ]
  },
  {
   "cell_type": "code",
   "execution_count": 13,
   "metadata": {},
   "outputs": [],
   "source": [
    "def clean_text(text):\n",
    "    # Convert text to lowercase\n",
    "    text = text.lower()\n",
    "\n",
    "    # Remove non-alphabetic characters\n",
    "    text = re.sub(r'[^a-z]', ' ', text)\n",
    "\n",
    "    # Tokenize text and remove stop words\n",
    "    stop_words = set(stopwords.words('english'))\n",
    "    words = text.split()\n",
    "    words = [word for word in words if word not in stop_words]\n",
    "\n",
    "    # Lemmatize each word\n",
    "    lemmatizer = WordNetLemmatizer()\n",
    "    words = [lemmatizer.lemmatize(word) for word in words]\n",
    "\n",
    "    # Remove short words (less than 3 characters)\n",
    "    words = [word for word in words if len(word) > 2]\n",
    "\n",
    "    return ' '.join(words)"
   ]
  },
  {
   "cell_type": "code",
   "execution_count": 16,
   "metadata": {},
   "outputs": [],
   "source": [
    "cleaned_sentences = [clean_text(sent) for sent in sentences]\n",
    "# Remote all '' from the cleaned_paragraphs \n",
    "cleaned_sentences = [para for para in cleaned_sentences if para != '']"
   ]
  },
  {
   "cell_type": "code",
   "execution_count": 37,
   "metadata": {},
   "outputs": [],
   "source": [
    "cleaned_paragraphs = [clean_text(para) for para in paragraphs]\n",
    "# Remote all '' from the cleaned_paragraphs \n",
    "cleaned_paragraphs = [para for para in cleaned_paragraphs if para != '']"
   ]
  },
  {
   "cell_type": "markdown",
   "metadata": {},
   "source": [
    "### BERT Topic Test"
   ]
  },
  {
   "cell_type": "code",
   "execution_count": 34,
   "metadata": {},
   "outputs": [
    {
     "name": "stderr",
     "output_type": "stream",
     "text": [
      ".gitattributes: 100%|██████████| 1.18k/1.18k [00:00<00:00, 832kB/s]\n",
      "1_Pooling/config.json: 100%|██████████| 190/190 [00:00<00:00, 182kB/s]\n",
      "README.md: 100%|██████████| 10.6k/10.6k [00:00<00:00, 7.71MB/s]\n",
      "config.json: 100%|██████████| 571/571 [00:00<00:00, 584kB/s]\n",
      "config_sentence_transformers.json: 100%|██████████| 116/116 [00:00<00:00, 90.1kB/s]\n",
      "data_config.json: 100%|██████████| 39.3k/39.3k [00:00<00:00, 18.8MB/s]\n",
      "pytorch_model.bin: 100%|██████████| 438M/438M [00:31<00:00, 13.9MB/s] \n",
      "sentence_bert_config.json: 100%|██████████| 53.0/53.0 [00:00<00:00, 18.0kB/s]\n",
      "special_tokens_map.json: 100%|██████████| 239/239 [00:00<00:00, 122kB/s]\n",
      "tokenizer.json: 100%|██████████| 466k/466k [00:00<00:00, 13.9MB/s]\n",
      "tokenizer_config.json: 100%|██████████| 363/363 [00:00<00:00, 127kB/s]\n",
      "train_script.py: 100%|██████████| 13.1k/13.1k [00:00<00:00, 4.07MB/s]\n",
      "vocab.txt: 100%|██████████| 232k/232k [00:00<00:00, 17.2MB/s]\n",
      "modules.json: 100%|██████████| 349/349 [00:00<00:00, 263kB/s]\n",
      "Batches: 100%|██████████| 27/27 [00:10<00:00,  2.57it/s]\n"
     ]
    }
   ],
   "source": [
    "from sentence_transformers import SentenceTransformer\n",
    "embedding_model = SentenceTransformer(\"all-mpnet-base-v2\")\n",
    "embeddings = embedding_model.encode(cleaned_sentences, show_progress_bar=True)"
   ]
  },
  {
   "cell_type": "code",
   "execution_count": 40,
   "metadata": {},
   "outputs": [],
   "source": [
    "from umap import UMAP\n",
    "from hdbscan import HDBSCAN\n",
    "\n",
    "umap_model = UMAP(n_neighbors=15, n_components=5, min_dist=0.0, metric='cosine', random_state=42)\n",
    "hdbscan_model = HDBSCAN(min_cluster_size=20, metric='euclidean', cluster_selection_method='eom', prediction_data=True)"
   ]
  },
  {
   "cell_type": "code",
   "execution_count": 41,
   "metadata": {},
   "outputs": [],
   "source": [
    "# Pre-reduce embeddings for visualization purposes\n",
    "reduced_embeddings = UMAP(n_neighbors=15, n_components=2, min_dist=0.0, metric='cosine', random_state=42).fit_transform(embeddings)"
   ]
  },
  {
   "cell_type": "code",
   "execution_count": 42,
   "metadata": {},
   "outputs": [],
   "source": [
    "from bertopic.representation import KeyBERTInspired, MaximalMarginalRelevance, TextGeneration\n",
    "\n",
    "# KeyBERT\n",
    "keybert = KeyBERTInspired()\n",
    "\n",
    "# MMR\n",
    "mmr = MaximalMarginalRelevance(diversity=0.3)\n",
    "\n",
    "# Text generation with Llama 2\n",
    "# llama2 = TextGeneration(generator, prompt=prompt)\n",
    "\n",
    "# All representation models\n",
    "representation_model = {\n",
    "    \"KeyBERT\": keybert,\n",
    "    # \"Llama2\": llama2,\n",
    "    \"MMR\": mmr,\n",
    "}"
   ]
  },
  {
   "cell_type": "code",
   "execution_count": 43,
   "metadata": {},
   "outputs": [],
   "source": [
    "from bertopic import BERTopic\n",
    "\n",
    "topic_model = BERTopic(\n",
    "\n",
    "  # Sub-models\n",
    "  embedding_model=embedding_model,\n",
    "  umap_model=umap_model,\n",
    "  hdbscan_model=hdbscan_model,\n",
    "  representation_model=representation_model,\n",
    ")\n",
    "\n",
    "# Train model\n",
    "topics, probs = topic_model.fit_transform(cleaned_sentences, embeddings)"
   ]
  },
  {
   "cell_type": "code",
   "execution_count": 44,
   "metadata": {},
   "outputs": [
    {
     "data": {
      "text/html": [
       "<div>\n",
       "<style scoped>\n",
       "    .dataframe tbody tr th:only-of-type {\n",
       "        vertical-align: middle;\n",
       "    }\n",
       "\n",
       "    .dataframe tbody tr th {\n",
       "        vertical-align: top;\n",
       "    }\n",
       "\n",
       "    .dataframe thead th {\n",
       "        text-align: right;\n",
       "    }\n",
       "</style>\n",
       "<table border=\"1\" class=\"dataframe\">\n",
       "  <thead>\n",
       "    <tr style=\"text-align: right;\">\n",
       "      <th></th>\n",
       "      <th>Topic</th>\n",
       "      <th>Count</th>\n",
       "      <th>Name</th>\n",
       "      <th>Representation</th>\n",
       "      <th>KeyBERT</th>\n",
       "      <th>MMR</th>\n",
       "      <th>Representative_Docs</th>\n",
       "    </tr>\n",
       "  </thead>\n",
       "  <tbody>\n",
       "    <tr>\n",
       "      <th>0</th>\n",
       "      <td>-1</td>\n",
       "      <td>187</td>\n",
       "      <td>-1_social_people_socialist_law</td>\n",
       "      <td>[social, people, socialist, law, security, imp...</td>\n",
       "      <td>[socialist, management, organization, governme...</td>\n",
       "      <td>[social, people, socialist, law, security, imp...</td>\n",
       "      <td>[must intensify effort improve basic public se...</td>\n",
       "    </tr>\n",
       "    <tr>\n",
       "      <th>1</th>\n",
       "      <td>0</td>\n",
       "      <td>248</td>\n",
       "      <td>0_party_improve_people_official</td>\n",
       "      <td>[party, improve, people, official, system, lev...</td>\n",
       "      <td>[governance, democracy, reform, democratic, le...</td>\n",
       "      <td>[party, improve, people, official, system, lev...</td>\n",
       "      <td>[expand coverage party organization party work...</td>\n",
       "    </tr>\n",
       "    <tr>\n",
       "      <th>2</th>\n",
       "      <td>1</td>\n",
       "      <td>154</td>\n",
       "      <td>1_chinese_socialism_characteristic_china</td>\n",
       "      <td>[chinese, socialism, characteristic, china, de...</td>\n",
       "      <td>[zedong, marxism, socialism, mao, socialist, c...</td>\n",
       "      <td>[chinese, socialism, characteristic, china, de...</td>\n",
       "      <td>[path socialism chinese characteristic way rea...</td>\n",
       "    </tr>\n",
       "    <tr>\n",
       "      <th>3</th>\n",
       "      <td>2</td>\n",
       "      <td>54</td>\n",
       "      <td>2_rural_income_urban_distribution</td>\n",
       "      <td>[rural, income, urban, distribution, developme...</td>\n",
       "      <td>[urbanization, industrialization, agriculture,...</td>\n",
       "      <td>[rural, income, urban, distribution, developme...</td>\n",
       "      <td>[promote coordinated development social securi...</td>\n",
       "    </tr>\n",
       "    <tr>\n",
       "      <th>4</th>\n",
       "      <td>3</td>\n",
       "      <td>42</td>\n",
       "      <td>3_taiwan_china_kong_macao</td>\n",
       "      <td>[taiwan, china, kong, macao, hong, common, two...</td>\n",
       "      <td>[hong, taiwan, mainland, macao, sovereignty, c...</td>\n",
       "      <td>[taiwan, china, kong, macao, hong, common, two...</td>\n",
       "      <td>[central government also firmly support chief ...</td>\n",
       "    </tr>\n",
       "    <tr>\n",
       "      <th>5</th>\n",
       "      <td>4</td>\n",
       "      <td>38</td>\n",
       "      <td>4_ecological_resource_environment_consumption</td>\n",
       "      <td>[ecological, resource, environment, consumptio...</td>\n",
       "      <td>[ecological, environmental, ecosystem, conserv...</td>\n",
       "      <td>[ecological, resource, environment, consumptio...</td>\n",
       "      <td>[move faster set system ecological progress im...</td>\n",
       "    </tr>\n",
       "    <tr>\n",
       "      <th>6</th>\n",
       "      <td>5</td>\n",
       "      <td>36</td>\n",
       "      <td>5_international_world_cooperation_global</td>\n",
       "      <td>[international, world, cooperation, global, co...</td>\n",
       "      <td>[interventionism, globalization, prosperity, c...</td>\n",
       "      <td>[international, world, cooperation, global, co...</td>\n",
       "      <td>[develop securing peaceful international envir...</td>\n",
       "    </tr>\n",
       "    <tr>\n",
       "      <th>7</th>\n",
       "      <td>6</td>\n",
       "      <td>27</td>\n",
       "      <td>6_innovation_technology_research_science</td>\n",
       "      <td>[innovation, technology, research, science, te...</td>\n",
       "      <td>[innovation, technology, implement, develop, t...</td>\n",
       "      <td>[innovation, technology, research, science, te...</td>\n",
       "      <td>[speed research development application new te...</td>\n",
       "    </tr>\n",
       "    <tr>\n",
       "      <th>8</th>\n",
       "      <td>7</td>\n",
       "      <td>24</td>\n",
       "      <td>7_cultural_public_sector_service</td>\n",
       "      <td>[cultural, public, sector, service, people, fl...</td>\n",
       "      <td>[cultural, culture, industry, promote, art, pr...</td>\n",
       "      <td>[cultural, public, sector, service, people, fl...</td>\n",
       "      <td>[cultural work created system public cultural ...</td>\n",
       "    </tr>\n",
       "    <tr>\n",
       "      <th>9</th>\n",
       "      <td>8</td>\n",
       "      <td>23</td>\n",
       "      <td>8_military_armed_force_defense</td>\n",
       "      <td>[military, armed, force, defense, national, ne...</td>\n",
       "      <td>[army, military, modernization, strengthening,...</td>\n",
       "      <td>[military, armed, force, defense, national, ne...</td>\n",
       "      <td>[follow guideline strengthening national defen...</td>\n",
       "    </tr>\n",
       "  </tbody>\n",
       "</table>\n",
       "</div>"
      ],
      "text/plain": [
       "   Topic  Count                                           Name  \\\n",
       "0     -1    187                 -1_social_people_socialist_law   \n",
       "1      0    248                0_party_improve_people_official   \n",
       "2      1    154       1_chinese_socialism_characteristic_china   \n",
       "3      2     54              2_rural_income_urban_distribution   \n",
       "4      3     42                      3_taiwan_china_kong_macao   \n",
       "5      4     38  4_ecological_resource_environment_consumption   \n",
       "6      5     36       5_international_world_cooperation_global   \n",
       "7      6     27       6_innovation_technology_research_science   \n",
       "8      7     24               7_cultural_public_sector_service   \n",
       "9      8     23                 8_military_armed_force_defense   \n",
       "\n",
       "                                      Representation  \\\n",
       "0  [social, people, socialist, law, security, imp...   \n",
       "1  [party, improve, people, official, system, lev...   \n",
       "2  [chinese, socialism, characteristic, china, de...   \n",
       "3  [rural, income, urban, distribution, developme...   \n",
       "4  [taiwan, china, kong, macao, hong, common, two...   \n",
       "5  [ecological, resource, environment, consumptio...   \n",
       "6  [international, world, cooperation, global, co...   \n",
       "7  [innovation, technology, research, science, te...   \n",
       "8  [cultural, public, sector, service, people, fl...   \n",
       "9  [military, armed, force, defense, national, ne...   \n",
       "\n",
       "                                             KeyBERT  \\\n",
       "0  [socialist, management, organization, governme...   \n",
       "1  [governance, democracy, reform, democratic, le...   \n",
       "2  [zedong, marxism, socialism, mao, socialist, c...   \n",
       "3  [urbanization, industrialization, agriculture,...   \n",
       "4  [hong, taiwan, mainland, macao, sovereignty, c...   \n",
       "5  [ecological, environmental, ecosystem, conserv...   \n",
       "6  [interventionism, globalization, prosperity, c...   \n",
       "7  [innovation, technology, implement, develop, t...   \n",
       "8  [cultural, culture, industry, promote, art, pr...   \n",
       "9  [army, military, modernization, strengthening,...   \n",
       "\n",
       "                                                 MMR  \\\n",
       "0  [social, people, socialist, law, security, imp...   \n",
       "1  [party, improve, people, official, system, lev...   \n",
       "2  [chinese, socialism, characteristic, china, de...   \n",
       "3  [rural, income, urban, distribution, developme...   \n",
       "4  [taiwan, china, kong, macao, hong, common, two...   \n",
       "5  [ecological, resource, environment, consumptio...   \n",
       "6  [international, world, cooperation, global, co...   \n",
       "7  [innovation, technology, research, science, te...   \n",
       "8  [cultural, public, sector, service, people, fl...   \n",
       "9  [military, armed, force, defense, national, ne...   \n",
       "\n",
       "                                 Representative_Docs  \n",
       "0  [must intensify effort improve basic public se...  \n",
       "1  [expand coverage party organization party work...  \n",
       "2  [path socialism chinese characteristic way rea...  \n",
       "3  [promote coordinated development social securi...  \n",
       "4  [central government also firmly support chief ...  \n",
       "5  [move faster set system ecological progress im...  \n",
       "6  [develop securing peaceful international envir...  \n",
       "7  [speed research development application new te...  \n",
       "8  [cultural work created system public cultural ...  \n",
       "9  [follow guideline strengthening national defen...  "
      ]
     },
     "execution_count": 44,
     "metadata": {},
     "output_type": "execute_result"
    }
   ],
   "source": [
    "# Show topics\n",
    "topic_model.get_topic_info()"
   ]
  },
  {
   "cell_type": "markdown",
   "metadata": {},
   "source": [
    "### Basic Topic Modeling"
   ]
  },
  {
   "cell_type": "code",
   "execution_count": 31,
   "metadata": {},
   "outputs": [],
   "source": [
    "from bertopic import BERTopic\n",
    "\n",
    "topic_model = BERTopic(min_topic_size=5) \n",
    "topics, probabilities = topic_model.fit_transform(cleaned_sentences, embeddings)"
   ]
  },
  {
   "cell_type": "code",
   "execution_count": 32,
   "metadata": {},
   "outputs": [
    {
     "data": {
      "text/html": [
       "<div>\n",
       "<style scoped>\n",
       "    .dataframe tbody tr th:only-of-type {\n",
       "        vertical-align: middle;\n",
       "    }\n",
       "\n",
       "    .dataframe tbody tr th {\n",
       "        vertical-align: top;\n",
       "    }\n",
       "\n",
       "    .dataframe thead th {\n",
       "        text-align: right;\n",
       "    }\n",
       "</style>\n",
       "<table border=\"1\" class=\"dataframe\">\n",
       "  <thead>\n",
       "    <tr style=\"text-align: right;\">\n",
       "      <th></th>\n",
       "      <th>Topic</th>\n",
       "      <th>Count</th>\n",
       "    </tr>\n",
       "  </thead>\n",
       "  <tbody>\n",
       "    <tr>\n",
       "      <th>0</th>\n",
       "      <td>0</td>\n",
       "      <td>807</td>\n",
       "    </tr>\n",
       "    <tr>\n",
       "      <th>1</th>\n",
       "      <td>1</td>\n",
       "      <td>26</td>\n",
       "    </tr>\n",
       "  </tbody>\n",
       "</table>\n",
       "</div>"
      ],
      "text/plain": [
       "   Topic  Count\n",
       "0      0    807\n",
       "1      1     26"
      ]
     },
     "execution_count": 32,
     "metadata": {},
     "output_type": "execute_result"
    }
   ],
   "source": [
    "# Retrieve the most frequent topics\n",
    "topic_model.get_topic_freq().head(10)"
   ]
  },
  {
   "cell_type": "code",
   "execution_count": 33,
   "metadata": {},
   "outputs": [
    {
     "data": {
      "text/html": [
       "<div>\n",
       "<style scoped>\n",
       "    .dataframe tbody tr th:only-of-type {\n",
       "        vertical-align: middle;\n",
       "    }\n",
       "\n",
       "    .dataframe tbody tr th {\n",
       "        vertical-align: top;\n",
       "    }\n",
       "\n",
       "    .dataframe thead th {\n",
       "        text-align: right;\n",
       "    }\n",
       "</style>\n",
       "<table border=\"1\" class=\"dataframe\">\n",
       "  <thead>\n",
       "    <tr style=\"text-align: right;\">\n",
       "      <th></th>\n",
       "      <th>Topic</th>\n",
       "      <th>Count</th>\n",
       "      <th>Name</th>\n",
       "      <th>Representation</th>\n",
       "      <th>Representative_Docs</th>\n",
       "    </tr>\n",
       "  </thead>\n",
       "  <tbody>\n",
       "    <tr>\n",
       "      <th>0</th>\n",
       "      <td>0</td>\n",
       "      <td>807</td>\n",
       "      <td>0_party_people_development_system</td>\n",
       "      <td>[party, people, development, system, chinese, ...</td>\n",
       "      <td>[party member improve party spirit ensure unit...</td>\n",
       "    </tr>\n",
       "    <tr>\n",
       "      <th>1</th>\n",
       "      <td>1</td>\n",
       "      <td>26</td>\n",
       "      <td>1_military_force_defense_armed</td>\n",
       "      <td>[military, force, defense, armed, national, ne...</td>\n",
       "      <td>[follow guideline strengthening national defen...</td>\n",
       "    </tr>\n",
       "  </tbody>\n",
       "</table>\n",
       "</div>"
      ],
      "text/plain": [
       "   Topic  Count                               Name  \\\n",
       "0      0    807  0_party_people_development_system   \n",
       "1      1     26     1_military_force_defense_armed   \n",
       "\n",
       "                                      Representation  \\\n",
       "0  [party, people, development, system, chinese, ...   \n",
       "1  [military, force, defense, armed, national, ne...   \n",
       "\n",
       "                                 Representative_Docs  \n",
       "0  [party member improve party spirit ensure unit...  \n",
       "1  [follow guideline strengthening national defen...  "
      ]
     },
     "execution_count": 33,
     "metadata": {},
     "output_type": "execute_result"
    }
   ],
   "source": [
    "topic_model.get_topic_info()"
   ]
  },
  {
   "cell_type": "code",
   "execution_count": 20,
   "metadata": {},
   "outputs": [
    {
     "ename": "ValueError",
     "evalue": "Mime type rendering requires nbformat>=4.2.0 but it is not installed",
     "output_type": "error",
     "traceback": [
      "\u001b[0;31m---------------------------------------------------------------------------\u001b[0m",
      "\u001b[0;31mValueError\u001b[0m                                Traceback (most recent call last)",
      "File \u001b[0;32m/opt/homebrew/Caskroom/miniforge/base/envs/nlp/lib/python3.9/site-packages/IPython/core/formatters.py:922\u001b[0m, in \u001b[0;36mIPythonDisplayFormatter.__call__\u001b[0;34m(self, obj)\u001b[0m\n\u001b[1;32m    920\u001b[0m method \u001b[39m=\u001b[39m get_real_method(obj, \u001b[39mself\u001b[39m\u001b[39m.\u001b[39mprint_method)\n\u001b[1;32m    921\u001b[0m \u001b[39mif\u001b[39;00m method \u001b[39mis\u001b[39;00m \u001b[39mnot\u001b[39;00m \u001b[39mNone\u001b[39;00m:\n\u001b[0;32m--> 922\u001b[0m     method()\n\u001b[1;32m    923\u001b[0m     \u001b[39mreturn\u001b[39;00m \u001b[39mTrue\u001b[39;00m\n",
      "File \u001b[0;32m/opt/homebrew/Caskroom/miniforge/base/envs/nlp/lib/python3.9/site-packages/plotly/basedatatypes.py:832\u001b[0m, in \u001b[0;36mBaseFigure._ipython_display_\u001b[0;34m(self)\u001b[0m\n\u001b[1;32m    829\u001b[0m \u001b[39mimport\u001b[39;00m \u001b[39mplotly\u001b[39;00m\u001b[39m.\u001b[39;00m\u001b[39mio\u001b[39;00m \u001b[39mas\u001b[39;00m \u001b[39mpio\u001b[39;00m\n\u001b[1;32m    831\u001b[0m \u001b[39mif\u001b[39;00m pio\u001b[39m.\u001b[39mrenderers\u001b[39m.\u001b[39mrender_on_display \u001b[39mand\u001b[39;00m pio\u001b[39m.\u001b[39mrenderers\u001b[39m.\u001b[39mdefault:\n\u001b[0;32m--> 832\u001b[0m     pio\u001b[39m.\u001b[39;49mshow(\u001b[39mself\u001b[39;49m)\n\u001b[1;32m    833\u001b[0m \u001b[39melse\u001b[39;00m:\n\u001b[1;32m    834\u001b[0m     \u001b[39mprint\u001b[39m(\u001b[39mrepr\u001b[39m(\u001b[39mself\u001b[39m))\n",
      "File \u001b[0;32m/opt/homebrew/Caskroom/miniforge/base/envs/nlp/lib/python3.9/site-packages/plotly/io/_renderers.py:394\u001b[0m, in \u001b[0;36mshow\u001b[0;34m(fig, renderer, validate, **kwargs)\u001b[0m\n\u001b[1;32m    389\u001b[0m         \u001b[39mraise\u001b[39;00m \u001b[39mValueError\u001b[39;00m(\n\u001b[1;32m    390\u001b[0m             \u001b[39m\"\u001b[39m\u001b[39mMime type rendering requires ipython but it is not installed\u001b[39m\u001b[39m\"\u001b[39m\n\u001b[1;32m    391\u001b[0m         )\n\u001b[1;32m    393\u001b[0m     \u001b[39mif\u001b[39;00m \u001b[39mnot\u001b[39;00m nbformat \u001b[39mor\u001b[39;00m Version(nbformat\u001b[39m.\u001b[39m__version__) \u001b[39m<\u001b[39m Version(\u001b[39m\"\u001b[39m\u001b[39m4.2.0\u001b[39m\u001b[39m\"\u001b[39m):\n\u001b[0;32m--> 394\u001b[0m         \u001b[39mraise\u001b[39;00m \u001b[39mValueError\u001b[39;00m(\n\u001b[1;32m    395\u001b[0m             \u001b[39m\"\u001b[39m\u001b[39mMime type rendering requires nbformat>=4.2.0 but it is not installed\u001b[39m\u001b[39m\"\u001b[39m\n\u001b[1;32m    396\u001b[0m         )\n\u001b[1;32m    398\u001b[0m     ipython_display\u001b[39m.\u001b[39mdisplay(bundle, raw\u001b[39m=\u001b[39m\u001b[39mTrue\u001b[39;00m)\n\u001b[1;32m    400\u001b[0m \u001b[39m# external renderers\u001b[39;00m\n",
      "\u001b[0;31mValueError\u001b[0m: Mime type rendering requires nbformat>=4.2.0 but it is not installed"
     ]
    },
    {
     "data": {
      "application/vnd.plotly.v1+json": {
       "config": {
        "plotlyServerURL": "https://plot.ly"
       },
       "data": [
        {
         "customdata": [
          [
           0,
           "party | level | community | organization | oversight",
           90
          ],
          [
           1,
           "socialism | characteristic | chinese | china | great",
           79
          ],
          [
           2,
           "ecological | resource | consumption | environment | water",
           39
          ],
          [
           3,
           "insurance | social | basic | service | health",
           26
          ],
          [
           4,
           "cultural | sector | service | flourishing | public",
           24
          ],
          [
           5,
           "law | rule | judicial | based | ensure",
           23
          ],
          [
           6,
           "peace | world | country | mankind | peaceful",
           19
          ],
          [
           7,
           "military | armed | force | defense | capability",
           17
          ],
          [
           8,
           "innovation | research | technological | technology | science",
           17
          ],
          [
           9,
           "socialist | moral | integrity | morality | virtue",
           17
          ],
          [
           10,
           "corruption | combating | integrity | clean | fight",
           16
          ],
          [
           11,
           "global | economy | world | export | china",
           16
          ],
          [
           12,
           "agriculture | agricultural | rural | farmer | industrialization",
           16
          ],
          [
           13,
           "problem | difficulty | social | pressing | work",
           15
          ],
          [
           14,
           "education | training | personnel | skill | young",
           15
          ],
          [
           15,
           "taiwan | side | strait | independence | compatriot",
           14
          ],
          [
           16,
           "reform | administrative | deepen | government | function",
           14
          ],
          [
           17,
           "military | force | armed | security | defense",
           13
          ],
          [
           18,
           "fairness | justice | equality | mutual | ethnic",
           11
          ],
          [
           19,
           "applying | outlook | scientific | purposefully | development",
           11
          ],
          [
           20,
           "macao | hong | kong | two | principle",
           11
          ],
          [
           21,
           "comrade | faith | communist | xii | viii",
           11
          ],
          [
           22,
           "unity | communist | china | consultative | congress",
           10
          ],
          [
           23,
           "rural | urban | area | development | poverty",
           10
          ],
          [
           24,
           "culture | china | strong | nation | culturally",
           10
          ],
          [
           25,
           "interest | may | must | people | time",
           10
          ],
          [
           26,
           "model | growth | change | accelerating | economy",
           10
          ],
          [
           27,
           "overseas | affair | interest | neighbor | diplomacy",
           9
          ],
          [
           28,
           "political | reform | structure | notion | sign",
           9
          ],
          [
           29,
           "thought | outlook | theory | marxism | scientific",
           8
          ],
          [
           30,
           "income | distribution | individual | share | increase",
           8
          ],
          [
           31,
           "progress | ecological | socialist | economic | sustainable",
           7
          ],
          [
           32,
           "strength | competitiveness | sport | game | fitness",
           7
          ],
          [
           33,
           "employment | job | creating | opportunity | unemployment",
           7
          ],
          [
           34,
           "building | innovation | respect | new | party",
           6
          ],
          [
           35,
           "opening | regional | area | open | benefit",
           6
          ],
          [
           36,
           "industry | industrial | structural | driven | infrastructure",
           5
          ]
         ],
         "hovertemplate": "<b>Topic %{customdata[0]}</b><br>%{customdata[1]}<br>Size: %{customdata[2]}",
         "legendgroup": "",
         "marker": {
          "color": "#B0BEC5",
          "line": {
           "color": "DarkSlateGrey",
           "width": 2
          },
          "size": [
           90,
           79,
           39,
           26,
           24,
           23,
           19,
           17,
           17,
           17,
           16,
           16,
           16,
           15,
           15,
           14,
           14,
           13,
           11,
           11,
           11,
           11,
           10,
           10,
           10,
           10,
           10,
           9,
           9,
           8,
           8,
           7,
           7,
           7,
           6,
           6,
           5
          ],
          "sizemode": "area",
          "sizeref": 0.05625,
          "symbol": "circle"
         },
         "mode": "markers",
         "name": "",
         "orientation": "v",
         "showlegend": false,
         "type": "scatter",
         "x": [
          1.9724621772766113,
          17.08676528930664,
          16.0244140625,
          -13.479292869567871,
          16.966875076293945,
          17.61766242980957,
          -8.157033920288086,
          3.3455469608306885,
          -2.897866725921631,
          17.34204864501953,
          1.861214518547058,
          9.777748107910156,
          -12.871094703674316,
          -7.773120880126953,
          -7.650053024291992,
          3.281282663345337,
          1.9758340120315552,
          3.345721483230591,
          -8.313962936401367,
          -2.8975839614868164,
          3.053468942642212,
          17.536067962646484,
          3.4110753536224365,
          -12.98984432220459,
          16.580402374267578,
          -7.696178913116455,
          9.704635620117188,
          3.513422727584839,
          1.738622784614563,
          17.388267517089844,
          -13.300914764404297,
          16.162281036376953,
          16.63412857055664,
          -7.900922775268555,
          2.2250800132751465,
          10.070854187011719,
          10.194416046142578
         ],
         "xaxis": "x",
         "y": [
          -0.8274794816970825,
          -2.9759111404418945,
          -2.001495361328125,
          -12.842127799987793,
          -2.231668472290039,
          -3.6575567722320557,
          -14.519055366516113,
          12.339764595031738,
          17.285314559936523,
          -3.297866106033325,
          -0.7160955667495728,
          5.433226585388184,
          -12.225268363952637,
          -14.754405975341797,
          -15.105968475341797,
          -10.57028865814209,
          -0.8312340974807739,
          12.339810371398926,
          -14.374147415161133,
          17.281265258789062,
          -10.342639923095703,
          -3.3262510299682617,
          -10.699967384338379,
          -12.34426212310791,
          -2.441098213195801,
          -14.712886810302734,
          5.359988212585449,
          -10.802428245544434,
          -0.5939817428588867,
          -2.6920244693756104,
          -12.65910816192627,
          -2.1630635261535645,
          -2.233515977859497,
          -15.2068452835083,
          -1.080119013786316,
          5.7263898849487305,
          5.849688529968262
         ],
         "yaxis": "y"
        }
       ],
       "layout": {
        "annotations": [
         {
          "showarrow": false,
          "text": "D1",
          "x": -15.501186800003051,
          "y": 1.1951198339462277,
          "yshift": 10
         },
         {
          "showarrow": false,
          "text": "D2",
          "x": 2.379562497138977,
          "xshift": 10,
          "y": 19.878111743927
         }
        ],
        "height": 650,
        "hoverlabel": {
         "bgcolor": "white",
         "font": {
          "family": "Rockwell",
          "size": 16
         }
        },
        "legend": {
         "itemsizing": "constant",
         "tracegroupgap": 0
        },
        "margin": {
         "t": 60
        },
        "shapes": [
         {
          "line": {
           "color": "#CFD8DC",
           "width": 2
          },
          "type": "line",
          "x0": 2.379562497138977,
          "x1": 2.379562497138977,
          "y0": -17.487872076034545,
          "y1": 19.878111743927
         },
         {
          "line": {
           "color": "#9E9E9E",
           "width": 2
          },
          "type": "line",
          "x0": -15.501186800003051,
          "x1": 20.260311794281005,
          "y0": 1.1951198339462277,
          "y1": 1.1951198339462277
         }
        ],
        "sliders": [
         {
          "active": 0,
          "pad": {
           "t": 50
          },
          "steps": [
           {
            "args": [
             {
              "marker.color": [
               [
                "red",
                "#B0BEC5",
                "#B0BEC5",
                "#B0BEC5",
                "#B0BEC5",
                "#B0BEC5",
                "#B0BEC5",
                "#B0BEC5",
                "#B0BEC5",
                "#B0BEC5",
                "#B0BEC5",
                "#B0BEC5",
                "#B0BEC5",
                "#B0BEC5",
                "#B0BEC5",
                "#B0BEC5",
                "#B0BEC5",
                "#B0BEC5",
                "#B0BEC5",
                "#B0BEC5",
                "#B0BEC5",
                "#B0BEC5",
                "#B0BEC5",
                "#B0BEC5",
                "#B0BEC5",
                "#B0BEC5",
                "#B0BEC5",
                "#B0BEC5",
                "#B0BEC5",
                "#B0BEC5",
                "#B0BEC5",
                "#B0BEC5",
                "#B0BEC5",
                "#B0BEC5",
                "#B0BEC5",
                "#B0BEC5",
                "#B0BEC5"
               ]
              ]
             }
            ],
            "label": "Topic 0",
            "method": "update"
           },
           {
            "args": [
             {
              "marker.color": [
               [
                "#B0BEC5",
                "red",
                "#B0BEC5",
                "#B0BEC5",
                "#B0BEC5",
                "#B0BEC5",
                "#B0BEC5",
                "#B0BEC5",
                "#B0BEC5",
                "#B0BEC5",
                "#B0BEC5",
                "#B0BEC5",
                "#B0BEC5",
                "#B0BEC5",
                "#B0BEC5",
                "#B0BEC5",
                "#B0BEC5",
                "#B0BEC5",
                "#B0BEC5",
                "#B0BEC5",
                "#B0BEC5",
                "#B0BEC5",
                "#B0BEC5",
                "#B0BEC5",
                "#B0BEC5",
                "#B0BEC5",
                "#B0BEC5",
                "#B0BEC5",
                "#B0BEC5",
                "#B0BEC5",
                "#B0BEC5",
                "#B0BEC5",
                "#B0BEC5",
                "#B0BEC5",
                "#B0BEC5",
                "#B0BEC5",
                "#B0BEC5"
               ]
              ]
             }
            ],
            "label": "Topic 1",
            "method": "update"
           },
           {
            "args": [
             {
              "marker.color": [
               [
                "#B0BEC5",
                "#B0BEC5",
                "red",
                "#B0BEC5",
                "#B0BEC5",
                "#B0BEC5",
                "#B0BEC5",
                "#B0BEC5",
                "#B0BEC5",
                "#B0BEC5",
                "#B0BEC5",
                "#B0BEC5",
                "#B0BEC5",
                "#B0BEC5",
                "#B0BEC5",
                "#B0BEC5",
                "#B0BEC5",
                "#B0BEC5",
                "#B0BEC5",
                "#B0BEC5",
                "#B0BEC5",
                "#B0BEC5",
                "#B0BEC5",
                "#B0BEC5",
                "#B0BEC5",
                "#B0BEC5",
                "#B0BEC5",
                "#B0BEC5",
                "#B0BEC5",
                "#B0BEC5",
                "#B0BEC5",
                "#B0BEC5",
                "#B0BEC5",
                "#B0BEC5",
                "#B0BEC5",
                "#B0BEC5",
                "#B0BEC5"
               ]
              ]
             }
            ],
            "label": "Topic 2",
            "method": "update"
           },
           {
            "args": [
             {
              "marker.color": [
               [
                "#B0BEC5",
                "#B0BEC5",
                "#B0BEC5",
                "red",
                "#B0BEC5",
                "#B0BEC5",
                "#B0BEC5",
                "#B0BEC5",
                "#B0BEC5",
                "#B0BEC5",
                "#B0BEC5",
                "#B0BEC5",
                "#B0BEC5",
                "#B0BEC5",
                "#B0BEC5",
                "#B0BEC5",
                "#B0BEC5",
                "#B0BEC5",
                "#B0BEC5",
                "#B0BEC5",
                "#B0BEC5",
                "#B0BEC5",
                "#B0BEC5",
                "#B0BEC5",
                "#B0BEC5",
                "#B0BEC5",
                "#B0BEC5",
                "#B0BEC5",
                "#B0BEC5",
                "#B0BEC5",
                "#B0BEC5",
                "#B0BEC5",
                "#B0BEC5",
                "#B0BEC5",
                "#B0BEC5",
                "#B0BEC5",
                "#B0BEC5"
               ]
              ]
             }
            ],
            "label": "Topic 3",
            "method": "update"
           },
           {
            "args": [
             {
              "marker.color": [
               [
                "#B0BEC5",
                "#B0BEC5",
                "#B0BEC5",
                "#B0BEC5",
                "red",
                "#B0BEC5",
                "#B0BEC5",
                "#B0BEC5",
                "#B0BEC5",
                "#B0BEC5",
                "#B0BEC5",
                "#B0BEC5",
                "#B0BEC5",
                "#B0BEC5",
                "#B0BEC5",
                "#B0BEC5",
                "#B0BEC5",
                "#B0BEC5",
                "#B0BEC5",
                "#B0BEC5",
                "#B0BEC5",
                "#B0BEC5",
                "#B0BEC5",
                "#B0BEC5",
                "#B0BEC5",
                "#B0BEC5",
                "#B0BEC5",
                "#B0BEC5",
                "#B0BEC5",
                "#B0BEC5",
                "#B0BEC5",
                "#B0BEC5",
                "#B0BEC5",
                "#B0BEC5",
                "#B0BEC5",
                "#B0BEC5",
                "#B0BEC5"
               ]
              ]
             }
            ],
            "label": "Topic 4",
            "method": "update"
           },
           {
            "args": [
             {
              "marker.color": [
               [
                "#B0BEC5",
                "#B0BEC5",
                "#B0BEC5",
                "#B0BEC5",
                "#B0BEC5",
                "red",
                "#B0BEC5",
                "#B0BEC5",
                "#B0BEC5",
                "#B0BEC5",
                "#B0BEC5",
                "#B0BEC5",
                "#B0BEC5",
                "#B0BEC5",
                "#B0BEC5",
                "#B0BEC5",
                "#B0BEC5",
                "#B0BEC5",
                "#B0BEC5",
                "#B0BEC5",
                "#B0BEC5",
                "#B0BEC5",
                "#B0BEC5",
                "#B0BEC5",
                "#B0BEC5",
                "#B0BEC5",
                "#B0BEC5",
                "#B0BEC5",
                "#B0BEC5",
                "#B0BEC5",
                "#B0BEC5",
                "#B0BEC5",
                "#B0BEC5",
                "#B0BEC5",
                "#B0BEC5",
                "#B0BEC5",
                "#B0BEC5"
               ]
              ]
             }
            ],
            "label": "Topic 5",
            "method": "update"
           },
           {
            "args": [
             {
              "marker.color": [
               [
                "#B0BEC5",
                "#B0BEC5",
                "#B0BEC5",
                "#B0BEC5",
                "#B0BEC5",
                "#B0BEC5",
                "red",
                "#B0BEC5",
                "#B0BEC5",
                "#B0BEC5",
                "#B0BEC5",
                "#B0BEC5",
                "#B0BEC5",
                "#B0BEC5",
                "#B0BEC5",
                "#B0BEC5",
                "#B0BEC5",
                "#B0BEC5",
                "#B0BEC5",
                "#B0BEC5",
                "#B0BEC5",
                "#B0BEC5",
                "#B0BEC5",
                "#B0BEC5",
                "#B0BEC5",
                "#B0BEC5",
                "#B0BEC5",
                "#B0BEC5",
                "#B0BEC5",
                "#B0BEC5",
                "#B0BEC5",
                "#B0BEC5",
                "#B0BEC5",
                "#B0BEC5",
                "#B0BEC5",
                "#B0BEC5",
                "#B0BEC5"
               ]
              ]
             }
            ],
            "label": "Topic 6",
            "method": "update"
           },
           {
            "args": [
             {
              "marker.color": [
               [
                "#B0BEC5",
                "#B0BEC5",
                "#B0BEC5",
                "#B0BEC5",
                "#B0BEC5",
                "#B0BEC5",
                "#B0BEC5",
                "red",
                "#B0BEC5",
                "#B0BEC5",
                "#B0BEC5",
                "#B0BEC5",
                "#B0BEC5",
                "#B0BEC5",
                "#B0BEC5",
                "#B0BEC5",
                "#B0BEC5",
                "#B0BEC5",
                "#B0BEC5",
                "#B0BEC5",
                "#B0BEC5",
                "#B0BEC5",
                "#B0BEC5",
                "#B0BEC5",
                "#B0BEC5",
                "#B0BEC5",
                "#B0BEC5",
                "#B0BEC5",
                "#B0BEC5",
                "#B0BEC5",
                "#B0BEC5",
                "#B0BEC5",
                "#B0BEC5",
                "#B0BEC5",
                "#B0BEC5",
                "#B0BEC5",
                "#B0BEC5"
               ]
              ]
             }
            ],
            "label": "Topic 7",
            "method": "update"
           },
           {
            "args": [
             {
              "marker.color": [
               [
                "#B0BEC5",
                "#B0BEC5",
                "#B0BEC5",
                "#B0BEC5",
                "#B0BEC5",
                "#B0BEC5",
                "#B0BEC5",
                "#B0BEC5",
                "red",
                "#B0BEC5",
                "#B0BEC5",
                "#B0BEC5",
                "#B0BEC5",
                "#B0BEC5",
                "#B0BEC5",
                "#B0BEC5",
                "#B0BEC5",
                "#B0BEC5",
                "#B0BEC5",
                "#B0BEC5",
                "#B0BEC5",
                "#B0BEC5",
                "#B0BEC5",
                "#B0BEC5",
                "#B0BEC5",
                "#B0BEC5",
                "#B0BEC5",
                "#B0BEC5",
                "#B0BEC5",
                "#B0BEC5",
                "#B0BEC5",
                "#B0BEC5",
                "#B0BEC5",
                "#B0BEC5",
                "#B0BEC5",
                "#B0BEC5",
                "#B0BEC5"
               ]
              ]
             }
            ],
            "label": "Topic 8",
            "method": "update"
           },
           {
            "args": [
             {
              "marker.color": [
               [
                "#B0BEC5",
                "#B0BEC5",
                "#B0BEC5",
                "#B0BEC5",
                "#B0BEC5",
                "#B0BEC5",
                "#B0BEC5",
                "#B0BEC5",
                "#B0BEC5",
                "red",
                "#B0BEC5",
                "#B0BEC5",
                "#B0BEC5",
                "#B0BEC5",
                "#B0BEC5",
                "#B0BEC5",
                "#B0BEC5",
                "#B0BEC5",
                "#B0BEC5",
                "#B0BEC5",
                "#B0BEC5",
                "#B0BEC5",
                "#B0BEC5",
                "#B0BEC5",
                "#B0BEC5",
                "#B0BEC5",
                "#B0BEC5",
                "#B0BEC5",
                "#B0BEC5",
                "#B0BEC5",
                "#B0BEC5",
                "#B0BEC5",
                "#B0BEC5",
                "#B0BEC5",
                "#B0BEC5",
                "#B0BEC5",
                "#B0BEC5"
               ]
              ]
             }
            ],
            "label": "Topic 9",
            "method": "update"
           },
           {
            "args": [
             {
              "marker.color": [
               [
                "#B0BEC5",
                "#B0BEC5",
                "#B0BEC5",
                "#B0BEC5",
                "#B0BEC5",
                "#B0BEC5",
                "#B0BEC5",
                "#B0BEC5",
                "#B0BEC5",
                "#B0BEC5",
                "red",
                "#B0BEC5",
                "#B0BEC5",
                "#B0BEC5",
                "#B0BEC5",
                "#B0BEC5",
                "#B0BEC5",
                "#B0BEC5",
                "#B0BEC5",
                "#B0BEC5",
                "#B0BEC5",
                "#B0BEC5",
                "#B0BEC5",
                "#B0BEC5",
                "#B0BEC5",
                "#B0BEC5",
                "#B0BEC5",
                "#B0BEC5",
                "#B0BEC5",
                "#B0BEC5",
                "#B0BEC5",
                "#B0BEC5",
                "#B0BEC5",
                "#B0BEC5",
                "#B0BEC5",
                "#B0BEC5",
                "#B0BEC5"
               ]
              ]
             }
            ],
            "label": "Topic 10",
            "method": "update"
           },
           {
            "args": [
             {
              "marker.color": [
               [
                "#B0BEC5",
                "#B0BEC5",
                "#B0BEC5",
                "#B0BEC5",
                "#B0BEC5",
                "#B0BEC5",
                "#B0BEC5",
                "#B0BEC5",
                "#B0BEC5",
                "#B0BEC5",
                "#B0BEC5",
                "red",
                "#B0BEC5",
                "#B0BEC5",
                "#B0BEC5",
                "#B0BEC5",
                "#B0BEC5",
                "#B0BEC5",
                "#B0BEC5",
                "#B0BEC5",
                "#B0BEC5",
                "#B0BEC5",
                "#B0BEC5",
                "#B0BEC5",
                "#B0BEC5",
                "#B0BEC5",
                "#B0BEC5",
                "#B0BEC5",
                "#B0BEC5",
                "#B0BEC5",
                "#B0BEC5",
                "#B0BEC5",
                "#B0BEC5",
                "#B0BEC5",
                "#B0BEC5",
                "#B0BEC5",
                "#B0BEC5"
               ]
              ]
             }
            ],
            "label": "Topic 11",
            "method": "update"
           },
           {
            "args": [
             {
              "marker.color": [
               [
                "#B0BEC5",
                "#B0BEC5",
                "#B0BEC5",
                "#B0BEC5",
                "#B0BEC5",
                "#B0BEC5",
                "#B0BEC5",
                "#B0BEC5",
                "#B0BEC5",
                "#B0BEC5",
                "#B0BEC5",
                "#B0BEC5",
                "red",
                "#B0BEC5",
                "#B0BEC5",
                "#B0BEC5",
                "#B0BEC5",
                "#B0BEC5",
                "#B0BEC5",
                "#B0BEC5",
                "#B0BEC5",
                "#B0BEC5",
                "#B0BEC5",
                "#B0BEC5",
                "#B0BEC5",
                "#B0BEC5",
                "#B0BEC5",
                "#B0BEC5",
                "#B0BEC5",
                "#B0BEC5",
                "#B0BEC5",
                "#B0BEC5",
                "#B0BEC5",
                "#B0BEC5",
                "#B0BEC5",
                "#B0BEC5",
                "#B0BEC5"
               ]
              ]
             }
            ],
            "label": "Topic 12",
            "method": "update"
           },
           {
            "args": [
             {
              "marker.color": [
               [
                "#B0BEC5",
                "#B0BEC5",
                "#B0BEC5",
                "#B0BEC5",
                "#B0BEC5",
                "#B0BEC5",
                "#B0BEC5",
                "#B0BEC5",
                "#B0BEC5",
                "#B0BEC5",
                "#B0BEC5",
                "#B0BEC5",
                "#B0BEC5",
                "red",
                "#B0BEC5",
                "#B0BEC5",
                "#B0BEC5",
                "#B0BEC5",
                "#B0BEC5",
                "#B0BEC5",
                "#B0BEC5",
                "#B0BEC5",
                "#B0BEC5",
                "#B0BEC5",
                "#B0BEC5",
                "#B0BEC5",
                "#B0BEC5",
                "#B0BEC5",
                "#B0BEC5",
                "#B0BEC5",
                "#B0BEC5",
                "#B0BEC5",
                "#B0BEC5",
                "#B0BEC5",
                "#B0BEC5",
                "#B0BEC5",
                "#B0BEC5"
               ]
              ]
             }
            ],
            "label": "Topic 13",
            "method": "update"
           },
           {
            "args": [
             {
              "marker.color": [
               [
                "#B0BEC5",
                "#B0BEC5",
                "#B0BEC5",
                "#B0BEC5",
                "#B0BEC5",
                "#B0BEC5",
                "#B0BEC5",
                "#B0BEC5",
                "#B0BEC5",
                "#B0BEC5",
                "#B0BEC5",
                "#B0BEC5",
                "#B0BEC5",
                "#B0BEC5",
                "red",
                "#B0BEC5",
                "#B0BEC5",
                "#B0BEC5",
                "#B0BEC5",
                "#B0BEC5",
                "#B0BEC5",
                "#B0BEC5",
                "#B0BEC5",
                "#B0BEC5",
                "#B0BEC5",
                "#B0BEC5",
                "#B0BEC5",
                "#B0BEC5",
                "#B0BEC5",
                "#B0BEC5",
                "#B0BEC5",
                "#B0BEC5",
                "#B0BEC5",
                "#B0BEC5",
                "#B0BEC5",
                "#B0BEC5",
                "#B0BEC5"
               ]
              ]
             }
            ],
            "label": "Topic 14",
            "method": "update"
           },
           {
            "args": [
             {
              "marker.color": [
               [
                "#B0BEC5",
                "#B0BEC5",
                "#B0BEC5",
                "#B0BEC5",
                "#B0BEC5",
                "#B0BEC5",
                "#B0BEC5",
                "#B0BEC5",
                "#B0BEC5",
                "#B0BEC5",
                "#B0BEC5",
                "#B0BEC5",
                "#B0BEC5",
                "#B0BEC5",
                "#B0BEC5",
                "red",
                "#B0BEC5",
                "#B0BEC5",
                "#B0BEC5",
                "#B0BEC5",
                "#B0BEC5",
                "#B0BEC5",
                "#B0BEC5",
                "#B0BEC5",
                "#B0BEC5",
                "#B0BEC5",
                "#B0BEC5",
                "#B0BEC5",
                "#B0BEC5",
                "#B0BEC5",
                "#B0BEC5",
                "#B0BEC5",
                "#B0BEC5",
                "#B0BEC5",
                "#B0BEC5",
                "#B0BEC5",
                "#B0BEC5"
               ]
              ]
             }
            ],
            "label": "Topic 15",
            "method": "update"
           },
           {
            "args": [
             {
              "marker.color": [
               [
                "#B0BEC5",
                "#B0BEC5",
                "#B0BEC5",
                "#B0BEC5",
                "#B0BEC5",
                "#B0BEC5",
                "#B0BEC5",
                "#B0BEC5",
                "#B0BEC5",
                "#B0BEC5",
                "#B0BEC5",
                "#B0BEC5",
                "#B0BEC5",
                "#B0BEC5",
                "#B0BEC5",
                "#B0BEC5",
                "red",
                "#B0BEC5",
                "#B0BEC5",
                "#B0BEC5",
                "#B0BEC5",
                "#B0BEC5",
                "#B0BEC5",
                "#B0BEC5",
                "#B0BEC5",
                "#B0BEC5",
                "#B0BEC5",
                "#B0BEC5",
                "#B0BEC5",
                "#B0BEC5",
                "#B0BEC5",
                "#B0BEC5",
                "#B0BEC5",
                "#B0BEC5",
                "#B0BEC5",
                "#B0BEC5",
                "#B0BEC5"
               ]
              ]
             }
            ],
            "label": "Topic 16",
            "method": "update"
           },
           {
            "args": [
             {
              "marker.color": [
               [
                "#B0BEC5",
                "#B0BEC5",
                "#B0BEC5",
                "#B0BEC5",
                "#B0BEC5",
                "#B0BEC5",
                "#B0BEC5",
                "#B0BEC5",
                "#B0BEC5",
                "#B0BEC5",
                "#B0BEC5",
                "#B0BEC5",
                "#B0BEC5",
                "#B0BEC5",
                "#B0BEC5",
                "#B0BEC5",
                "#B0BEC5",
                "red",
                "#B0BEC5",
                "#B0BEC5",
                "#B0BEC5",
                "#B0BEC5",
                "#B0BEC5",
                "#B0BEC5",
                "#B0BEC5",
                "#B0BEC5",
                "#B0BEC5",
                "#B0BEC5",
                "#B0BEC5",
                "#B0BEC5",
                "#B0BEC5",
                "#B0BEC5",
                "#B0BEC5",
                "#B0BEC5",
                "#B0BEC5",
                "#B0BEC5",
                "#B0BEC5"
               ]
              ]
             }
            ],
            "label": "Topic 17",
            "method": "update"
           },
           {
            "args": [
             {
              "marker.color": [
               [
                "#B0BEC5",
                "#B0BEC5",
                "#B0BEC5",
                "#B0BEC5",
                "#B0BEC5",
                "#B0BEC5",
                "#B0BEC5",
                "#B0BEC5",
                "#B0BEC5",
                "#B0BEC5",
                "#B0BEC5",
                "#B0BEC5",
                "#B0BEC5",
                "#B0BEC5",
                "#B0BEC5",
                "#B0BEC5",
                "#B0BEC5",
                "#B0BEC5",
                "red",
                "#B0BEC5",
                "#B0BEC5",
                "#B0BEC5",
                "#B0BEC5",
                "#B0BEC5",
                "#B0BEC5",
                "#B0BEC5",
                "#B0BEC5",
                "#B0BEC5",
                "#B0BEC5",
                "#B0BEC5",
                "#B0BEC5",
                "#B0BEC5",
                "#B0BEC5",
                "#B0BEC5",
                "#B0BEC5",
                "#B0BEC5",
                "#B0BEC5"
               ]
              ]
             }
            ],
            "label": "Topic 18",
            "method": "update"
           },
           {
            "args": [
             {
              "marker.color": [
               [
                "#B0BEC5",
                "#B0BEC5",
                "#B0BEC5",
                "#B0BEC5",
                "#B0BEC5",
                "#B0BEC5",
                "#B0BEC5",
                "#B0BEC5",
                "#B0BEC5",
                "#B0BEC5",
                "#B0BEC5",
                "#B0BEC5",
                "#B0BEC5",
                "#B0BEC5",
                "#B0BEC5",
                "#B0BEC5",
                "#B0BEC5",
                "#B0BEC5",
                "#B0BEC5",
                "red",
                "#B0BEC5",
                "#B0BEC5",
                "#B0BEC5",
                "#B0BEC5",
                "#B0BEC5",
                "#B0BEC5",
                "#B0BEC5",
                "#B0BEC5",
                "#B0BEC5",
                "#B0BEC5",
                "#B0BEC5",
                "#B0BEC5",
                "#B0BEC5",
                "#B0BEC5",
                "#B0BEC5",
                "#B0BEC5",
                "#B0BEC5"
               ]
              ]
             }
            ],
            "label": "Topic 19",
            "method": "update"
           },
           {
            "args": [
             {
              "marker.color": [
               [
                "#B0BEC5",
                "#B0BEC5",
                "#B0BEC5",
                "#B0BEC5",
                "#B0BEC5",
                "#B0BEC5",
                "#B0BEC5",
                "#B0BEC5",
                "#B0BEC5",
                "#B0BEC5",
                "#B0BEC5",
                "#B0BEC5",
                "#B0BEC5",
                "#B0BEC5",
                "#B0BEC5",
                "#B0BEC5",
                "#B0BEC5",
                "#B0BEC5",
                "#B0BEC5",
                "#B0BEC5",
                "red",
                "#B0BEC5",
                "#B0BEC5",
                "#B0BEC5",
                "#B0BEC5",
                "#B0BEC5",
                "#B0BEC5",
                "#B0BEC5",
                "#B0BEC5",
                "#B0BEC5",
                "#B0BEC5",
                "#B0BEC5",
                "#B0BEC5",
                "#B0BEC5",
                "#B0BEC5",
                "#B0BEC5",
                "#B0BEC5"
               ]
              ]
             }
            ],
            "label": "Topic 20",
            "method": "update"
           },
           {
            "args": [
             {
              "marker.color": [
               [
                "#B0BEC5",
                "#B0BEC5",
                "#B0BEC5",
                "#B0BEC5",
                "#B0BEC5",
                "#B0BEC5",
                "#B0BEC5",
                "#B0BEC5",
                "#B0BEC5",
                "#B0BEC5",
                "#B0BEC5",
                "#B0BEC5",
                "#B0BEC5",
                "#B0BEC5",
                "#B0BEC5",
                "#B0BEC5",
                "#B0BEC5",
                "#B0BEC5",
                "#B0BEC5",
                "#B0BEC5",
                "#B0BEC5",
                "red",
                "#B0BEC5",
                "#B0BEC5",
                "#B0BEC5",
                "#B0BEC5",
                "#B0BEC5",
                "#B0BEC5",
                "#B0BEC5",
                "#B0BEC5",
                "#B0BEC5",
                "#B0BEC5",
                "#B0BEC5",
                "#B0BEC5",
                "#B0BEC5",
                "#B0BEC5",
                "#B0BEC5"
               ]
              ]
             }
            ],
            "label": "Topic 21",
            "method": "update"
           },
           {
            "args": [
             {
              "marker.color": [
               [
                "#B0BEC5",
                "#B0BEC5",
                "#B0BEC5",
                "#B0BEC5",
                "#B0BEC5",
                "#B0BEC5",
                "#B0BEC5",
                "#B0BEC5",
                "#B0BEC5",
                "#B0BEC5",
                "#B0BEC5",
                "#B0BEC5",
                "#B0BEC5",
                "#B0BEC5",
                "#B0BEC5",
                "#B0BEC5",
                "#B0BEC5",
                "#B0BEC5",
                "#B0BEC5",
                "#B0BEC5",
                "#B0BEC5",
                "#B0BEC5",
                "red",
                "#B0BEC5",
                "#B0BEC5",
                "#B0BEC5",
                "#B0BEC5",
                "#B0BEC5",
                "#B0BEC5",
                "#B0BEC5",
                "#B0BEC5",
                "#B0BEC5",
                "#B0BEC5",
                "#B0BEC5",
                "#B0BEC5",
                "#B0BEC5",
                "#B0BEC5"
               ]
              ]
             }
            ],
            "label": "Topic 22",
            "method": "update"
           },
           {
            "args": [
             {
              "marker.color": [
               [
                "#B0BEC5",
                "#B0BEC5",
                "#B0BEC5",
                "#B0BEC5",
                "#B0BEC5",
                "#B0BEC5",
                "#B0BEC5",
                "#B0BEC5",
                "#B0BEC5",
                "#B0BEC5",
                "#B0BEC5",
                "#B0BEC5",
                "#B0BEC5",
                "#B0BEC5",
                "#B0BEC5",
                "#B0BEC5",
                "#B0BEC5",
                "#B0BEC5",
                "#B0BEC5",
                "#B0BEC5",
                "#B0BEC5",
                "#B0BEC5",
                "#B0BEC5",
                "red",
                "#B0BEC5",
                "#B0BEC5",
                "#B0BEC5",
                "#B0BEC5",
                "#B0BEC5",
                "#B0BEC5",
                "#B0BEC5",
                "#B0BEC5",
                "#B0BEC5",
                "#B0BEC5",
                "#B0BEC5",
                "#B0BEC5",
                "#B0BEC5"
               ]
              ]
             }
            ],
            "label": "Topic 23",
            "method": "update"
           },
           {
            "args": [
             {
              "marker.color": [
               [
                "#B0BEC5",
                "#B0BEC5",
                "#B0BEC5",
                "#B0BEC5",
                "#B0BEC5",
                "#B0BEC5",
                "#B0BEC5",
                "#B0BEC5",
                "#B0BEC5",
                "#B0BEC5",
                "#B0BEC5",
                "#B0BEC5",
                "#B0BEC5",
                "#B0BEC5",
                "#B0BEC5",
                "#B0BEC5",
                "#B0BEC5",
                "#B0BEC5",
                "#B0BEC5",
                "#B0BEC5",
                "#B0BEC5",
                "#B0BEC5",
                "#B0BEC5",
                "#B0BEC5",
                "red",
                "#B0BEC5",
                "#B0BEC5",
                "#B0BEC5",
                "#B0BEC5",
                "#B0BEC5",
                "#B0BEC5",
                "#B0BEC5",
                "#B0BEC5",
                "#B0BEC5",
                "#B0BEC5",
                "#B0BEC5",
                "#B0BEC5"
               ]
              ]
             }
            ],
            "label": "Topic 24",
            "method": "update"
           },
           {
            "args": [
             {
              "marker.color": [
               [
                "#B0BEC5",
                "#B0BEC5",
                "#B0BEC5",
                "#B0BEC5",
                "#B0BEC5",
                "#B0BEC5",
                "#B0BEC5",
                "#B0BEC5",
                "#B0BEC5",
                "#B0BEC5",
                "#B0BEC5",
                "#B0BEC5",
                "#B0BEC5",
                "#B0BEC5",
                "#B0BEC5",
                "#B0BEC5",
                "#B0BEC5",
                "#B0BEC5",
                "#B0BEC5",
                "#B0BEC5",
                "#B0BEC5",
                "#B0BEC5",
                "#B0BEC5",
                "#B0BEC5",
                "#B0BEC5",
                "red",
                "#B0BEC5",
                "#B0BEC5",
                "#B0BEC5",
                "#B0BEC5",
                "#B0BEC5",
                "#B0BEC5",
                "#B0BEC5",
                "#B0BEC5",
                "#B0BEC5",
                "#B0BEC5",
                "#B0BEC5"
               ]
              ]
             }
            ],
            "label": "Topic 25",
            "method": "update"
           },
           {
            "args": [
             {
              "marker.color": [
               [
                "#B0BEC5",
                "#B0BEC5",
                "#B0BEC5",
                "#B0BEC5",
                "#B0BEC5",
                "#B0BEC5",
                "#B0BEC5",
                "#B0BEC5",
                "#B0BEC5",
                "#B0BEC5",
                "#B0BEC5",
                "#B0BEC5",
                "#B0BEC5",
                "#B0BEC5",
                "#B0BEC5",
                "#B0BEC5",
                "#B0BEC5",
                "#B0BEC5",
                "#B0BEC5",
                "#B0BEC5",
                "#B0BEC5",
                "#B0BEC5",
                "#B0BEC5",
                "#B0BEC5",
                "#B0BEC5",
                "#B0BEC5",
                "red",
                "#B0BEC5",
                "#B0BEC5",
                "#B0BEC5",
                "#B0BEC5",
                "#B0BEC5",
                "#B0BEC5",
                "#B0BEC5",
                "#B0BEC5",
                "#B0BEC5",
                "#B0BEC5"
               ]
              ]
             }
            ],
            "label": "Topic 26",
            "method": "update"
           },
           {
            "args": [
             {
              "marker.color": [
               [
                "#B0BEC5",
                "#B0BEC5",
                "#B0BEC5",
                "#B0BEC5",
                "#B0BEC5",
                "#B0BEC5",
                "#B0BEC5",
                "#B0BEC5",
                "#B0BEC5",
                "#B0BEC5",
                "#B0BEC5",
                "#B0BEC5",
                "#B0BEC5",
                "#B0BEC5",
                "#B0BEC5",
                "#B0BEC5",
                "#B0BEC5",
                "#B0BEC5",
                "#B0BEC5",
                "#B0BEC5",
                "#B0BEC5",
                "#B0BEC5",
                "#B0BEC5",
                "#B0BEC5",
                "#B0BEC5",
                "#B0BEC5",
                "#B0BEC5",
                "red",
                "#B0BEC5",
                "#B0BEC5",
                "#B0BEC5",
                "#B0BEC5",
                "#B0BEC5",
                "#B0BEC5",
                "#B0BEC5",
                "#B0BEC5",
                "#B0BEC5"
               ]
              ]
             }
            ],
            "label": "Topic 27",
            "method": "update"
           },
           {
            "args": [
             {
              "marker.color": [
               [
                "#B0BEC5",
                "#B0BEC5",
                "#B0BEC5",
                "#B0BEC5",
                "#B0BEC5",
                "#B0BEC5",
                "#B0BEC5",
                "#B0BEC5",
                "#B0BEC5",
                "#B0BEC5",
                "#B0BEC5",
                "#B0BEC5",
                "#B0BEC5",
                "#B0BEC5",
                "#B0BEC5",
                "#B0BEC5",
                "#B0BEC5",
                "#B0BEC5",
                "#B0BEC5",
                "#B0BEC5",
                "#B0BEC5",
                "#B0BEC5",
                "#B0BEC5",
                "#B0BEC5",
                "#B0BEC5",
                "#B0BEC5",
                "#B0BEC5",
                "#B0BEC5",
                "red",
                "#B0BEC5",
                "#B0BEC5",
                "#B0BEC5",
                "#B0BEC5",
                "#B0BEC5",
                "#B0BEC5",
                "#B0BEC5",
                "#B0BEC5"
               ]
              ]
             }
            ],
            "label": "Topic 28",
            "method": "update"
           },
           {
            "args": [
             {
              "marker.color": [
               [
                "#B0BEC5",
                "#B0BEC5",
                "#B0BEC5",
                "#B0BEC5",
                "#B0BEC5",
                "#B0BEC5",
                "#B0BEC5",
                "#B0BEC5",
                "#B0BEC5",
                "#B0BEC5",
                "#B0BEC5",
                "#B0BEC5",
                "#B0BEC5",
                "#B0BEC5",
                "#B0BEC5",
                "#B0BEC5",
                "#B0BEC5",
                "#B0BEC5",
                "#B0BEC5",
                "#B0BEC5",
                "#B0BEC5",
                "#B0BEC5",
                "#B0BEC5",
                "#B0BEC5",
                "#B0BEC5",
                "#B0BEC5",
                "#B0BEC5",
                "#B0BEC5",
                "#B0BEC5",
                "red",
                "#B0BEC5",
                "#B0BEC5",
                "#B0BEC5",
                "#B0BEC5",
                "#B0BEC5",
                "#B0BEC5",
                "#B0BEC5"
               ]
              ]
             }
            ],
            "label": "Topic 29",
            "method": "update"
           },
           {
            "args": [
             {
              "marker.color": [
               [
                "#B0BEC5",
                "#B0BEC5",
                "#B0BEC5",
                "#B0BEC5",
                "#B0BEC5",
                "#B0BEC5",
                "#B0BEC5",
                "#B0BEC5",
                "#B0BEC5",
                "#B0BEC5",
                "#B0BEC5",
                "#B0BEC5",
                "#B0BEC5",
                "#B0BEC5",
                "#B0BEC5",
                "#B0BEC5",
                "#B0BEC5",
                "#B0BEC5",
                "#B0BEC5",
                "#B0BEC5",
                "#B0BEC5",
                "#B0BEC5",
                "#B0BEC5",
                "#B0BEC5",
                "#B0BEC5",
                "#B0BEC5",
                "#B0BEC5",
                "#B0BEC5",
                "#B0BEC5",
                "#B0BEC5",
                "red",
                "#B0BEC5",
                "#B0BEC5",
                "#B0BEC5",
                "#B0BEC5",
                "#B0BEC5",
                "#B0BEC5"
               ]
              ]
             }
            ],
            "label": "Topic 30",
            "method": "update"
           },
           {
            "args": [
             {
              "marker.color": [
               [
                "#B0BEC5",
                "#B0BEC5",
                "#B0BEC5",
                "#B0BEC5",
                "#B0BEC5",
                "#B0BEC5",
                "#B0BEC5",
                "#B0BEC5",
                "#B0BEC5",
                "#B0BEC5",
                "#B0BEC5",
                "#B0BEC5",
                "#B0BEC5",
                "#B0BEC5",
                "#B0BEC5",
                "#B0BEC5",
                "#B0BEC5",
                "#B0BEC5",
                "#B0BEC5",
                "#B0BEC5",
                "#B0BEC5",
                "#B0BEC5",
                "#B0BEC5",
                "#B0BEC5",
                "#B0BEC5",
                "#B0BEC5",
                "#B0BEC5",
                "#B0BEC5",
                "#B0BEC5",
                "#B0BEC5",
                "#B0BEC5",
                "red",
                "#B0BEC5",
                "#B0BEC5",
                "#B0BEC5",
                "#B0BEC5",
                "#B0BEC5"
               ]
              ]
             }
            ],
            "label": "Topic 31",
            "method": "update"
           },
           {
            "args": [
             {
              "marker.color": [
               [
                "#B0BEC5",
                "#B0BEC5",
                "#B0BEC5",
                "#B0BEC5",
                "#B0BEC5",
                "#B0BEC5",
                "#B0BEC5",
                "#B0BEC5",
                "#B0BEC5",
                "#B0BEC5",
                "#B0BEC5",
                "#B0BEC5",
                "#B0BEC5",
                "#B0BEC5",
                "#B0BEC5",
                "#B0BEC5",
                "#B0BEC5",
                "#B0BEC5",
                "#B0BEC5",
                "#B0BEC5",
                "#B0BEC5",
                "#B0BEC5",
                "#B0BEC5",
                "#B0BEC5",
                "#B0BEC5",
                "#B0BEC5",
                "#B0BEC5",
                "#B0BEC5",
                "#B0BEC5",
                "#B0BEC5",
                "#B0BEC5",
                "#B0BEC5",
                "red",
                "#B0BEC5",
                "#B0BEC5",
                "#B0BEC5",
                "#B0BEC5"
               ]
              ]
             }
            ],
            "label": "Topic 32",
            "method": "update"
           },
           {
            "args": [
             {
              "marker.color": [
               [
                "#B0BEC5",
                "#B0BEC5",
                "#B0BEC5",
                "#B0BEC5",
                "#B0BEC5",
                "#B0BEC5",
                "#B0BEC5",
                "#B0BEC5",
                "#B0BEC5",
                "#B0BEC5",
                "#B0BEC5",
                "#B0BEC5",
                "#B0BEC5",
                "#B0BEC5",
                "#B0BEC5",
                "#B0BEC5",
                "#B0BEC5",
                "#B0BEC5",
                "#B0BEC5",
                "#B0BEC5",
                "#B0BEC5",
                "#B0BEC5",
                "#B0BEC5",
                "#B0BEC5",
                "#B0BEC5",
                "#B0BEC5",
                "#B0BEC5",
                "#B0BEC5",
                "#B0BEC5",
                "#B0BEC5",
                "#B0BEC5",
                "#B0BEC5",
                "#B0BEC5",
                "red",
                "#B0BEC5",
                "#B0BEC5",
                "#B0BEC5"
               ]
              ]
             }
            ],
            "label": "Topic 33",
            "method": "update"
           },
           {
            "args": [
             {
              "marker.color": [
               [
                "#B0BEC5",
                "#B0BEC5",
                "#B0BEC5",
                "#B0BEC5",
                "#B0BEC5",
                "#B0BEC5",
                "#B0BEC5",
                "#B0BEC5",
                "#B0BEC5",
                "#B0BEC5",
                "#B0BEC5",
                "#B0BEC5",
                "#B0BEC5",
                "#B0BEC5",
                "#B0BEC5",
                "#B0BEC5",
                "#B0BEC5",
                "#B0BEC5",
                "#B0BEC5",
                "#B0BEC5",
                "#B0BEC5",
                "#B0BEC5",
                "#B0BEC5",
                "#B0BEC5",
                "#B0BEC5",
                "#B0BEC5",
                "#B0BEC5",
                "#B0BEC5",
                "#B0BEC5",
                "#B0BEC5",
                "#B0BEC5",
                "#B0BEC5",
                "#B0BEC5",
                "#B0BEC5",
                "red",
                "#B0BEC5",
                "#B0BEC5"
               ]
              ]
             }
            ],
            "label": "Topic 34",
            "method": "update"
           },
           {
            "args": [
             {
              "marker.color": [
               [
                "#B0BEC5",
                "#B0BEC5",
                "#B0BEC5",
                "#B0BEC5",
                "#B0BEC5",
                "#B0BEC5",
                "#B0BEC5",
                "#B0BEC5",
                "#B0BEC5",
                "#B0BEC5",
                "#B0BEC5",
                "#B0BEC5",
                "#B0BEC5",
                "#B0BEC5",
                "#B0BEC5",
                "#B0BEC5",
                "#B0BEC5",
                "#B0BEC5",
                "#B0BEC5",
                "#B0BEC5",
                "#B0BEC5",
                "#B0BEC5",
                "#B0BEC5",
                "#B0BEC5",
                "#B0BEC5",
                "#B0BEC5",
                "#B0BEC5",
                "#B0BEC5",
                "#B0BEC5",
                "#B0BEC5",
                "#B0BEC5",
                "#B0BEC5",
                "#B0BEC5",
                "#B0BEC5",
                "#B0BEC5",
                "red",
                "#B0BEC5"
               ]
              ]
             }
            ],
            "label": "Topic 35",
            "method": "update"
           },
           {
            "args": [
             {
              "marker.color": [
               [
                "#B0BEC5",
                "#B0BEC5",
                "#B0BEC5",
                "#B0BEC5",
                "#B0BEC5",
                "#B0BEC5",
                "#B0BEC5",
                "#B0BEC5",
                "#B0BEC5",
                "#B0BEC5",
                "#B0BEC5",
                "#B0BEC5",
                "#B0BEC5",
                "#B0BEC5",
                "#B0BEC5",
                "#B0BEC5",
                "#B0BEC5",
                "#B0BEC5",
                "#B0BEC5",
                "#B0BEC5",
                "#B0BEC5",
                "#B0BEC5",
                "#B0BEC5",
                "#B0BEC5",
                "#B0BEC5",
                "#B0BEC5",
                "#B0BEC5",
                "#B0BEC5",
                "#B0BEC5",
                "#B0BEC5",
                "#B0BEC5",
                "#B0BEC5",
                "#B0BEC5",
                "#B0BEC5",
                "#B0BEC5",
                "#B0BEC5",
                "red"
               ]
              ]
             }
            ],
            "label": "Topic 36",
            "method": "update"
           }
          ]
         }
        ],
        "template": {
         "data": {
          "bar": [
           {
            "error_x": {
             "color": "rgb(36,36,36)"
            },
            "error_y": {
             "color": "rgb(36,36,36)"
            },
            "marker": {
             "line": {
              "color": "white",
              "width": 0.5
             },
             "pattern": {
              "fillmode": "overlay",
              "size": 10,
              "solidity": 0.2
             }
            },
            "type": "bar"
           }
          ],
          "barpolar": [
           {
            "marker": {
             "line": {
              "color": "white",
              "width": 0.5
             },
             "pattern": {
              "fillmode": "overlay",
              "size": 10,
              "solidity": 0.2
             }
            },
            "type": "barpolar"
           }
          ],
          "carpet": [
           {
            "aaxis": {
             "endlinecolor": "rgb(36,36,36)",
             "gridcolor": "white",
             "linecolor": "white",
             "minorgridcolor": "white",
             "startlinecolor": "rgb(36,36,36)"
            },
            "baxis": {
             "endlinecolor": "rgb(36,36,36)",
             "gridcolor": "white",
             "linecolor": "white",
             "minorgridcolor": "white",
             "startlinecolor": "rgb(36,36,36)"
            },
            "type": "carpet"
           }
          ],
          "choropleth": [
           {
            "colorbar": {
             "outlinewidth": 1,
             "tickcolor": "rgb(36,36,36)",
             "ticks": "outside"
            },
            "type": "choropleth"
           }
          ],
          "contour": [
           {
            "colorbar": {
             "outlinewidth": 1,
             "tickcolor": "rgb(36,36,36)",
             "ticks": "outside"
            },
            "colorscale": [
             [
              0,
              "#440154"
             ],
             [
              0.1111111111111111,
              "#482878"
             ],
             [
              0.2222222222222222,
              "#3e4989"
             ],
             [
              0.3333333333333333,
              "#31688e"
             ],
             [
              0.4444444444444444,
              "#26828e"
             ],
             [
              0.5555555555555556,
              "#1f9e89"
             ],
             [
              0.6666666666666666,
              "#35b779"
             ],
             [
              0.7777777777777778,
              "#6ece58"
             ],
             [
              0.8888888888888888,
              "#b5de2b"
             ],
             [
              1,
              "#fde725"
             ]
            ],
            "type": "contour"
           }
          ],
          "contourcarpet": [
           {
            "colorbar": {
             "outlinewidth": 1,
             "tickcolor": "rgb(36,36,36)",
             "ticks": "outside"
            },
            "type": "contourcarpet"
           }
          ],
          "heatmap": [
           {
            "colorbar": {
             "outlinewidth": 1,
             "tickcolor": "rgb(36,36,36)",
             "ticks": "outside"
            },
            "colorscale": [
             [
              0,
              "#440154"
             ],
             [
              0.1111111111111111,
              "#482878"
             ],
             [
              0.2222222222222222,
              "#3e4989"
             ],
             [
              0.3333333333333333,
              "#31688e"
             ],
             [
              0.4444444444444444,
              "#26828e"
             ],
             [
              0.5555555555555556,
              "#1f9e89"
             ],
             [
              0.6666666666666666,
              "#35b779"
             ],
             [
              0.7777777777777778,
              "#6ece58"
             ],
             [
              0.8888888888888888,
              "#b5de2b"
             ],
             [
              1,
              "#fde725"
             ]
            ],
            "type": "heatmap"
           }
          ],
          "heatmapgl": [
           {
            "colorbar": {
             "outlinewidth": 1,
             "tickcolor": "rgb(36,36,36)",
             "ticks": "outside"
            },
            "colorscale": [
             [
              0,
              "#440154"
             ],
             [
              0.1111111111111111,
              "#482878"
             ],
             [
              0.2222222222222222,
              "#3e4989"
             ],
             [
              0.3333333333333333,
              "#31688e"
             ],
             [
              0.4444444444444444,
              "#26828e"
             ],
             [
              0.5555555555555556,
              "#1f9e89"
             ],
             [
              0.6666666666666666,
              "#35b779"
             ],
             [
              0.7777777777777778,
              "#6ece58"
             ],
             [
              0.8888888888888888,
              "#b5de2b"
             ],
             [
              1,
              "#fde725"
             ]
            ],
            "type": "heatmapgl"
           }
          ],
          "histogram": [
           {
            "marker": {
             "line": {
              "color": "white",
              "width": 0.6
             }
            },
            "type": "histogram"
           }
          ],
          "histogram2d": [
           {
            "colorbar": {
             "outlinewidth": 1,
             "tickcolor": "rgb(36,36,36)",
             "ticks": "outside"
            },
            "colorscale": [
             [
              0,
              "#440154"
             ],
             [
              0.1111111111111111,
              "#482878"
             ],
             [
              0.2222222222222222,
              "#3e4989"
             ],
             [
              0.3333333333333333,
              "#31688e"
             ],
             [
              0.4444444444444444,
              "#26828e"
             ],
             [
              0.5555555555555556,
              "#1f9e89"
             ],
             [
              0.6666666666666666,
              "#35b779"
             ],
             [
              0.7777777777777778,
              "#6ece58"
             ],
             [
              0.8888888888888888,
              "#b5de2b"
             ],
             [
              1,
              "#fde725"
             ]
            ],
            "type": "histogram2d"
           }
          ],
          "histogram2dcontour": [
           {
            "colorbar": {
             "outlinewidth": 1,
             "tickcolor": "rgb(36,36,36)",
             "ticks": "outside"
            },
            "colorscale": [
             [
              0,
              "#440154"
             ],
             [
              0.1111111111111111,
              "#482878"
             ],
             [
              0.2222222222222222,
              "#3e4989"
             ],
             [
              0.3333333333333333,
              "#31688e"
             ],
             [
              0.4444444444444444,
              "#26828e"
             ],
             [
              0.5555555555555556,
              "#1f9e89"
             ],
             [
              0.6666666666666666,
              "#35b779"
             ],
             [
              0.7777777777777778,
              "#6ece58"
             ],
             [
              0.8888888888888888,
              "#b5de2b"
             ],
             [
              1,
              "#fde725"
             ]
            ],
            "type": "histogram2dcontour"
           }
          ],
          "mesh3d": [
           {
            "colorbar": {
             "outlinewidth": 1,
             "tickcolor": "rgb(36,36,36)",
             "ticks": "outside"
            },
            "type": "mesh3d"
           }
          ],
          "parcoords": [
           {
            "line": {
             "colorbar": {
              "outlinewidth": 1,
              "tickcolor": "rgb(36,36,36)",
              "ticks": "outside"
             }
            },
            "type": "parcoords"
           }
          ],
          "pie": [
           {
            "automargin": true,
            "type": "pie"
           }
          ],
          "scatter": [
           {
            "fillpattern": {
             "fillmode": "overlay",
             "size": 10,
             "solidity": 0.2
            },
            "type": "scatter"
           }
          ],
          "scatter3d": [
           {
            "line": {
             "colorbar": {
              "outlinewidth": 1,
              "tickcolor": "rgb(36,36,36)",
              "ticks": "outside"
             }
            },
            "marker": {
             "colorbar": {
              "outlinewidth": 1,
              "tickcolor": "rgb(36,36,36)",
              "ticks": "outside"
             }
            },
            "type": "scatter3d"
           }
          ],
          "scattercarpet": [
           {
            "marker": {
             "colorbar": {
              "outlinewidth": 1,
              "tickcolor": "rgb(36,36,36)",
              "ticks": "outside"
             }
            },
            "type": "scattercarpet"
           }
          ],
          "scattergeo": [
           {
            "marker": {
             "colorbar": {
              "outlinewidth": 1,
              "tickcolor": "rgb(36,36,36)",
              "ticks": "outside"
             }
            },
            "type": "scattergeo"
           }
          ],
          "scattergl": [
           {
            "marker": {
             "colorbar": {
              "outlinewidth": 1,
              "tickcolor": "rgb(36,36,36)",
              "ticks": "outside"
             }
            },
            "type": "scattergl"
           }
          ],
          "scattermapbox": [
           {
            "marker": {
             "colorbar": {
              "outlinewidth": 1,
              "tickcolor": "rgb(36,36,36)",
              "ticks": "outside"
             }
            },
            "type": "scattermapbox"
           }
          ],
          "scatterpolar": [
           {
            "marker": {
             "colorbar": {
              "outlinewidth": 1,
              "tickcolor": "rgb(36,36,36)",
              "ticks": "outside"
             }
            },
            "type": "scatterpolar"
           }
          ],
          "scatterpolargl": [
           {
            "marker": {
             "colorbar": {
              "outlinewidth": 1,
              "tickcolor": "rgb(36,36,36)",
              "ticks": "outside"
             }
            },
            "type": "scatterpolargl"
           }
          ],
          "scatterternary": [
           {
            "marker": {
             "colorbar": {
              "outlinewidth": 1,
              "tickcolor": "rgb(36,36,36)",
              "ticks": "outside"
             }
            },
            "type": "scatterternary"
           }
          ],
          "surface": [
           {
            "colorbar": {
             "outlinewidth": 1,
             "tickcolor": "rgb(36,36,36)",
             "ticks": "outside"
            },
            "colorscale": [
             [
              0,
              "#440154"
             ],
             [
              0.1111111111111111,
              "#482878"
             ],
             [
              0.2222222222222222,
              "#3e4989"
             ],
             [
              0.3333333333333333,
              "#31688e"
             ],
             [
              0.4444444444444444,
              "#26828e"
             ],
             [
              0.5555555555555556,
              "#1f9e89"
             ],
             [
              0.6666666666666666,
              "#35b779"
             ],
             [
              0.7777777777777778,
              "#6ece58"
             ],
             [
              0.8888888888888888,
              "#b5de2b"
             ],
             [
              1,
              "#fde725"
             ]
            ],
            "type": "surface"
           }
          ],
          "table": [
           {
            "cells": {
             "fill": {
              "color": "rgb(237,237,237)"
             },
             "line": {
              "color": "white"
             }
            },
            "header": {
             "fill": {
              "color": "rgb(217,217,217)"
             },
             "line": {
              "color": "white"
             }
            },
            "type": "table"
           }
          ]
         },
         "layout": {
          "annotationdefaults": {
           "arrowhead": 0,
           "arrowwidth": 1
          },
          "autotypenumbers": "strict",
          "coloraxis": {
           "colorbar": {
            "outlinewidth": 1,
            "tickcolor": "rgb(36,36,36)",
            "ticks": "outside"
           }
          },
          "colorscale": {
           "diverging": [
            [
             0,
             "rgb(103,0,31)"
            ],
            [
             0.1,
             "rgb(178,24,43)"
            ],
            [
             0.2,
             "rgb(214,96,77)"
            ],
            [
             0.3,
             "rgb(244,165,130)"
            ],
            [
             0.4,
             "rgb(253,219,199)"
            ],
            [
             0.5,
             "rgb(247,247,247)"
            ],
            [
             0.6,
             "rgb(209,229,240)"
            ],
            [
             0.7,
             "rgb(146,197,222)"
            ],
            [
             0.8,
             "rgb(67,147,195)"
            ],
            [
             0.9,
             "rgb(33,102,172)"
            ],
            [
             1,
             "rgb(5,48,97)"
            ]
           ],
           "sequential": [
            [
             0,
             "#440154"
            ],
            [
             0.1111111111111111,
             "#482878"
            ],
            [
             0.2222222222222222,
             "#3e4989"
            ],
            [
             0.3333333333333333,
             "#31688e"
            ],
            [
             0.4444444444444444,
             "#26828e"
            ],
            [
             0.5555555555555556,
             "#1f9e89"
            ],
            [
             0.6666666666666666,
             "#35b779"
            ],
            [
             0.7777777777777778,
             "#6ece58"
            ],
            [
             0.8888888888888888,
             "#b5de2b"
            ],
            [
             1,
             "#fde725"
            ]
           ],
           "sequentialminus": [
            [
             0,
             "#440154"
            ],
            [
             0.1111111111111111,
             "#482878"
            ],
            [
             0.2222222222222222,
             "#3e4989"
            ],
            [
             0.3333333333333333,
             "#31688e"
            ],
            [
             0.4444444444444444,
             "#26828e"
            ],
            [
             0.5555555555555556,
             "#1f9e89"
            ],
            [
             0.6666666666666666,
             "#35b779"
            ],
            [
             0.7777777777777778,
             "#6ece58"
            ],
            [
             0.8888888888888888,
             "#b5de2b"
            ],
            [
             1,
             "#fde725"
            ]
           ]
          },
          "colorway": [
           "#1F77B4",
           "#FF7F0E",
           "#2CA02C",
           "#D62728",
           "#9467BD",
           "#8C564B",
           "#E377C2",
           "#7F7F7F",
           "#BCBD22",
           "#17BECF"
          ],
          "font": {
           "color": "rgb(36,36,36)"
          },
          "geo": {
           "bgcolor": "white",
           "lakecolor": "white",
           "landcolor": "white",
           "showlakes": true,
           "showland": true,
           "subunitcolor": "white"
          },
          "hoverlabel": {
           "align": "left"
          },
          "hovermode": "closest",
          "mapbox": {
           "style": "light"
          },
          "paper_bgcolor": "white",
          "plot_bgcolor": "white",
          "polar": {
           "angularaxis": {
            "gridcolor": "rgb(232,232,232)",
            "linecolor": "rgb(36,36,36)",
            "showgrid": false,
            "showline": true,
            "ticks": "outside"
           },
           "bgcolor": "white",
           "radialaxis": {
            "gridcolor": "rgb(232,232,232)",
            "linecolor": "rgb(36,36,36)",
            "showgrid": false,
            "showline": true,
            "ticks": "outside"
           }
          },
          "scene": {
           "xaxis": {
            "backgroundcolor": "white",
            "gridcolor": "rgb(232,232,232)",
            "gridwidth": 2,
            "linecolor": "rgb(36,36,36)",
            "showbackground": true,
            "showgrid": false,
            "showline": true,
            "ticks": "outside",
            "zeroline": false,
            "zerolinecolor": "rgb(36,36,36)"
           },
           "yaxis": {
            "backgroundcolor": "white",
            "gridcolor": "rgb(232,232,232)",
            "gridwidth": 2,
            "linecolor": "rgb(36,36,36)",
            "showbackground": true,
            "showgrid": false,
            "showline": true,
            "ticks": "outside",
            "zeroline": false,
            "zerolinecolor": "rgb(36,36,36)"
           },
           "zaxis": {
            "backgroundcolor": "white",
            "gridcolor": "rgb(232,232,232)",
            "gridwidth": 2,
            "linecolor": "rgb(36,36,36)",
            "showbackground": true,
            "showgrid": false,
            "showline": true,
            "ticks": "outside",
            "zeroline": false,
            "zerolinecolor": "rgb(36,36,36)"
           }
          },
          "shapedefaults": {
           "fillcolor": "black",
           "line": {
            "width": 0
           },
           "opacity": 0.3
          },
          "ternary": {
           "aaxis": {
            "gridcolor": "rgb(232,232,232)",
            "linecolor": "rgb(36,36,36)",
            "showgrid": false,
            "showline": true,
            "ticks": "outside"
           },
           "baxis": {
            "gridcolor": "rgb(232,232,232)",
            "linecolor": "rgb(36,36,36)",
            "showgrid": false,
            "showline": true,
            "ticks": "outside"
           },
           "bgcolor": "white",
           "caxis": {
            "gridcolor": "rgb(232,232,232)",
            "linecolor": "rgb(36,36,36)",
            "showgrid": false,
            "showline": true,
            "ticks": "outside"
           }
          },
          "title": {
           "x": 0.05
          },
          "xaxis": {
           "automargin": true,
           "gridcolor": "rgb(232,232,232)",
           "linecolor": "rgb(36,36,36)",
           "showgrid": false,
           "showline": true,
           "ticks": "outside",
           "title": {
            "standoff": 15
           },
           "zeroline": false,
           "zerolinecolor": "rgb(36,36,36)"
          },
          "yaxis": {
           "automargin": true,
           "gridcolor": "rgb(232,232,232)",
           "linecolor": "rgb(36,36,36)",
           "showgrid": false,
           "showline": true,
           "ticks": "outside",
           "title": {
            "standoff": 15
           },
           "zeroline": false,
           "zerolinecolor": "rgb(36,36,36)"
          }
         }
        },
        "title": {
         "font": {
          "color": "Black",
          "size": 22
         },
         "text": "<b>Intertopic Distance Map</b>",
         "x": 0.5,
         "xanchor": "center",
         "y": 0.95,
         "yanchor": "top"
        },
        "width": 650,
        "xaxis": {
         "anchor": "y",
         "domain": [
          0,
          1
         ],
         "range": [
          -15.501186800003051,
          20.260311794281005
         ],
         "title": {
          "text": ""
         },
         "visible": false
        },
        "yaxis": {
         "anchor": "x",
         "domain": [
          0,
          1
         ],
         "range": [
          -17.487872076034545,
          19.878111743927
         ],
         "title": {
          "text": ""
         },
         "visible": false
        }
       }
      },
      "text/html": [
       "<div>                        <script type=\"text/javascript\">window.PlotlyConfig = {MathJaxConfig: 'local'};</script>\n",
       "        <script charset=\"utf-8\" src=\"https://cdn.plot.ly/plotly-2.27.0.min.js\"></script>                <div id=\"ca66cd14-86b6-4a44-aff5-992087f8ec26\" class=\"plotly-graph-div\" style=\"height:650px; width:650px;\"></div>            <script type=\"text/javascript\">                                    window.PLOTLYENV=window.PLOTLYENV || {};                                    if (document.getElementById(\"ca66cd14-86b6-4a44-aff5-992087f8ec26\")) {                    Plotly.newPlot(                        \"ca66cd14-86b6-4a44-aff5-992087f8ec26\",                        [{\"customdata\":[[0,\"party | level | community | organization | oversight\",90],[1,\"socialism | characteristic | chinese | china | great\",79],[2,\"ecological | resource | consumption | environment | water\",39],[3,\"insurance | social | basic | service | health\",26],[4,\"cultural | sector | service | flourishing | public\",24],[5,\"law | rule | judicial | based | ensure\",23],[6,\"peace | world | country | mankind | peaceful\",19],[7,\"military | armed | force | defense | capability\",17],[8,\"innovation | research | technological | technology | science\",17],[9,\"socialist | moral | integrity | morality | virtue\",17],[10,\"corruption | combating | integrity | clean | fight\",16],[11,\"global | economy | world | export | china\",16],[12,\"agriculture | agricultural | rural | farmer | industrialization\",16],[13,\"problem | difficulty | social | pressing | work\",15],[14,\"education | training | personnel | skill | young\",15],[15,\"taiwan | side | strait | independence | compatriot\",14],[16,\"reform | administrative | deepen | government | function\",14],[17,\"military | force | armed | security | defense\",13],[18,\"fairness | justice | equality | mutual | ethnic\",11],[19,\"applying | outlook | scientific | purposefully | development\",11],[20,\"macao | hong | kong | two | principle\",11],[21,\"comrade | faith | communist | xii | viii\",11],[22,\"unity | communist | china | consultative | congress\",10],[23,\"rural | urban | area | development | poverty\",10],[24,\"culture | china | strong | nation | culturally\",10],[25,\"interest | may | must | people | time\",10],[26,\"model | growth | change | accelerating | economy\",10],[27,\"overseas | affair | interest | neighbor | diplomacy\",9],[28,\"political | reform | structure | notion | sign\",9],[29,\"thought | outlook | theory | marxism | scientific\",8],[30,\"income | distribution | individual | share | increase\",8],[31,\"progress | ecological | socialist | economic | sustainable\",7],[32,\"strength | competitiveness | sport | game | fitness\",7],[33,\"employment | job | creating | opportunity | unemployment\",7],[34,\"building | innovation | respect | new | party\",6],[35,\"opening | regional | area | open | benefit\",6],[36,\"industry | industrial | structural | driven | infrastructure\",5]],\"hovertemplate\":\"\\u003cb\\u003eTopic %{customdata[0]}\\u003c\\u002fb\\u003e\\u003cbr\\u003e%{customdata[1]}\\u003cbr\\u003eSize: %{customdata[2]}\",\"legendgroup\":\"\",\"marker\":{\"color\":\"#B0BEC5\",\"size\":[90,79,39,26,24,23,19,17,17,17,16,16,16,15,15,14,14,13,11,11,11,11,10,10,10,10,10,9,9,8,8,7,7,7,6,6,5],\"sizemode\":\"area\",\"sizeref\":0.05625,\"symbol\":\"circle\",\"line\":{\"color\":\"DarkSlateGrey\",\"width\":2}},\"mode\":\"markers\",\"name\":\"\",\"orientation\":\"v\",\"showlegend\":false,\"x\":[1.9724621772766113,17.08676528930664,16.0244140625,-13.479292869567871,16.966875076293945,17.61766242980957,-8.157033920288086,3.3455469608306885,-2.897866725921631,17.34204864501953,1.861214518547058,9.777748107910156,-12.871094703674316,-7.773120880126953,-7.650053024291992,3.281282663345337,1.9758340120315552,3.345721483230591,-8.313962936401367,-2.8975839614868164,3.053468942642212,17.536067962646484,3.4110753536224365,-12.98984432220459,16.580402374267578,-7.696178913116455,9.704635620117188,3.513422727584839,1.738622784614563,17.388267517089844,-13.300914764404297,16.162281036376953,16.63412857055664,-7.900922775268555,2.2250800132751465,10.070854187011719,10.194416046142578],\"xaxis\":\"x\",\"y\":[-0.8274794816970825,-2.9759111404418945,-2.001495361328125,-12.842127799987793,-2.231668472290039,-3.6575567722320557,-14.519055366516113,12.339764595031738,17.285314559936523,-3.297866106033325,-0.7160955667495728,5.433226585388184,-12.225268363952637,-14.754405975341797,-15.105968475341797,-10.57028865814209,-0.8312340974807739,12.339810371398926,-14.374147415161133,17.281265258789062,-10.342639923095703,-3.3262510299682617,-10.699967384338379,-12.34426212310791,-2.441098213195801,-14.712886810302734,5.359988212585449,-10.802428245544434,-0.5939817428588867,-2.6920244693756104,-12.65910816192627,-2.1630635261535645,-2.233515977859497,-15.2068452835083,-1.080119013786316,5.7263898849487305,5.849688529968262],\"yaxis\":\"y\",\"type\":\"scatter\"}],                        {\"template\":{\"data\":{\"barpolar\":[{\"marker\":{\"line\":{\"color\":\"white\",\"width\":0.5},\"pattern\":{\"fillmode\":\"overlay\",\"size\":10,\"solidity\":0.2}},\"type\":\"barpolar\"}],\"bar\":[{\"error_x\":{\"color\":\"rgb(36,36,36)\"},\"error_y\":{\"color\":\"rgb(36,36,36)\"},\"marker\":{\"line\":{\"color\":\"white\",\"width\":0.5},\"pattern\":{\"fillmode\":\"overlay\",\"size\":10,\"solidity\":0.2}},\"type\":\"bar\"}],\"carpet\":[{\"aaxis\":{\"endlinecolor\":\"rgb(36,36,36)\",\"gridcolor\":\"white\",\"linecolor\":\"white\",\"minorgridcolor\":\"white\",\"startlinecolor\":\"rgb(36,36,36)\"},\"baxis\":{\"endlinecolor\":\"rgb(36,36,36)\",\"gridcolor\":\"white\",\"linecolor\":\"white\",\"minorgridcolor\":\"white\",\"startlinecolor\":\"rgb(36,36,36)\"},\"type\":\"carpet\"}],\"choropleth\":[{\"colorbar\":{\"outlinewidth\":1,\"tickcolor\":\"rgb(36,36,36)\",\"ticks\":\"outside\"},\"type\":\"choropleth\"}],\"contourcarpet\":[{\"colorbar\":{\"outlinewidth\":1,\"tickcolor\":\"rgb(36,36,36)\",\"ticks\":\"outside\"},\"type\":\"contourcarpet\"}],\"contour\":[{\"colorbar\":{\"outlinewidth\":1,\"tickcolor\":\"rgb(36,36,36)\",\"ticks\":\"outside\"},\"colorscale\":[[0.0,\"#440154\"],[0.1111111111111111,\"#482878\"],[0.2222222222222222,\"#3e4989\"],[0.3333333333333333,\"#31688e\"],[0.4444444444444444,\"#26828e\"],[0.5555555555555556,\"#1f9e89\"],[0.6666666666666666,\"#35b779\"],[0.7777777777777778,\"#6ece58\"],[0.8888888888888888,\"#b5de2b\"],[1.0,\"#fde725\"]],\"type\":\"contour\"}],\"heatmapgl\":[{\"colorbar\":{\"outlinewidth\":1,\"tickcolor\":\"rgb(36,36,36)\",\"ticks\":\"outside\"},\"colorscale\":[[0.0,\"#440154\"],[0.1111111111111111,\"#482878\"],[0.2222222222222222,\"#3e4989\"],[0.3333333333333333,\"#31688e\"],[0.4444444444444444,\"#26828e\"],[0.5555555555555556,\"#1f9e89\"],[0.6666666666666666,\"#35b779\"],[0.7777777777777778,\"#6ece58\"],[0.8888888888888888,\"#b5de2b\"],[1.0,\"#fde725\"]],\"type\":\"heatmapgl\"}],\"heatmap\":[{\"colorbar\":{\"outlinewidth\":1,\"tickcolor\":\"rgb(36,36,36)\",\"ticks\":\"outside\"},\"colorscale\":[[0.0,\"#440154\"],[0.1111111111111111,\"#482878\"],[0.2222222222222222,\"#3e4989\"],[0.3333333333333333,\"#31688e\"],[0.4444444444444444,\"#26828e\"],[0.5555555555555556,\"#1f9e89\"],[0.6666666666666666,\"#35b779\"],[0.7777777777777778,\"#6ece58\"],[0.8888888888888888,\"#b5de2b\"],[1.0,\"#fde725\"]],\"type\":\"heatmap\"}],\"histogram2dcontour\":[{\"colorbar\":{\"outlinewidth\":1,\"tickcolor\":\"rgb(36,36,36)\",\"ticks\":\"outside\"},\"colorscale\":[[0.0,\"#440154\"],[0.1111111111111111,\"#482878\"],[0.2222222222222222,\"#3e4989\"],[0.3333333333333333,\"#31688e\"],[0.4444444444444444,\"#26828e\"],[0.5555555555555556,\"#1f9e89\"],[0.6666666666666666,\"#35b779\"],[0.7777777777777778,\"#6ece58\"],[0.8888888888888888,\"#b5de2b\"],[1.0,\"#fde725\"]],\"type\":\"histogram2dcontour\"}],\"histogram2d\":[{\"colorbar\":{\"outlinewidth\":1,\"tickcolor\":\"rgb(36,36,36)\",\"ticks\":\"outside\"},\"colorscale\":[[0.0,\"#440154\"],[0.1111111111111111,\"#482878\"],[0.2222222222222222,\"#3e4989\"],[0.3333333333333333,\"#31688e\"],[0.4444444444444444,\"#26828e\"],[0.5555555555555556,\"#1f9e89\"],[0.6666666666666666,\"#35b779\"],[0.7777777777777778,\"#6ece58\"],[0.8888888888888888,\"#b5de2b\"],[1.0,\"#fde725\"]],\"type\":\"histogram2d\"}],\"histogram\":[{\"marker\":{\"line\":{\"color\":\"white\",\"width\":0.6}},\"type\":\"histogram\"}],\"mesh3d\":[{\"colorbar\":{\"outlinewidth\":1,\"tickcolor\":\"rgb(36,36,36)\",\"ticks\":\"outside\"},\"type\":\"mesh3d\"}],\"parcoords\":[{\"line\":{\"colorbar\":{\"outlinewidth\":1,\"tickcolor\":\"rgb(36,36,36)\",\"ticks\":\"outside\"}},\"type\":\"parcoords\"}],\"pie\":[{\"automargin\":true,\"type\":\"pie\"}],\"scatter3d\":[{\"line\":{\"colorbar\":{\"outlinewidth\":1,\"tickcolor\":\"rgb(36,36,36)\",\"ticks\":\"outside\"}},\"marker\":{\"colorbar\":{\"outlinewidth\":1,\"tickcolor\":\"rgb(36,36,36)\",\"ticks\":\"outside\"}},\"type\":\"scatter3d\"}],\"scattercarpet\":[{\"marker\":{\"colorbar\":{\"outlinewidth\":1,\"tickcolor\":\"rgb(36,36,36)\",\"ticks\":\"outside\"}},\"type\":\"scattercarpet\"}],\"scattergeo\":[{\"marker\":{\"colorbar\":{\"outlinewidth\":1,\"tickcolor\":\"rgb(36,36,36)\",\"ticks\":\"outside\"}},\"type\":\"scattergeo\"}],\"scattergl\":[{\"marker\":{\"colorbar\":{\"outlinewidth\":1,\"tickcolor\":\"rgb(36,36,36)\",\"ticks\":\"outside\"}},\"type\":\"scattergl\"}],\"scattermapbox\":[{\"marker\":{\"colorbar\":{\"outlinewidth\":1,\"tickcolor\":\"rgb(36,36,36)\",\"ticks\":\"outside\"}},\"type\":\"scattermapbox\"}],\"scatterpolargl\":[{\"marker\":{\"colorbar\":{\"outlinewidth\":1,\"tickcolor\":\"rgb(36,36,36)\",\"ticks\":\"outside\"}},\"type\":\"scatterpolargl\"}],\"scatterpolar\":[{\"marker\":{\"colorbar\":{\"outlinewidth\":1,\"tickcolor\":\"rgb(36,36,36)\",\"ticks\":\"outside\"}},\"type\":\"scatterpolar\"}],\"scatter\":[{\"fillpattern\":{\"fillmode\":\"overlay\",\"size\":10,\"solidity\":0.2},\"type\":\"scatter\"}],\"scatterternary\":[{\"marker\":{\"colorbar\":{\"outlinewidth\":1,\"tickcolor\":\"rgb(36,36,36)\",\"ticks\":\"outside\"}},\"type\":\"scatterternary\"}],\"surface\":[{\"colorbar\":{\"outlinewidth\":1,\"tickcolor\":\"rgb(36,36,36)\",\"ticks\":\"outside\"},\"colorscale\":[[0.0,\"#440154\"],[0.1111111111111111,\"#482878\"],[0.2222222222222222,\"#3e4989\"],[0.3333333333333333,\"#31688e\"],[0.4444444444444444,\"#26828e\"],[0.5555555555555556,\"#1f9e89\"],[0.6666666666666666,\"#35b779\"],[0.7777777777777778,\"#6ece58\"],[0.8888888888888888,\"#b5de2b\"],[1.0,\"#fde725\"]],\"type\":\"surface\"}],\"table\":[{\"cells\":{\"fill\":{\"color\":\"rgb(237,237,237)\"},\"line\":{\"color\":\"white\"}},\"header\":{\"fill\":{\"color\":\"rgb(217,217,217)\"},\"line\":{\"color\":\"white\"}},\"type\":\"table\"}]},\"layout\":{\"annotationdefaults\":{\"arrowhead\":0,\"arrowwidth\":1},\"autotypenumbers\":\"strict\",\"coloraxis\":{\"colorbar\":{\"outlinewidth\":1,\"tickcolor\":\"rgb(36,36,36)\",\"ticks\":\"outside\"}},\"colorscale\":{\"diverging\":[[0.0,\"rgb(103,0,31)\"],[0.1,\"rgb(178,24,43)\"],[0.2,\"rgb(214,96,77)\"],[0.3,\"rgb(244,165,130)\"],[0.4,\"rgb(253,219,199)\"],[0.5,\"rgb(247,247,247)\"],[0.6,\"rgb(209,229,240)\"],[0.7,\"rgb(146,197,222)\"],[0.8,\"rgb(67,147,195)\"],[0.9,\"rgb(33,102,172)\"],[1.0,\"rgb(5,48,97)\"]],\"sequential\":[[0.0,\"#440154\"],[0.1111111111111111,\"#482878\"],[0.2222222222222222,\"#3e4989\"],[0.3333333333333333,\"#31688e\"],[0.4444444444444444,\"#26828e\"],[0.5555555555555556,\"#1f9e89\"],[0.6666666666666666,\"#35b779\"],[0.7777777777777778,\"#6ece58\"],[0.8888888888888888,\"#b5de2b\"],[1.0,\"#fde725\"]],\"sequentialminus\":[[0.0,\"#440154\"],[0.1111111111111111,\"#482878\"],[0.2222222222222222,\"#3e4989\"],[0.3333333333333333,\"#31688e\"],[0.4444444444444444,\"#26828e\"],[0.5555555555555556,\"#1f9e89\"],[0.6666666666666666,\"#35b779\"],[0.7777777777777778,\"#6ece58\"],[0.8888888888888888,\"#b5de2b\"],[1.0,\"#fde725\"]]},\"colorway\":[\"#1F77B4\",\"#FF7F0E\",\"#2CA02C\",\"#D62728\",\"#9467BD\",\"#8C564B\",\"#E377C2\",\"#7F7F7F\",\"#BCBD22\",\"#17BECF\"],\"font\":{\"color\":\"rgb(36,36,36)\"},\"geo\":{\"bgcolor\":\"white\",\"lakecolor\":\"white\",\"landcolor\":\"white\",\"showlakes\":true,\"showland\":true,\"subunitcolor\":\"white\"},\"hoverlabel\":{\"align\":\"left\"},\"hovermode\":\"closest\",\"mapbox\":{\"style\":\"light\"},\"paper_bgcolor\":\"white\",\"plot_bgcolor\":\"white\",\"polar\":{\"angularaxis\":{\"gridcolor\":\"rgb(232,232,232)\",\"linecolor\":\"rgb(36,36,36)\",\"showgrid\":false,\"showline\":true,\"ticks\":\"outside\"},\"bgcolor\":\"white\",\"radialaxis\":{\"gridcolor\":\"rgb(232,232,232)\",\"linecolor\":\"rgb(36,36,36)\",\"showgrid\":false,\"showline\":true,\"ticks\":\"outside\"}},\"scene\":{\"xaxis\":{\"backgroundcolor\":\"white\",\"gridcolor\":\"rgb(232,232,232)\",\"gridwidth\":2,\"linecolor\":\"rgb(36,36,36)\",\"showbackground\":true,\"showgrid\":false,\"showline\":true,\"ticks\":\"outside\",\"zeroline\":false,\"zerolinecolor\":\"rgb(36,36,36)\"},\"yaxis\":{\"backgroundcolor\":\"white\",\"gridcolor\":\"rgb(232,232,232)\",\"gridwidth\":2,\"linecolor\":\"rgb(36,36,36)\",\"showbackground\":true,\"showgrid\":false,\"showline\":true,\"ticks\":\"outside\",\"zeroline\":false,\"zerolinecolor\":\"rgb(36,36,36)\"},\"zaxis\":{\"backgroundcolor\":\"white\",\"gridcolor\":\"rgb(232,232,232)\",\"gridwidth\":2,\"linecolor\":\"rgb(36,36,36)\",\"showbackground\":true,\"showgrid\":false,\"showline\":true,\"ticks\":\"outside\",\"zeroline\":false,\"zerolinecolor\":\"rgb(36,36,36)\"}},\"shapedefaults\":{\"fillcolor\":\"black\",\"line\":{\"width\":0},\"opacity\":0.3},\"ternary\":{\"aaxis\":{\"gridcolor\":\"rgb(232,232,232)\",\"linecolor\":\"rgb(36,36,36)\",\"showgrid\":false,\"showline\":true,\"ticks\":\"outside\"},\"baxis\":{\"gridcolor\":\"rgb(232,232,232)\",\"linecolor\":\"rgb(36,36,36)\",\"showgrid\":false,\"showline\":true,\"ticks\":\"outside\"},\"bgcolor\":\"white\",\"caxis\":{\"gridcolor\":\"rgb(232,232,232)\",\"linecolor\":\"rgb(36,36,36)\",\"showgrid\":false,\"showline\":true,\"ticks\":\"outside\"}},\"title\":{\"x\":0.05},\"xaxis\":{\"automargin\":true,\"gridcolor\":\"rgb(232,232,232)\",\"linecolor\":\"rgb(36,36,36)\",\"showgrid\":false,\"showline\":true,\"ticks\":\"outside\",\"title\":{\"standoff\":15},\"zeroline\":false,\"zerolinecolor\":\"rgb(36,36,36)\"},\"yaxis\":{\"automargin\":true,\"gridcolor\":\"rgb(232,232,232)\",\"linecolor\":\"rgb(36,36,36)\",\"showgrid\":false,\"showline\":true,\"ticks\":\"outside\",\"title\":{\"standoff\":15},\"zeroline\":false,\"zerolinecolor\":\"rgb(36,36,36)\"}}},\"xaxis\":{\"anchor\":\"y\",\"domain\":[0.0,1.0],\"title\":{\"text\":\"\"},\"visible\":false,\"range\":[-15.501186800003051,20.260311794281005]},\"yaxis\":{\"anchor\":\"x\",\"domain\":[0.0,1.0],\"title\":{\"text\":\"\"},\"visible\":false,\"range\":[-17.487872076034545,19.878111743927]},\"legend\":{\"tracegroupgap\":0,\"itemsizing\":\"constant\"},\"margin\":{\"t\":60},\"title\":{\"font\":{\"size\":22,\"color\":\"Black\"},\"text\":\"\\u003cb\\u003eIntertopic Distance Map\\u003c\\u002fb\\u003e\",\"y\":0.95,\"x\":0.5,\"xanchor\":\"center\",\"yanchor\":\"top\"},\"hoverlabel\":{\"font\":{\"size\":16,\"family\":\"Rockwell\"},\"bgcolor\":\"white\"},\"width\":650,\"height\":650,\"sliders\":[{\"active\":0,\"pad\":{\"t\":50},\"steps\":[{\"args\":[{\"marker.color\":[[\"red\",\"#B0BEC5\",\"#B0BEC5\",\"#B0BEC5\",\"#B0BEC5\",\"#B0BEC5\",\"#B0BEC5\",\"#B0BEC5\",\"#B0BEC5\",\"#B0BEC5\",\"#B0BEC5\",\"#B0BEC5\",\"#B0BEC5\",\"#B0BEC5\",\"#B0BEC5\",\"#B0BEC5\",\"#B0BEC5\",\"#B0BEC5\",\"#B0BEC5\",\"#B0BEC5\",\"#B0BEC5\",\"#B0BEC5\",\"#B0BEC5\",\"#B0BEC5\",\"#B0BEC5\",\"#B0BEC5\",\"#B0BEC5\",\"#B0BEC5\",\"#B0BEC5\",\"#B0BEC5\",\"#B0BEC5\",\"#B0BEC5\",\"#B0BEC5\",\"#B0BEC5\",\"#B0BEC5\",\"#B0BEC5\",\"#B0BEC5\"]]}],\"label\":\"Topic 0\",\"method\":\"update\"},{\"args\":[{\"marker.color\":[[\"#B0BEC5\",\"red\",\"#B0BEC5\",\"#B0BEC5\",\"#B0BEC5\",\"#B0BEC5\",\"#B0BEC5\",\"#B0BEC5\",\"#B0BEC5\",\"#B0BEC5\",\"#B0BEC5\",\"#B0BEC5\",\"#B0BEC5\",\"#B0BEC5\",\"#B0BEC5\",\"#B0BEC5\",\"#B0BEC5\",\"#B0BEC5\",\"#B0BEC5\",\"#B0BEC5\",\"#B0BEC5\",\"#B0BEC5\",\"#B0BEC5\",\"#B0BEC5\",\"#B0BEC5\",\"#B0BEC5\",\"#B0BEC5\",\"#B0BEC5\",\"#B0BEC5\",\"#B0BEC5\",\"#B0BEC5\",\"#B0BEC5\",\"#B0BEC5\",\"#B0BEC5\",\"#B0BEC5\",\"#B0BEC5\",\"#B0BEC5\"]]}],\"label\":\"Topic 1\",\"method\":\"update\"},{\"args\":[{\"marker.color\":[[\"#B0BEC5\",\"#B0BEC5\",\"red\",\"#B0BEC5\",\"#B0BEC5\",\"#B0BEC5\",\"#B0BEC5\",\"#B0BEC5\",\"#B0BEC5\",\"#B0BEC5\",\"#B0BEC5\",\"#B0BEC5\",\"#B0BEC5\",\"#B0BEC5\",\"#B0BEC5\",\"#B0BEC5\",\"#B0BEC5\",\"#B0BEC5\",\"#B0BEC5\",\"#B0BEC5\",\"#B0BEC5\",\"#B0BEC5\",\"#B0BEC5\",\"#B0BEC5\",\"#B0BEC5\",\"#B0BEC5\",\"#B0BEC5\",\"#B0BEC5\",\"#B0BEC5\",\"#B0BEC5\",\"#B0BEC5\",\"#B0BEC5\",\"#B0BEC5\",\"#B0BEC5\",\"#B0BEC5\",\"#B0BEC5\",\"#B0BEC5\"]]}],\"label\":\"Topic 2\",\"method\":\"update\"},{\"args\":[{\"marker.color\":[[\"#B0BEC5\",\"#B0BEC5\",\"#B0BEC5\",\"red\",\"#B0BEC5\",\"#B0BEC5\",\"#B0BEC5\",\"#B0BEC5\",\"#B0BEC5\",\"#B0BEC5\",\"#B0BEC5\",\"#B0BEC5\",\"#B0BEC5\",\"#B0BEC5\",\"#B0BEC5\",\"#B0BEC5\",\"#B0BEC5\",\"#B0BEC5\",\"#B0BEC5\",\"#B0BEC5\",\"#B0BEC5\",\"#B0BEC5\",\"#B0BEC5\",\"#B0BEC5\",\"#B0BEC5\",\"#B0BEC5\",\"#B0BEC5\",\"#B0BEC5\",\"#B0BEC5\",\"#B0BEC5\",\"#B0BEC5\",\"#B0BEC5\",\"#B0BEC5\",\"#B0BEC5\",\"#B0BEC5\",\"#B0BEC5\",\"#B0BEC5\"]]}],\"label\":\"Topic 3\",\"method\":\"update\"},{\"args\":[{\"marker.color\":[[\"#B0BEC5\",\"#B0BEC5\",\"#B0BEC5\",\"#B0BEC5\",\"red\",\"#B0BEC5\",\"#B0BEC5\",\"#B0BEC5\",\"#B0BEC5\",\"#B0BEC5\",\"#B0BEC5\",\"#B0BEC5\",\"#B0BEC5\",\"#B0BEC5\",\"#B0BEC5\",\"#B0BEC5\",\"#B0BEC5\",\"#B0BEC5\",\"#B0BEC5\",\"#B0BEC5\",\"#B0BEC5\",\"#B0BEC5\",\"#B0BEC5\",\"#B0BEC5\",\"#B0BEC5\",\"#B0BEC5\",\"#B0BEC5\",\"#B0BEC5\",\"#B0BEC5\",\"#B0BEC5\",\"#B0BEC5\",\"#B0BEC5\",\"#B0BEC5\",\"#B0BEC5\",\"#B0BEC5\",\"#B0BEC5\",\"#B0BEC5\"]]}],\"label\":\"Topic 4\",\"method\":\"update\"},{\"args\":[{\"marker.color\":[[\"#B0BEC5\",\"#B0BEC5\",\"#B0BEC5\",\"#B0BEC5\",\"#B0BEC5\",\"red\",\"#B0BEC5\",\"#B0BEC5\",\"#B0BEC5\",\"#B0BEC5\",\"#B0BEC5\",\"#B0BEC5\",\"#B0BEC5\",\"#B0BEC5\",\"#B0BEC5\",\"#B0BEC5\",\"#B0BEC5\",\"#B0BEC5\",\"#B0BEC5\",\"#B0BEC5\",\"#B0BEC5\",\"#B0BEC5\",\"#B0BEC5\",\"#B0BEC5\",\"#B0BEC5\",\"#B0BEC5\",\"#B0BEC5\",\"#B0BEC5\",\"#B0BEC5\",\"#B0BEC5\",\"#B0BEC5\",\"#B0BEC5\",\"#B0BEC5\",\"#B0BEC5\",\"#B0BEC5\",\"#B0BEC5\",\"#B0BEC5\"]]}],\"label\":\"Topic 5\",\"method\":\"update\"},{\"args\":[{\"marker.color\":[[\"#B0BEC5\",\"#B0BEC5\",\"#B0BEC5\",\"#B0BEC5\",\"#B0BEC5\",\"#B0BEC5\",\"red\",\"#B0BEC5\",\"#B0BEC5\",\"#B0BEC5\",\"#B0BEC5\",\"#B0BEC5\",\"#B0BEC5\",\"#B0BEC5\",\"#B0BEC5\",\"#B0BEC5\",\"#B0BEC5\",\"#B0BEC5\",\"#B0BEC5\",\"#B0BEC5\",\"#B0BEC5\",\"#B0BEC5\",\"#B0BEC5\",\"#B0BEC5\",\"#B0BEC5\",\"#B0BEC5\",\"#B0BEC5\",\"#B0BEC5\",\"#B0BEC5\",\"#B0BEC5\",\"#B0BEC5\",\"#B0BEC5\",\"#B0BEC5\",\"#B0BEC5\",\"#B0BEC5\",\"#B0BEC5\",\"#B0BEC5\"]]}],\"label\":\"Topic 6\",\"method\":\"update\"},{\"args\":[{\"marker.color\":[[\"#B0BEC5\",\"#B0BEC5\",\"#B0BEC5\",\"#B0BEC5\",\"#B0BEC5\",\"#B0BEC5\",\"#B0BEC5\",\"red\",\"#B0BEC5\",\"#B0BEC5\",\"#B0BEC5\",\"#B0BEC5\",\"#B0BEC5\",\"#B0BEC5\",\"#B0BEC5\",\"#B0BEC5\",\"#B0BEC5\",\"#B0BEC5\",\"#B0BEC5\",\"#B0BEC5\",\"#B0BEC5\",\"#B0BEC5\",\"#B0BEC5\",\"#B0BEC5\",\"#B0BEC5\",\"#B0BEC5\",\"#B0BEC5\",\"#B0BEC5\",\"#B0BEC5\",\"#B0BEC5\",\"#B0BEC5\",\"#B0BEC5\",\"#B0BEC5\",\"#B0BEC5\",\"#B0BEC5\",\"#B0BEC5\",\"#B0BEC5\"]]}],\"label\":\"Topic 7\",\"method\":\"update\"},{\"args\":[{\"marker.color\":[[\"#B0BEC5\",\"#B0BEC5\",\"#B0BEC5\",\"#B0BEC5\",\"#B0BEC5\",\"#B0BEC5\",\"#B0BEC5\",\"#B0BEC5\",\"red\",\"#B0BEC5\",\"#B0BEC5\",\"#B0BEC5\",\"#B0BEC5\",\"#B0BEC5\",\"#B0BEC5\",\"#B0BEC5\",\"#B0BEC5\",\"#B0BEC5\",\"#B0BEC5\",\"#B0BEC5\",\"#B0BEC5\",\"#B0BEC5\",\"#B0BEC5\",\"#B0BEC5\",\"#B0BEC5\",\"#B0BEC5\",\"#B0BEC5\",\"#B0BEC5\",\"#B0BEC5\",\"#B0BEC5\",\"#B0BEC5\",\"#B0BEC5\",\"#B0BEC5\",\"#B0BEC5\",\"#B0BEC5\",\"#B0BEC5\",\"#B0BEC5\"]]}],\"label\":\"Topic 8\",\"method\":\"update\"},{\"args\":[{\"marker.color\":[[\"#B0BEC5\",\"#B0BEC5\",\"#B0BEC5\",\"#B0BEC5\",\"#B0BEC5\",\"#B0BEC5\",\"#B0BEC5\",\"#B0BEC5\",\"#B0BEC5\",\"red\",\"#B0BEC5\",\"#B0BEC5\",\"#B0BEC5\",\"#B0BEC5\",\"#B0BEC5\",\"#B0BEC5\",\"#B0BEC5\",\"#B0BEC5\",\"#B0BEC5\",\"#B0BEC5\",\"#B0BEC5\",\"#B0BEC5\",\"#B0BEC5\",\"#B0BEC5\",\"#B0BEC5\",\"#B0BEC5\",\"#B0BEC5\",\"#B0BEC5\",\"#B0BEC5\",\"#B0BEC5\",\"#B0BEC5\",\"#B0BEC5\",\"#B0BEC5\",\"#B0BEC5\",\"#B0BEC5\",\"#B0BEC5\",\"#B0BEC5\"]]}],\"label\":\"Topic 9\",\"method\":\"update\"},{\"args\":[{\"marker.color\":[[\"#B0BEC5\",\"#B0BEC5\",\"#B0BEC5\",\"#B0BEC5\",\"#B0BEC5\",\"#B0BEC5\",\"#B0BEC5\",\"#B0BEC5\",\"#B0BEC5\",\"#B0BEC5\",\"red\",\"#B0BEC5\",\"#B0BEC5\",\"#B0BEC5\",\"#B0BEC5\",\"#B0BEC5\",\"#B0BEC5\",\"#B0BEC5\",\"#B0BEC5\",\"#B0BEC5\",\"#B0BEC5\",\"#B0BEC5\",\"#B0BEC5\",\"#B0BEC5\",\"#B0BEC5\",\"#B0BEC5\",\"#B0BEC5\",\"#B0BEC5\",\"#B0BEC5\",\"#B0BEC5\",\"#B0BEC5\",\"#B0BEC5\",\"#B0BEC5\",\"#B0BEC5\",\"#B0BEC5\",\"#B0BEC5\",\"#B0BEC5\"]]}],\"label\":\"Topic 10\",\"method\":\"update\"},{\"args\":[{\"marker.color\":[[\"#B0BEC5\",\"#B0BEC5\",\"#B0BEC5\",\"#B0BEC5\",\"#B0BEC5\",\"#B0BEC5\",\"#B0BEC5\",\"#B0BEC5\",\"#B0BEC5\",\"#B0BEC5\",\"#B0BEC5\",\"red\",\"#B0BEC5\",\"#B0BEC5\",\"#B0BEC5\",\"#B0BEC5\",\"#B0BEC5\",\"#B0BEC5\",\"#B0BEC5\",\"#B0BEC5\",\"#B0BEC5\",\"#B0BEC5\",\"#B0BEC5\",\"#B0BEC5\",\"#B0BEC5\",\"#B0BEC5\",\"#B0BEC5\",\"#B0BEC5\",\"#B0BEC5\",\"#B0BEC5\",\"#B0BEC5\",\"#B0BEC5\",\"#B0BEC5\",\"#B0BEC5\",\"#B0BEC5\",\"#B0BEC5\",\"#B0BEC5\"]]}],\"label\":\"Topic 11\",\"method\":\"update\"},{\"args\":[{\"marker.color\":[[\"#B0BEC5\",\"#B0BEC5\",\"#B0BEC5\",\"#B0BEC5\",\"#B0BEC5\",\"#B0BEC5\",\"#B0BEC5\",\"#B0BEC5\",\"#B0BEC5\",\"#B0BEC5\",\"#B0BEC5\",\"#B0BEC5\",\"red\",\"#B0BEC5\",\"#B0BEC5\",\"#B0BEC5\",\"#B0BEC5\",\"#B0BEC5\",\"#B0BEC5\",\"#B0BEC5\",\"#B0BEC5\",\"#B0BEC5\",\"#B0BEC5\",\"#B0BEC5\",\"#B0BEC5\",\"#B0BEC5\",\"#B0BEC5\",\"#B0BEC5\",\"#B0BEC5\",\"#B0BEC5\",\"#B0BEC5\",\"#B0BEC5\",\"#B0BEC5\",\"#B0BEC5\",\"#B0BEC5\",\"#B0BEC5\",\"#B0BEC5\"]]}],\"label\":\"Topic 12\",\"method\":\"update\"},{\"args\":[{\"marker.color\":[[\"#B0BEC5\",\"#B0BEC5\",\"#B0BEC5\",\"#B0BEC5\",\"#B0BEC5\",\"#B0BEC5\",\"#B0BEC5\",\"#B0BEC5\",\"#B0BEC5\",\"#B0BEC5\",\"#B0BEC5\",\"#B0BEC5\",\"#B0BEC5\",\"red\",\"#B0BEC5\",\"#B0BEC5\",\"#B0BEC5\",\"#B0BEC5\",\"#B0BEC5\",\"#B0BEC5\",\"#B0BEC5\",\"#B0BEC5\",\"#B0BEC5\",\"#B0BEC5\",\"#B0BEC5\",\"#B0BEC5\",\"#B0BEC5\",\"#B0BEC5\",\"#B0BEC5\",\"#B0BEC5\",\"#B0BEC5\",\"#B0BEC5\",\"#B0BEC5\",\"#B0BEC5\",\"#B0BEC5\",\"#B0BEC5\",\"#B0BEC5\"]]}],\"label\":\"Topic 13\",\"method\":\"update\"},{\"args\":[{\"marker.color\":[[\"#B0BEC5\",\"#B0BEC5\",\"#B0BEC5\",\"#B0BEC5\",\"#B0BEC5\",\"#B0BEC5\",\"#B0BEC5\",\"#B0BEC5\",\"#B0BEC5\",\"#B0BEC5\",\"#B0BEC5\",\"#B0BEC5\",\"#B0BEC5\",\"#B0BEC5\",\"red\",\"#B0BEC5\",\"#B0BEC5\",\"#B0BEC5\",\"#B0BEC5\",\"#B0BEC5\",\"#B0BEC5\",\"#B0BEC5\",\"#B0BEC5\",\"#B0BEC5\",\"#B0BEC5\",\"#B0BEC5\",\"#B0BEC5\",\"#B0BEC5\",\"#B0BEC5\",\"#B0BEC5\",\"#B0BEC5\",\"#B0BEC5\",\"#B0BEC5\",\"#B0BEC5\",\"#B0BEC5\",\"#B0BEC5\",\"#B0BEC5\"]]}],\"label\":\"Topic 14\",\"method\":\"update\"},{\"args\":[{\"marker.color\":[[\"#B0BEC5\",\"#B0BEC5\",\"#B0BEC5\",\"#B0BEC5\",\"#B0BEC5\",\"#B0BEC5\",\"#B0BEC5\",\"#B0BEC5\",\"#B0BEC5\",\"#B0BEC5\",\"#B0BEC5\",\"#B0BEC5\",\"#B0BEC5\",\"#B0BEC5\",\"#B0BEC5\",\"red\",\"#B0BEC5\",\"#B0BEC5\",\"#B0BEC5\",\"#B0BEC5\",\"#B0BEC5\",\"#B0BEC5\",\"#B0BEC5\",\"#B0BEC5\",\"#B0BEC5\",\"#B0BEC5\",\"#B0BEC5\",\"#B0BEC5\",\"#B0BEC5\",\"#B0BEC5\",\"#B0BEC5\",\"#B0BEC5\",\"#B0BEC5\",\"#B0BEC5\",\"#B0BEC5\",\"#B0BEC5\",\"#B0BEC5\"]]}],\"label\":\"Topic 15\",\"method\":\"update\"},{\"args\":[{\"marker.color\":[[\"#B0BEC5\",\"#B0BEC5\",\"#B0BEC5\",\"#B0BEC5\",\"#B0BEC5\",\"#B0BEC5\",\"#B0BEC5\",\"#B0BEC5\",\"#B0BEC5\",\"#B0BEC5\",\"#B0BEC5\",\"#B0BEC5\",\"#B0BEC5\",\"#B0BEC5\",\"#B0BEC5\",\"#B0BEC5\",\"red\",\"#B0BEC5\",\"#B0BEC5\",\"#B0BEC5\",\"#B0BEC5\",\"#B0BEC5\",\"#B0BEC5\",\"#B0BEC5\",\"#B0BEC5\",\"#B0BEC5\",\"#B0BEC5\",\"#B0BEC5\",\"#B0BEC5\",\"#B0BEC5\",\"#B0BEC5\",\"#B0BEC5\",\"#B0BEC5\",\"#B0BEC5\",\"#B0BEC5\",\"#B0BEC5\",\"#B0BEC5\"]]}],\"label\":\"Topic 16\",\"method\":\"update\"},{\"args\":[{\"marker.color\":[[\"#B0BEC5\",\"#B0BEC5\",\"#B0BEC5\",\"#B0BEC5\",\"#B0BEC5\",\"#B0BEC5\",\"#B0BEC5\",\"#B0BEC5\",\"#B0BEC5\",\"#B0BEC5\",\"#B0BEC5\",\"#B0BEC5\",\"#B0BEC5\",\"#B0BEC5\",\"#B0BEC5\",\"#B0BEC5\",\"#B0BEC5\",\"red\",\"#B0BEC5\",\"#B0BEC5\",\"#B0BEC5\",\"#B0BEC5\",\"#B0BEC5\",\"#B0BEC5\",\"#B0BEC5\",\"#B0BEC5\",\"#B0BEC5\",\"#B0BEC5\",\"#B0BEC5\",\"#B0BEC5\",\"#B0BEC5\",\"#B0BEC5\",\"#B0BEC5\",\"#B0BEC5\",\"#B0BEC5\",\"#B0BEC5\",\"#B0BEC5\"]]}],\"label\":\"Topic 17\",\"method\":\"update\"},{\"args\":[{\"marker.color\":[[\"#B0BEC5\",\"#B0BEC5\",\"#B0BEC5\",\"#B0BEC5\",\"#B0BEC5\",\"#B0BEC5\",\"#B0BEC5\",\"#B0BEC5\",\"#B0BEC5\",\"#B0BEC5\",\"#B0BEC5\",\"#B0BEC5\",\"#B0BEC5\",\"#B0BEC5\",\"#B0BEC5\",\"#B0BEC5\",\"#B0BEC5\",\"#B0BEC5\",\"red\",\"#B0BEC5\",\"#B0BEC5\",\"#B0BEC5\",\"#B0BEC5\",\"#B0BEC5\",\"#B0BEC5\",\"#B0BEC5\",\"#B0BEC5\",\"#B0BEC5\",\"#B0BEC5\",\"#B0BEC5\",\"#B0BEC5\",\"#B0BEC5\",\"#B0BEC5\",\"#B0BEC5\",\"#B0BEC5\",\"#B0BEC5\",\"#B0BEC5\"]]}],\"label\":\"Topic 18\",\"method\":\"update\"},{\"args\":[{\"marker.color\":[[\"#B0BEC5\",\"#B0BEC5\",\"#B0BEC5\",\"#B0BEC5\",\"#B0BEC5\",\"#B0BEC5\",\"#B0BEC5\",\"#B0BEC5\",\"#B0BEC5\",\"#B0BEC5\",\"#B0BEC5\",\"#B0BEC5\",\"#B0BEC5\",\"#B0BEC5\",\"#B0BEC5\",\"#B0BEC5\",\"#B0BEC5\",\"#B0BEC5\",\"#B0BEC5\",\"red\",\"#B0BEC5\",\"#B0BEC5\",\"#B0BEC5\",\"#B0BEC5\",\"#B0BEC5\",\"#B0BEC5\",\"#B0BEC5\",\"#B0BEC5\",\"#B0BEC5\",\"#B0BEC5\",\"#B0BEC5\",\"#B0BEC5\",\"#B0BEC5\",\"#B0BEC5\",\"#B0BEC5\",\"#B0BEC5\",\"#B0BEC5\"]]}],\"label\":\"Topic 19\",\"method\":\"update\"},{\"args\":[{\"marker.color\":[[\"#B0BEC5\",\"#B0BEC5\",\"#B0BEC5\",\"#B0BEC5\",\"#B0BEC5\",\"#B0BEC5\",\"#B0BEC5\",\"#B0BEC5\",\"#B0BEC5\",\"#B0BEC5\",\"#B0BEC5\",\"#B0BEC5\",\"#B0BEC5\",\"#B0BEC5\",\"#B0BEC5\",\"#B0BEC5\",\"#B0BEC5\",\"#B0BEC5\",\"#B0BEC5\",\"#B0BEC5\",\"red\",\"#B0BEC5\",\"#B0BEC5\",\"#B0BEC5\",\"#B0BEC5\",\"#B0BEC5\",\"#B0BEC5\",\"#B0BEC5\",\"#B0BEC5\",\"#B0BEC5\",\"#B0BEC5\",\"#B0BEC5\",\"#B0BEC5\",\"#B0BEC5\",\"#B0BEC5\",\"#B0BEC5\",\"#B0BEC5\"]]}],\"label\":\"Topic 20\",\"method\":\"update\"},{\"args\":[{\"marker.color\":[[\"#B0BEC5\",\"#B0BEC5\",\"#B0BEC5\",\"#B0BEC5\",\"#B0BEC5\",\"#B0BEC5\",\"#B0BEC5\",\"#B0BEC5\",\"#B0BEC5\",\"#B0BEC5\",\"#B0BEC5\",\"#B0BEC5\",\"#B0BEC5\",\"#B0BEC5\",\"#B0BEC5\",\"#B0BEC5\",\"#B0BEC5\",\"#B0BEC5\",\"#B0BEC5\",\"#B0BEC5\",\"#B0BEC5\",\"red\",\"#B0BEC5\",\"#B0BEC5\",\"#B0BEC5\",\"#B0BEC5\",\"#B0BEC5\",\"#B0BEC5\",\"#B0BEC5\",\"#B0BEC5\",\"#B0BEC5\",\"#B0BEC5\",\"#B0BEC5\",\"#B0BEC5\",\"#B0BEC5\",\"#B0BEC5\",\"#B0BEC5\"]]}],\"label\":\"Topic 21\",\"method\":\"update\"},{\"args\":[{\"marker.color\":[[\"#B0BEC5\",\"#B0BEC5\",\"#B0BEC5\",\"#B0BEC5\",\"#B0BEC5\",\"#B0BEC5\",\"#B0BEC5\",\"#B0BEC5\",\"#B0BEC5\",\"#B0BEC5\",\"#B0BEC5\",\"#B0BEC5\",\"#B0BEC5\",\"#B0BEC5\",\"#B0BEC5\",\"#B0BEC5\",\"#B0BEC5\",\"#B0BEC5\",\"#B0BEC5\",\"#B0BEC5\",\"#B0BEC5\",\"#B0BEC5\",\"red\",\"#B0BEC5\",\"#B0BEC5\",\"#B0BEC5\",\"#B0BEC5\",\"#B0BEC5\",\"#B0BEC5\",\"#B0BEC5\",\"#B0BEC5\",\"#B0BEC5\",\"#B0BEC5\",\"#B0BEC5\",\"#B0BEC5\",\"#B0BEC5\",\"#B0BEC5\"]]}],\"label\":\"Topic 22\",\"method\":\"update\"},{\"args\":[{\"marker.color\":[[\"#B0BEC5\",\"#B0BEC5\",\"#B0BEC5\",\"#B0BEC5\",\"#B0BEC5\",\"#B0BEC5\",\"#B0BEC5\",\"#B0BEC5\",\"#B0BEC5\",\"#B0BEC5\",\"#B0BEC5\",\"#B0BEC5\",\"#B0BEC5\",\"#B0BEC5\",\"#B0BEC5\",\"#B0BEC5\",\"#B0BEC5\",\"#B0BEC5\",\"#B0BEC5\",\"#B0BEC5\",\"#B0BEC5\",\"#B0BEC5\",\"#B0BEC5\",\"red\",\"#B0BEC5\",\"#B0BEC5\",\"#B0BEC5\",\"#B0BEC5\",\"#B0BEC5\",\"#B0BEC5\",\"#B0BEC5\",\"#B0BEC5\",\"#B0BEC5\",\"#B0BEC5\",\"#B0BEC5\",\"#B0BEC5\",\"#B0BEC5\"]]}],\"label\":\"Topic 23\",\"method\":\"update\"},{\"args\":[{\"marker.color\":[[\"#B0BEC5\",\"#B0BEC5\",\"#B0BEC5\",\"#B0BEC5\",\"#B0BEC5\",\"#B0BEC5\",\"#B0BEC5\",\"#B0BEC5\",\"#B0BEC5\",\"#B0BEC5\",\"#B0BEC5\",\"#B0BEC5\",\"#B0BEC5\",\"#B0BEC5\",\"#B0BEC5\",\"#B0BEC5\",\"#B0BEC5\",\"#B0BEC5\",\"#B0BEC5\",\"#B0BEC5\",\"#B0BEC5\",\"#B0BEC5\",\"#B0BEC5\",\"#B0BEC5\",\"red\",\"#B0BEC5\",\"#B0BEC5\",\"#B0BEC5\",\"#B0BEC5\",\"#B0BEC5\",\"#B0BEC5\",\"#B0BEC5\",\"#B0BEC5\",\"#B0BEC5\",\"#B0BEC5\",\"#B0BEC5\",\"#B0BEC5\"]]}],\"label\":\"Topic 24\",\"method\":\"update\"},{\"args\":[{\"marker.color\":[[\"#B0BEC5\",\"#B0BEC5\",\"#B0BEC5\",\"#B0BEC5\",\"#B0BEC5\",\"#B0BEC5\",\"#B0BEC5\",\"#B0BEC5\",\"#B0BEC5\",\"#B0BEC5\",\"#B0BEC5\",\"#B0BEC5\",\"#B0BEC5\",\"#B0BEC5\",\"#B0BEC5\",\"#B0BEC5\",\"#B0BEC5\",\"#B0BEC5\",\"#B0BEC5\",\"#B0BEC5\",\"#B0BEC5\",\"#B0BEC5\",\"#B0BEC5\",\"#B0BEC5\",\"#B0BEC5\",\"red\",\"#B0BEC5\",\"#B0BEC5\",\"#B0BEC5\",\"#B0BEC5\",\"#B0BEC5\",\"#B0BEC5\",\"#B0BEC5\",\"#B0BEC5\",\"#B0BEC5\",\"#B0BEC5\",\"#B0BEC5\"]]}],\"label\":\"Topic 25\",\"method\":\"update\"},{\"args\":[{\"marker.color\":[[\"#B0BEC5\",\"#B0BEC5\",\"#B0BEC5\",\"#B0BEC5\",\"#B0BEC5\",\"#B0BEC5\",\"#B0BEC5\",\"#B0BEC5\",\"#B0BEC5\",\"#B0BEC5\",\"#B0BEC5\",\"#B0BEC5\",\"#B0BEC5\",\"#B0BEC5\",\"#B0BEC5\",\"#B0BEC5\",\"#B0BEC5\",\"#B0BEC5\",\"#B0BEC5\",\"#B0BEC5\",\"#B0BEC5\",\"#B0BEC5\",\"#B0BEC5\",\"#B0BEC5\",\"#B0BEC5\",\"#B0BEC5\",\"red\",\"#B0BEC5\",\"#B0BEC5\",\"#B0BEC5\",\"#B0BEC5\",\"#B0BEC5\",\"#B0BEC5\",\"#B0BEC5\",\"#B0BEC5\",\"#B0BEC5\",\"#B0BEC5\"]]}],\"label\":\"Topic 26\",\"method\":\"update\"},{\"args\":[{\"marker.color\":[[\"#B0BEC5\",\"#B0BEC5\",\"#B0BEC5\",\"#B0BEC5\",\"#B0BEC5\",\"#B0BEC5\",\"#B0BEC5\",\"#B0BEC5\",\"#B0BEC5\",\"#B0BEC5\",\"#B0BEC5\",\"#B0BEC5\",\"#B0BEC5\",\"#B0BEC5\",\"#B0BEC5\",\"#B0BEC5\",\"#B0BEC5\",\"#B0BEC5\",\"#B0BEC5\",\"#B0BEC5\",\"#B0BEC5\",\"#B0BEC5\",\"#B0BEC5\",\"#B0BEC5\",\"#B0BEC5\",\"#B0BEC5\",\"#B0BEC5\",\"red\",\"#B0BEC5\",\"#B0BEC5\",\"#B0BEC5\",\"#B0BEC5\",\"#B0BEC5\",\"#B0BEC5\",\"#B0BEC5\",\"#B0BEC5\",\"#B0BEC5\"]]}],\"label\":\"Topic 27\",\"method\":\"update\"},{\"args\":[{\"marker.color\":[[\"#B0BEC5\",\"#B0BEC5\",\"#B0BEC5\",\"#B0BEC5\",\"#B0BEC5\",\"#B0BEC5\",\"#B0BEC5\",\"#B0BEC5\",\"#B0BEC5\",\"#B0BEC5\",\"#B0BEC5\",\"#B0BEC5\",\"#B0BEC5\",\"#B0BEC5\",\"#B0BEC5\",\"#B0BEC5\",\"#B0BEC5\",\"#B0BEC5\",\"#B0BEC5\",\"#B0BEC5\",\"#B0BEC5\",\"#B0BEC5\",\"#B0BEC5\",\"#B0BEC5\",\"#B0BEC5\",\"#B0BEC5\",\"#B0BEC5\",\"#B0BEC5\",\"red\",\"#B0BEC5\",\"#B0BEC5\",\"#B0BEC5\",\"#B0BEC5\",\"#B0BEC5\",\"#B0BEC5\",\"#B0BEC5\",\"#B0BEC5\"]]}],\"label\":\"Topic 28\",\"method\":\"update\"},{\"args\":[{\"marker.color\":[[\"#B0BEC5\",\"#B0BEC5\",\"#B0BEC5\",\"#B0BEC5\",\"#B0BEC5\",\"#B0BEC5\",\"#B0BEC5\",\"#B0BEC5\",\"#B0BEC5\",\"#B0BEC5\",\"#B0BEC5\",\"#B0BEC5\",\"#B0BEC5\",\"#B0BEC5\",\"#B0BEC5\",\"#B0BEC5\",\"#B0BEC5\",\"#B0BEC5\",\"#B0BEC5\",\"#B0BEC5\",\"#B0BEC5\",\"#B0BEC5\",\"#B0BEC5\",\"#B0BEC5\",\"#B0BEC5\",\"#B0BEC5\",\"#B0BEC5\",\"#B0BEC5\",\"#B0BEC5\",\"red\",\"#B0BEC5\",\"#B0BEC5\",\"#B0BEC5\",\"#B0BEC5\",\"#B0BEC5\",\"#B0BEC5\",\"#B0BEC5\"]]}],\"label\":\"Topic 29\",\"method\":\"update\"},{\"args\":[{\"marker.color\":[[\"#B0BEC5\",\"#B0BEC5\",\"#B0BEC5\",\"#B0BEC5\",\"#B0BEC5\",\"#B0BEC5\",\"#B0BEC5\",\"#B0BEC5\",\"#B0BEC5\",\"#B0BEC5\",\"#B0BEC5\",\"#B0BEC5\",\"#B0BEC5\",\"#B0BEC5\",\"#B0BEC5\",\"#B0BEC5\",\"#B0BEC5\",\"#B0BEC5\",\"#B0BEC5\",\"#B0BEC5\",\"#B0BEC5\",\"#B0BEC5\",\"#B0BEC5\",\"#B0BEC5\",\"#B0BEC5\",\"#B0BEC5\",\"#B0BEC5\",\"#B0BEC5\",\"#B0BEC5\",\"#B0BEC5\",\"red\",\"#B0BEC5\",\"#B0BEC5\",\"#B0BEC5\",\"#B0BEC5\",\"#B0BEC5\",\"#B0BEC5\"]]}],\"label\":\"Topic 30\",\"method\":\"update\"},{\"args\":[{\"marker.color\":[[\"#B0BEC5\",\"#B0BEC5\",\"#B0BEC5\",\"#B0BEC5\",\"#B0BEC5\",\"#B0BEC5\",\"#B0BEC5\",\"#B0BEC5\",\"#B0BEC5\",\"#B0BEC5\",\"#B0BEC5\",\"#B0BEC5\",\"#B0BEC5\",\"#B0BEC5\",\"#B0BEC5\",\"#B0BEC5\",\"#B0BEC5\",\"#B0BEC5\",\"#B0BEC5\",\"#B0BEC5\",\"#B0BEC5\",\"#B0BEC5\",\"#B0BEC5\",\"#B0BEC5\",\"#B0BEC5\",\"#B0BEC5\",\"#B0BEC5\",\"#B0BEC5\",\"#B0BEC5\",\"#B0BEC5\",\"#B0BEC5\",\"red\",\"#B0BEC5\",\"#B0BEC5\",\"#B0BEC5\",\"#B0BEC5\",\"#B0BEC5\"]]}],\"label\":\"Topic 31\",\"method\":\"update\"},{\"args\":[{\"marker.color\":[[\"#B0BEC5\",\"#B0BEC5\",\"#B0BEC5\",\"#B0BEC5\",\"#B0BEC5\",\"#B0BEC5\",\"#B0BEC5\",\"#B0BEC5\",\"#B0BEC5\",\"#B0BEC5\",\"#B0BEC5\",\"#B0BEC5\",\"#B0BEC5\",\"#B0BEC5\",\"#B0BEC5\",\"#B0BEC5\",\"#B0BEC5\",\"#B0BEC5\",\"#B0BEC5\",\"#B0BEC5\",\"#B0BEC5\",\"#B0BEC5\",\"#B0BEC5\",\"#B0BEC5\",\"#B0BEC5\",\"#B0BEC5\",\"#B0BEC5\",\"#B0BEC5\",\"#B0BEC5\",\"#B0BEC5\",\"#B0BEC5\",\"#B0BEC5\",\"red\",\"#B0BEC5\",\"#B0BEC5\",\"#B0BEC5\",\"#B0BEC5\"]]}],\"label\":\"Topic 32\",\"method\":\"update\"},{\"args\":[{\"marker.color\":[[\"#B0BEC5\",\"#B0BEC5\",\"#B0BEC5\",\"#B0BEC5\",\"#B0BEC5\",\"#B0BEC5\",\"#B0BEC5\",\"#B0BEC5\",\"#B0BEC5\",\"#B0BEC5\",\"#B0BEC5\",\"#B0BEC5\",\"#B0BEC5\",\"#B0BEC5\",\"#B0BEC5\",\"#B0BEC5\",\"#B0BEC5\",\"#B0BEC5\",\"#B0BEC5\",\"#B0BEC5\",\"#B0BEC5\",\"#B0BEC5\",\"#B0BEC5\",\"#B0BEC5\",\"#B0BEC5\",\"#B0BEC5\",\"#B0BEC5\",\"#B0BEC5\",\"#B0BEC5\",\"#B0BEC5\",\"#B0BEC5\",\"#B0BEC5\",\"#B0BEC5\",\"red\",\"#B0BEC5\",\"#B0BEC5\",\"#B0BEC5\"]]}],\"label\":\"Topic 33\",\"method\":\"update\"},{\"args\":[{\"marker.color\":[[\"#B0BEC5\",\"#B0BEC5\",\"#B0BEC5\",\"#B0BEC5\",\"#B0BEC5\",\"#B0BEC5\",\"#B0BEC5\",\"#B0BEC5\",\"#B0BEC5\",\"#B0BEC5\",\"#B0BEC5\",\"#B0BEC5\",\"#B0BEC5\",\"#B0BEC5\",\"#B0BEC5\",\"#B0BEC5\",\"#B0BEC5\",\"#B0BEC5\",\"#B0BEC5\",\"#B0BEC5\",\"#B0BEC5\",\"#B0BEC5\",\"#B0BEC5\",\"#B0BEC5\",\"#B0BEC5\",\"#B0BEC5\",\"#B0BEC5\",\"#B0BEC5\",\"#B0BEC5\",\"#B0BEC5\",\"#B0BEC5\",\"#B0BEC5\",\"#B0BEC5\",\"#B0BEC5\",\"red\",\"#B0BEC5\",\"#B0BEC5\"]]}],\"label\":\"Topic 34\",\"method\":\"update\"},{\"args\":[{\"marker.color\":[[\"#B0BEC5\",\"#B0BEC5\",\"#B0BEC5\",\"#B0BEC5\",\"#B0BEC5\",\"#B0BEC5\",\"#B0BEC5\",\"#B0BEC5\",\"#B0BEC5\",\"#B0BEC5\",\"#B0BEC5\",\"#B0BEC5\",\"#B0BEC5\",\"#B0BEC5\",\"#B0BEC5\",\"#B0BEC5\",\"#B0BEC5\",\"#B0BEC5\",\"#B0BEC5\",\"#B0BEC5\",\"#B0BEC5\",\"#B0BEC5\",\"#B0BEC5\",\"#B0BEC5\",\"#B0BEC5\",\"#B0BEC5\",\"#B0BEC5\",\"#B0BEC5\",\"#B0BEC5\",\"#B0BEC5\",\"#B0BEC5\",\"#B0BEC5\",\"#B0BEC5\",\"#B0BEC5\",\"#B0BEC5\",\"red\",\"#B0BEC5\"]]}],\"label\":\"Topic 35\",\"method\":\"update\"},{\"args\":[{\"marker.color\":[[\"#B0BEC5\",\"#B0BEC5\",\"#B0BEC5\",\"#B0BEC5\",\"#B0BEC5\",\"#B0BEC5\",\"#B0BEC5\",\"#B0BEC5\",\"#B0BEC5\",\"#B0BEC5\",\"#B0BEC5\",\"#B0BEC5\",\"#B0BEC5\",\"#B0BEC5\",\"#B0BEC5\",\"#B0BEC5\",\"#B0BEC5\",\"#B0BEC5\",\"#B0BEC5\",\"#B0BEC5\",\"#B0BEC5\",\"#B0BEC5\",\"#B0BEC5\",\"#B0BEC5\",\"#B0BEC5\",\"#B0BEC5\",\"#B0BEC5\",\"#B0BEC5\",\"#B0BEC5\",\"#B0BEC5\",\"#B0BEC5\",\"#B0BEC5\",\"#B0BEC5\",\"#B0BEC5\",\"#B0BEC5\",\"#B0BEC5\",\"red\"]]}],\"label\":\"Topic 36\",\"method\":\"update\"}]}],\"shapes\":[{\"line\":{\"color\":\"#CFD8DC\",\"width\":2},\"type\":\"line\",\"x0\":2.379562497138977,\"x1\":2.379562497138977,\"y0\":-17.487872076034545,\"y1\":19.878111743927},{\"line\":{\"color\":\"#9E9E9E\",\"width\":2},\"type\":\"line\",\"x0\":-15.501186800003051,\"x1\":20.260311794281005,\"y0\":1.1951198339462277,\"y1\":1.1951198339462277}],\"annotations\":[{\"showarrow\":false,\"text\":\"D1\",\"x\":-15.501186800003051,\"y\":1.1951198339462277,\"yshift\":10},{\"showarrow\":false,\"text\":\"D2\",\"x\":2.379562497138977,\"xshift\":10,\"y\":19.878111743927}]},                        {\"responsive\": true}                    )                };                            </script>        </div>"
      ],
      "text/plain": [
       "Figure({\n",
       "    'data': [{'customdata': array([[0, 'party | level | community | organization | oversight', 90],\n",
       "                                   [1, 'socialism | characteristic | chinese | china | great', 79],\n",
       "                                   [2, 'ecological | resource | consumption | environment | water', 39],\n",
       "                                   [3, 'insurance | social | basic | service | health', 26],\n",
       "                                   [4, 'cultural | sector | service | flourishing | public', 24],\n",
       "                                   [5, 'law | rule | judicial | based | ensure', 23],\n",
       "                                   [6, 'peace | world | country | mankind | peaceful', 19],\n",
       "                                   [7, 'military | armed | force | defense | capability', 17],\n",
       "                                   [8, 'innovation | research | technological | technology | science', 17],\n",
       "                                   [9, 'socialist | moral | integrity | morality | virtue', 17],\n",
       "                                   [10, 'corruption | combating | integrity | clean | fight', 16],\n",
       "                                   [11, 'global | economy | world | export | china', 16],\n",
       "                                   [12, 'agriculture | agricultural | rural | farmer | industrialization',\n",
       "                                    16],\n",
       "                                   [13, 'problem | difficulty | social | pressing | work', 15],\n",
       "                                   [14, 'education | training | personnel | skill | young', 15],\n",
       "                                   [15, 'taiwan | side | strait | independence | compatriot', 14],\n",
       "                                   [16, 'reform | administrative | deepen | government | function', 14],\n",
       "                                   [17, 'military | force | armed | security | defense', 13],\n",
       "                                   [18, 'fairness | justice | equality | mutual | ethnic', 11],\n",
       "                                   [19, 'applying | outlook | scientific | purposefully | development',\n",
       "                                    11],\n",
       "                                   [20, 'macao | hong | kong | two | principle', 11],\n",
       "                                   [21, 'comrade | faith | communist | xii | viii', 11],\n",
       "                                   [22, 'unity | communist | china | consultative | congress', 10],\n",
       "                                   [23, 'rural | urban | area | development | poverty', 10],\n",
       "                                   [24, 'culture | china | strong | nation | culturally', 10],\n",
       "                                   [25, 'interest | may | must | people | time', 10],\n",
       "                                   [26, 'model | growth | change | accelerating | economy', 10],\n",
       "                                   [27, 'overseas | affair | interest | neighbor | diplomacy', 9],\n",
       "                                   [28, 'political | reform | structure | notion | sign', 9],\n",
       "                                   [29, 'thought | outlook | theory | marxism | scientific', 8],\n",
       "                                   [30, 'income | distribution | individual | share | increase', 8],\n",
       "                                   [31, 'progress | ecological | socialist | economic | sustainable', 7],\n",
       "                                   [32, 'strength | competitiveness | sport | game | fitness', 7],\n",
       "                                   [33, 'employment | job | creating | opportunity | unemployment', 7],\n",
       "                                   [34, 'building | innovation | respect | new | party', 6],\n",
       "                                   [35, 'opening | regional | area | open | benefit', 6],\n",
       "                                   [36, 'industry | industrial | structural | driven | infrastructure', 5]],\n",
       "                                  dtype=object),\n",
       "              'hovertemplate': '<b>Topic %{customdata[0]}</b><br>%{customdata[1]}<br>Size: %{customdata[2]}',\n",
       "              'legendgroup': '',\n",
       "              'marker': {'color': '#B0BEC5',\n",
       "                         'line': {'color': 'DarkSlateGrey', 'width': 2},\n",
       "                         'size': array([90, 79, 39, 26, 24, 23, 19, 17, 17, 17, 16, 16, 16, 15, 15, 14, 14, 13,\n",
       "                                        11, 11, 11, 11, 10, 10, 10, 10, 10,  9,  9,  8,  8,  7,  7,  7,  6,  6,\n",
       "                                         5]),\n",
       "                         'sizemode': 'area',\n",
       "                         'sizeref': 0.05625,\n",
       "                         'symbol': 'circle'},\n",
       "              'mode': 'markers',\n",
       "              'name': '',\n",
       "              'orientation': 'v',\n",
       "              'showlegend': False,\n",
       "              'type': 'scatter',\n",
       "              'x': array([  1.9724622,  17.086765 ,  16.024414 , -13.479293 ,  16.966875 ,\n",
       "                           17.617662 ,  -8.157034 ,   3.345547 ,  -2.8978667,  17.342049 ,\n",
       "                            1.8612145,   9.777748 , -12.871095 ,  -7.773121 ,  -7.650053 ,\n",
       "                            3.2812827,   1.975834 ,   3.3457215,  -8.313963 ,  -2.897584 ,\n",
       "                            3.053469 ,  17.536068 ,   3.4110754, -12.989844 ,  16.580402 ,\n",
       "                           -7.696179 ,   9.704636 ,   3.5134227,   1.7386228,  17.388268 ,\n",
       "                          -13.300915 ,  16.162281 ,  16.634129 ,  -7.900923 ,   2.22508  ,\n",
       "                           10.070854 ,  10.194416 ], dtype=float32),\n",
       "              'xaxis': 'x',\n",
       "              'y': array([ -0.8274795 ,  -2.9759111 ,  -2.0014954 , -12.842128  ,  -2.2316685 ,\n",
       "                           -3.6575568 , -14.519055  ,  12.339765  ,  17.285315  ,  -3.297866  ,\n",
       "                           -0.71609557,   5.4332266 , -12.225268  , -14.754406  , -15.105968  ,\n",
       "                          -10.570289  ,  -0.8312341 ,  12.33981   , -14.374147  ,  17.281265  ,\n",
       "                          -10.34264   ,  -3.326251  , -10.699967  , -12.344262  ,  -2.4410982 ,\n",
       "                          -14.712887  ,   5.359988  , -10.802428  ,  -0.59398174,  -2.6920245 ,\n",
       "                          -12.659108  ,  -2.1630635 ,  -2.233516  , -15.206845  ,  -1.080119  ,\n",
       "                            5.72639   ,   5.8496885 ], dtype=float32),\n",
       "              'yaxis': 'y'}],\n",
       "    'layout': {'annotations': [{'showarrow': False,\n",
       "                                'text': 'D1',\n",
       "                                'x': -15.501186800003051,\n",
       "                                'y': 1.1951198339462277,\n",
       "                                'yshift': 10},\n",
       "                               {'showarrow': False,\n",
       "                                'text': 'D2',\n",
       "                                'x': 2.379562497138977,\n",
       "                                'xshift': 10,\n",
       "                                'y': 19.878111743927}],\n",
       "               'height': 650,\n",
       "               'hoverlabel': {'bgcolor': 'white', 'font': {'family': 'Rockwell', 'size': 16}},\n",
       "               'legend': {'itemsizing': 'constant', 'tracegroupgap': 0},\n",
       "               'margin': {'t': 60},\n",
       "               'shapes': [{'line': {'color': '#CFD8DC', 'width': 2},\n",
       "                           'type': 'line',\n",
       "                           'x0': 2.379562497138977,\n",
       "                           'x1': 2.379562497138977,\n",
       "                           'y0': -17.487872076034545,\n",
       "                           'y1': 19.878111743927},\n",
       "                          {'line': {'color': '#9E9E9E', 'width': 2},\n",
       "                           'type': 'line',\n",
       "                           'x0': -15.501186800003051,\n",
       "                           'x1': 20.260311794281005,\n",
       "                           'y0': 1.1951198339462277,\n",
       "                           'y1': 1.1951198339462277}],\n",
       "               'sliders': [{'active': 0,\n",
       "                            'pad': {'t': 50},\n",
       "                            'steps': [{'args': [{'marker.color': [['red',\n",
       "                                                                  '#B0BEC5',\n",
       "                                                                  '#B0BEC5',\n",
       "                                                                  '#B0BEC5',\n",
       "                                                                  '#B0BEC5',\n",
       "                                                                  '#B0BEC5',\n",
       "                                                                  '#B0BEC5',\n",
       "                                                                  '#B0BEC5',\n",
       "                                                                  '#B0BEC5',\n",
       "                                                                  '#B0BEC5',\n",
       "                                                                  '#B0BEC5',\n",
       "                                                                  '#B0BEC5',\n",
       "                                                                  '#B0BEC5',\n",
       "                                                                  '#B0BEC5',\n",
       "                                                                  '#B0BEC5',\n",
       "                                                                  '#B0BEC5',\n",
       "                                                                  '#B0BEC5',\n",
       "                                                                  '#B0BEC5',\n",
       "                                                                  '#B0BEC5',\n",
       "                                                                  '#B0BEC5',\n",
       "                                                                  '#B0BEC5',\n",
       "                                                                  '#B0BEC5',\n",
       "                                                                  '#B0BEC5',\n",
       "                                                                  '#B0BEC5',\n",
       "                                                                  '#B0BEC5',\n",
       "                                                                  '#B0BEC5',\n",
       "                                                                  '#B0BEC5',\n",
       "                                                                  '#B0BEC5',\n",
       "                                                                  '#B0BEC5',\n",
       "                                                                  '#B0BEC5',\n",
       "                                                                  '#B0BEC5',\n",
       "                                                                  '#B0BEC5',\n",
       "                                                                  '#B0BEC5',\n",
       "                                                                  '#B0BEC5',\n",
       "                                                                  '#B0BEC5',\n",
       "                                                                  '#B0BEC5',\n",
       "                                                                  '#B0BEC5']]}],\n",
       "                                       'label': 'Topic 0',\n",
       "                                       'method': 'update'},\n",
       "                                      {'args': [{'marker.color': [['#B0BEC5',\n",
       "                                                                  'red', '#B0BEC5',\n",
       "                                                                  '#B0BEC5',\n",
       "                                                                  '#B0BEC5',\n",
       "                                                                  '#B0BEC5',\n",
       "                                                                  '#B0BEC5',\n",
       "                                                                  '#B0BEC5',\n",
       "                                                                  '#B0BEC5',\n",
       "                                                                  '#B0BEC5',\n",
       "                                                                  '#B0BEC5',\n",
       "                                                                  '#B0BEC5',\n",
       "                                                                  '#B0BEC5',\n",
       "                                                                  '#B0BEC5',\n",
       "                                                                  '#B0BEC5',\n",
       "                                                                  '#B0BEC5',\n",
       "                                                                  '#B0BEC5',\n",
       "                                                                  '#B0BEC5',\n",
       "                                                                  '#B0BEC5',\n",
       "                                                                  '#B0BEC5',\n",
       "                                                                  '#B0BEC5',\n",
       "                                                                  '#B0BEC5',\n",
       "                                                                  '#B0BEC5',\n",
       "                                                                  '#B0BEC5',\n",
       "                                                                  '#B0BEC5',\n",
       "                                                                  '#B0BEC5',\n",
       "                                                                  '#B0BEC5',\n",
       "                                                                  '#B0BEC5',\n",
       "                                                                  '#B0BEC5',\n",
       "                                                                  '#B0BEC5',\n",
       "                                                                  '#B0BEC5',\n",
       "                                                                  '#B0BEC5',\n",
       "                                                                  '#B0BEC5',\n",
       "                                                                  '#B0BEC5',\n",
       "                                                                  '#B0BEC5',\n",
       "                                                                  '#B0BEC5',\n",
       "                                                                  '#B0BEC5']]}],\n",
       "                                       'label': 'Topic 1',\n",
       "                                       'method': 'update'},\n",
       "                                      {'args': [{'marker.color': [['#B0BEC5',\n",
       "                                                                  '#B0BEC5', 'red',\n",
       "                                                                  '#B0BEC5',\n",
       "                                                                  '#B0BEC5',\n",
       "                                                                  '#B0BEC5',\n",
       "                                                                  '#B0BEC5',\n",
       "                                                                  '#B0BEC5',\n",
       "                                                                  '#B0BEC5',\n",
       "                                                                  '#B0BEC5',\n",
       "                                                                  '#B0BEC5',\n",
       "                                                                  '#B0BEC5',\n",
       "                                                                  '#B0BEC5',\n",
       "                                                                  '#B0BEC5',\n",
       "                                                                  '#B0BEC5',\n",
       "                                                                  '#B0BEC5',\n",
       "                                                                  '#B0BEC5',\n",
       "                                                                  '#B0BEC5',\n",
       "                                                                  '#B0BEC5',\n",
       "                                                                  '#B0BEC5',\n",
       "                                                                  '#B0BEC5',\n",
       "                                                                  '#B0BEC5',\n",
       "                                                                  '#B0BEC5',\n",
       "                                                                  '#B0BEC5',\n",
       "                                                                  '#B0BEC5',\n",
       "                                                                  '#B0BEC5',\n",
       "                                                                  '#B0BEC5',\n",
       "                                                                  '#B0BEC5',\n",
       "                                                                  '#B0BEC5',\n",
       "                                                                  '#B0BEC5',\n",
       "                                                                  '#B0BEC5',\n",
       "                                                                  '#B0BEC5',\n",
       "                                                                  '#B0BEC5',\n",
       "                                                                  '#B0BEC5',\n",
       "                                                                  '#B0BEC5',\n",
       "                                                                  '#B0BEC5',\n",
       "                                                                  '#B0BEC5']]}],\n",
       "                                       'label': 'Topic 2',\n",
       "                                       'method': 'update'},\n",
       "                                      {'args': [{'marker.color': [['#B0BEC5',\n",
       "                                                                  '#B0BEC5',\n",
       "                                                                  '#B0BEC5', 'red',\n",
       "                                                                  '#B0BEC5',\n",
       "                                                                  '#B0BEC5',\n",
       "                                                                  '#B0BEC5',\n",
       "                                                                  '#B0BEC5',\n",
       "                                                                  '#B0BEC5',\n",
       "                                                                  '#B0BEC5',\n",
       "                                                                  '#B0BEC5',\n",
       "                                                                  '#B0BEC5',\n",
       "                                                                  '#B0BEC5',\n",
       "                                                                  '#B0BEC5',\n",
       "                                                                  '#B0BEC5',\n",
       "                                                                  '#B0BEC5',\n",
       "                                                                  '#B0BEC5',\n",
       "                                                                  '#B0BEC5',\n",
       "                                                                  '#B0BEC5',\n",
       "                                                                  '#B0BEC5',\n",
       "                                                                  '#B0BEC5',\n",
       "                                                                  '#B0BEC5',\n",
       "                                                                  '#B0BEC5',\n",
       "                                                                  '#B0BEC5',\n",
       "                                                                  '#B0BEC5',\n",
       "                                                                  '#B0BEC5',\n",
       "                                                                  '#B0BEC5',\n",
       "                                                                  '#B0BEC5',\n",
       "                                                                  '#B0BEC5',\n",
       "                                                                  '#B0BEC5',\n",
       "                                                                  '#B0BEC5',\n",
       "                                                                  '#B0BEC5',\n",
       "                                                                  '#B0BEC5',\n",
       "                                                                  '#B0BEC5',\n",
       "                                                                  '#B0BEC5',\n",
       "                                                                  '#B0BEC5',\n",
       "                                                                  '#B0BEC5']]}],\n",
       "                                       'label': 'Topic 3',\n",
       "                                       'method': 'update'},\n",
       "                                      {'args': [{'marker.color': [['#B0BEC5',\n",
       "                                                                  '#B0BEC5',\n",
       "                                                                  '#B0BEC5',\n",
       "                                                                  '#B0BEC5', 'red',\n",
       "                                                                  '#B0BEC5',\n",
       "                                                                  '#B0BEC5',\n",
       "                                                                  '#B0BEC5',\n",
       "                                                                  '#B0BEC5',\n",
       "                                                                  '#B0BEC5',\n",
       "                                                                  '#B0BEC5',\n",
       "                                                                  '#B0BEC5',\n",
       "                                                                  '#B0BEC5',\n",
       "                                                                  '#B0BEC5',\n",
       "                                                                  '#B0BEC5',\n",
       "                                                                  '#B0BEC5',\n",
       "                                                                  '#B0BEC5',\n",
       "                                                                  '#B0BEC5',\n",
       "                                                                  '#B0BEC5',\n",
       "                                                                  '#B0BEC5',\n",
       "                                                                  '#B0BEC5',\n",
       "                                                                  '#B0BEC5',\n",
       "                                                                  '#B0BEC5',\n",
       "                                                                  '#B0BEC5',\n",
       "                                                                  '#B0BEC5',\n",
       "                                                                  '#B0BEC5',\n",
       "                                                                  '#B0BEC5',\n",
       "                                                                  '#B0BEC5',\n",
       "                                                                  '#B0BEC5',\n",
       "                                                                  '#B0BEC5',\n",
       "                                                                  '#B0BEC5',\n",
       "                                                                  '#B0BEC5',\n",
       "                                                                  '#B0BEC5',\n",
       "                                                                  '#B0BEC5',\n",
       "                                                                  '#B0BEC5',\n",
       "                                                                  '#B0BEC5',\n",
       "                                                                  '#B0BEC5']]}],\n",
       "                                       'label': 'Topic 4',\n",
       "                                       'method': 'update'},\n",
       "                                      {'args': [{'marker.color': [['#B0BEC5',\n",
       "                                                                  '#B0BEC5',\n",
       "                                                                  '#B0BEC5',\n",
       "                                                                  '#B0BEC5',\n",
       "                                                                  '#B0BEC5', 'red',\n",
       "                                                                  '#B0BEC5',\n",
       "                                                                  '#B0BEC5',\n",
       "                                                                  '#B0BEC5',\n",
       "                                                                  '#B0BEC5',\n",
       "                                                                  '#B0BEC5',\n",
       "                                                                  '#B0BEC5',\n",
       "                                                                  '#B0BEC5',\n",
       "                                                                  '#B0BEC5',\n",
       "                                                                  '#B0BEC5',\n",
       "                                                                  '#B0BEC5',\n",
       "                                                                  '#B0BEC5',\n",
       "                                                                  '#B0BEC5',\n",
       "                                                                  '#B0BEC5',\n",
       "                                                                  '#B0BEC5',\n",
       "                                                                  '#B0BEC5',\n",
       "                                                                  '#B0BEC5',\n",
       "                                                                  '#B0BEC5',\n",
       "                                                                  '#B0BEC5',\n",
       "                                                                  '#B0BEC5',\n",
       "                                                                  '#B0BEC5',\n",
       "                                                                  '#B0BEC5',\n",
       "                                                                  '#B0BEC5',\n",
       "                                                                  '#B0BEC5',\n",
       "                                                                  '#B0BEC5',\n",
       "                                                                  '#B0BEC5',\n",
       "                                                                  '#B0BEC5',\n",
       "                                                                  '#B0BEC5',\n",
       "                                                                  '#B0BEC5',\n",
       "                                                                  '#B0BEC5',\n",
       "                                                                  '#B0BEC5',\n",
       "                                                                  '#B0BEC5']]}],\n",
       "                                       'label': 'Topic 5',\n",
       "                                       'method': 'update'},\n",
       "                                      {'args': [{'marker.color': [['#B0BEC5',\n",
       "                                                                  '#B0BEC5',\n",
       "                                                                  '#B0BEC5',\n",
       "                                                                  '#B0BEC5',\n",
       "                                                                  '#B0BEC5',\n",
       "                                                                  '#B0BEC5', 'red',\n",
       "                                                                  '#B0BEC5',\n",
       "                                                                  '#B0BEC5',\n",
       "                                                                  '#B0BEC5',\n",
       "                                                                  '#B0BEC5',\n",
       "                                                                  '#B0BEC5',\n",
       "                                                                  '#B0BEC5',\n",
       "                                                                  '#B0BEC5',\n",
       "                                                                  '#B0BEC5',\n",
       "                                                                  '#B0BEC5',\n",
       "                                                                  '#B0BEC5',\n",
       "                                                                  '#B0BEC5',\n",
       "                                                                  '#B0BEC5',\n",
       "                                                                  '#B0BEC5',\n",
       "                                                                  '#B0BEC5',\n",
       "                                                                  '#B0BEC5',\n",
       "                                                                  '#B0BEC5',\n",
       "                                                                  '#B0BEC5',\n",
       "                                                                  '#B0BEC5',\n",
       "                                                                  '#B0BEC5',\n",
       "                                                                  '#B0BEC5',\n",
       "                                                                  '#B0BEC5',\n",
       "                                                                  '#B0BEC5',\n",
       "                                                                  '#B0BEC5',\n",
       "                                                                  '#B0BEC5',\n",
       "                                                                  '#B0BEC5',\n",
       "                                                                  '#B0BEC5',\n",
       "                                                                  '#B0BEC5',\n",
       "                                                                  '#B0BEC5',\n",
       "                                                                  '#B0BEC5',\n",
       "                                                                  '#B0BEC5']]}],\n",
       "                                       'label': 'Topic 6',\n",
       "                                       'method': 'update'},\n",
       "                                      {'args': [{'marker.color': [['#B0BEC5',\n",
       "                                                                  '#B0BEC5',\n",
       "                                                                  '#B0BEC5',\n",
       "                                                                  '#B0BEC5',\n",
       "                                                                  '#B0BEC5',\n",
       "                                                                  '#B0BEC5',\n",
       "                                                                  '#B0BEC5', 'red',\n",
       "                                                                  '#B0BEC5',\n",
       "                                                                  '#B0BEC5',\n",
       "                                                                  '#B0BEC5',\n",
       "                                                                  '#B0BEC5',\n",
       "                                                                  '#B0BEC5',\n",
       "                                                                  '#B0BEC5',\n",
       "                                                                  '#B0BEC5',\n",
       "                                                                  '#B0BEC5',\n",
       "                                                                  '#B0BEC5',\n",
       "                                                                  '#B0BEC5',\n",
       "                                                                  '#B0BEC5',\n",
       "                                                                  '#B0BEC5',\n",
       "                                                                  '#B0BEC5',\n",
       "                                                                  '#B0BEC5',\n",
       "                                                                  '#B0BEC5',\n",
       "                                                                  '#B0BEC5',\n",
       "                                                                  '#B0BEC5',\n",
       "                                                                  '#B0BEC5',\n",
       "                                                                  '#B0BEC5',\n",
       "                                                                  '#B0BEC5',\n",
       "                                                                  '#B0BEC5',\n",
       "                                                                  '#B0BEC5',\n",
       "                                                                  '#B0BEC5',\n",
       "                                                                  '#B0BEC5',\n",
       "                                                                  '#B0BEC5',\n",
       "                                                                  '#B0BEC5',\n",
       "                                                                  '#B0BEC5',\n",
       "                                                                  '#B0BEC5',\n",
       "                                                                  '#B0BEC5']]}],\n",
       "                                       'label': 'Topic 7',\n",
       "                                       'method': 'update'},\n",
       "                                      {'args': [{'marker.color': [['#B0BEC5',\n",
       "                                                                  '#B0BEC5',\n",
       "                                                                  '#B0BEC5',\n",
       "                                                                  '#B0BEC5',\n",
       "                                                                  '#B0BEC5',\n",
       "                                                                  '#B0BEC5',\n",
       "                                                                  '#B0BEC5',\n",
       "                                                                  '#B0BEC5', 'red',\n",
       "                                                                  '#B0BEC5',\n",
       "                                                                  '#B0BEC5',\n",
       "                                                                  '#B0BEC5',\n",
       "                                                                  '#B0BEC5',\n",
       "                                                                  '#B0BEC5',\n",
       "                                                                  '#B0BEC5',\n",
       "                                                                  '#B0BEC5',\n",
       "                                                                  '#B0BEC5',\n",
       "                                                                  '#B0BEC5',\n",
       "                                                                  '#B0BEC5',\n",
       "                                                                  '#B0BEC5',\n",
       "                                                                  '#B0BEC5',\n",
       "                                                                  '#B0BEC5',\n",
       "                                                                  '#B0BEC5',\n",
       "                                                                  '#B0BEC5',\n",
       "                                                                  '#B0BEC5',\n",
       "                                                                  '#B0BEC5',\n",
       "                                                                  '#B0BEC5',\n",
       "                                                                  '#B0BEC5',\n",
       "                                                                  '#B0BEC5',\n",
       "                                                                  '#B0BEC5',\n",
       "                                                                  '#B0BEC5',\n",
       "                                                                  '#B0BEC5',\n",
       "                                                                  '#B0BEC5',\n",
       "                                                                  '#B0BEC5',\n",
       "                                                                  '#B0BEC5',\n",
       "                                                                  '#B0BEC5',\n",
       "                                                                  '#B0BEC5']]}],\n",
       "                                       'label': 'Topic 8',\n",
       "                                       'method': 'update'},\n",
       "                                      {'args': [{'marker.color': [['#B0BEC5',\n",
       "                                                                  '#B0BEC5',\n",
       "                                                                  '#B0BEC5',\n",
       "                                                                  '#B0BEC5',\n",
       "                                                                  '#B0BEC5',\n",
       "                                                                  '#B0BEC5',\n",
       "                                                                  '#B0BEC5',\n",
       "                                                                  '#B0BEC5',\n",
       "                                                                  '#B0BEC5', 'red',\n",
       "                                                                  '#B0BEC5',\n",
       "                                                                  '#B0BEC5',\n",
       "                                                                  '#B0BEC5',\n",
       "                                                                  '#B0BEC5',\n",
       "                                                                  '#B0BEC5',\n",
       "                                                                  '#B0BEC5',\n",
       "                                                                  '#B0BEC5',\n",
       "                                                                  '#B0BEC5',\n",
       "                                                                  '#B0BEC5',\n",
       "                                                                  '#B0BEC5',\n",
       "                                                                  '#B0BEC5',\n",
       "                                                                  '#B0BEC5',\n",
       "                                                                  '#B0BEC5',\n",
       "                                                                  '#B0BEC5',\n",
       "                                                                  '#B0BEC5',\n",
       "                                                                  '#B0BEC5',\n",
       "                                                                  '#B0BEC5',\n",
       "                                                                  '#B0BEC5',\n",
       "                                                                  '#B0BEC5',\n",
       "                                                                  '#B0BEC5',\n",
       "                                                                  '#B0BEC5',\n",
       "                                                                  '#B0BEC5',\n",
       "                                                                  '#B0BEC5',\n",
       "                                                                  '#B0BEC5',\n",
       "                                                                  '#B0BEC5',\n",
       "                                                                  '#B0BEC5',\n",
       "                                                                  '#B0BEC5']]}],\n",
       "                                       'label': 'Topic 9',\n",
       "                                       'method': 'update'},\n",
       "                                      {'args': [{'marker.color': [['#B0BEC5',\n",
       "                                                                  '#B0BEC5',\n",
       "                                                                  '#B0BEC5',\n",
       "                                                                  '#B0BEC5',\n",
       "                                                                  '#B0BEC5',\n",
       "                                                                  '#B0BEC5',\n",
       "                                                                  '#B0BEC5',\n",
       "                                                                  '#B0BEC5',\n",
       "                                                                  '#B0BEC5',\n",
       "                                                                  '#B0BEC5', 'red',\n",
       "                                                                  '#B0BEC5',\n",
       "                                                                  '#B0BEC5',\n",
       "                                                                  '#B0BEC5',\n",
       "                                                                  '#B0BEC5',\n",
       "                                                                  '#B0BEC5',\n",
       "                                                                  '#B0BEC5',\n",
       "                                                                  '#B0BEC5',\n",
       "                                                                  '#B0BEC5',\n",
       "                                                                  '#B0BEC5',\n",
       "                                                                  '#B0BEC5',\n",
       "                                                                  '#B0BEC5',\n",
       "                                                                  '#B0BEC5',\n",
       "                                                                  '#B0BEC5',\n",
       "                                                                  '#B0BEC5',\n",
       "                                                                  '#B0BEC5',\n",
       "                                                                  '#B0BEC5',\n",
       "                                                                  '#B0BEC5',\n",
       "                                                                  '#B0BEC5',\n",
       "                                                                  '#B0BEC5',\n",
       "                                                                  '#B0BEC5',\n",
       "                                                                  '#B0BEC5',\n",
       "                                                                  '#B0BEC5',\n",
       "                                                                  '#B0BEC5',\n",
       "                                                                  '#B0BEC5',\n",
       "                                                                  '#B0BEC5',\n",
       "                                                                  '#B0BEC5']]}],\n",
       "                                       'label': 'Topic 10',\n",
       "                                       'method': 'update'},\n",
       "                                      {'args': [{'marker.color': [['#B0BEC5',\n",
       "                                                                  '#B0BEC5',\n",
       "                                                                  '#B0BEC5',\n",
       "                                                                  '#B0BEC5',\n",
       "                                                                  '#B0BEC5',\n",
       "                                                                  '#B0BEC5',\n",
       "                                                                  '#B0BEC5',\n",
       "                                                                  '#B0BEC5',\n",
       "                                                                  '#B0BEC5',\n",
       "                                                                  '#B0BEC5',\n",
       "                                                                  '#B0BEC5', 'red',\n",
       "                                                                  '#B0BEC5',\n",
       "                                                                  '#B0BEC5',\n",
       "                                                                  '#B0BEC5',\n",
       "                                                                  '#B0BEC5',\n",
       "                                                                  '#B0BEC5',\n",
       "                                                                  '#B0BEC5',\n",
       "                                                                  '#B0BEC5',\n",
       "                                                                  '#B0BEC5',\n",
       "                                                                  '#B0BEC5',\n",
       "                                                                  '#B0BEC5',\n",
       "                                                                  '#B0BEC5',\n",
       "                                                                  '#B0BEC5',\n",
       "                                                                  '#B0BEC5',\n",
       "                                                                  '#B0BEC5',\n",
       "                                                                  '#B0BEC5',\n",
       "                                                                  '#B0BEC5',\n",
       "                                                                  '#B0BEC5',\n",
       "                                                                  '#B0BEC5',\n",
       "                                                                  '#B0BEC5',\n",
       "                                                                  '#B0BEC5',\n",
       "                                                                  '#B0BEC5',\n",
       "                                                                  '#B0BEC5',\n",
       "                                                                  '#B0BEC5',\n",
       "                                                                  '#B0BEC5',\n",
       "                                                                  '#B0BEC5']]}],\n",
       "                                       'label': 'Topic 11',\n",
       "                                       'method': 'update'},\n",
       "                                      {'args': [{'marker.color': [['#B0BEC5',\n",
       "                                                                  '#B0BEC5',\n",
       "                                                                  '#B0BEC5',\n",
       "                                                                  '#B0BEC5',\n",
       "                                                                  '#B0BEC5',\n",
       "                                                                  '#B0BEC5',\n",
       "                                                                  '#B0BEC5',\n",
       "                                                                  '#B0BEC5',\n",
       "                                                                  '#B0BEC5',\n",
       "                                                                  '#B0BEC5',\n",
       "                                                                  '#B0BEC5',\n",
       "                                                                  '#B0BEC5', 'red',\n",
       "                                                                  '#B0BEC5',\n",
       "                                                                  '#B0BEC5',\n",
       "                                                                  '#B0BEC5',\n",
       "                                                                  '#B0BEC5',\n",
       "                                                                  '#B0BEC5',\n",
       "                                                                  '#B0BEC5',\n",
       "                                                                  '#B0BEC5',\n",
       "                                                                  '#B0BEC5',\n",
       "                                                                  '#B0BEC5',\n",
       "                                                                  '#B0BEC5',\n",
       "                                                                  '#B0BEC5',\n",
       "                                                                  '#B0BEC5',\n",
       "                                                                  '#B0BEC5',\n",
       "                                                                  '#B0BEC5',\n",
       "                                                                  '#B0BEC5',\n",
       "                                                                  '#B0BEC5',\n",
       "                                                                  '#B0BEC5',\n",
       "                                                                  '#B0BEC5',\n",
       "                                                                  '#B0BEC5',\n",
       "                                                                  '#B0BEC5',\n",
       "                                                                  '#B0BEC5',\n",
       "                                                                  '#B0BEC5',\n",
       "                                                                  '#B0BEC5',\n",
       "                                                                  '#B0BEC5']]}],\n",
       "                                       'label': 'Topic 12',\n",
       "                                       'method': 'update'},\n",
       "                                      {'args': [{'marker.color': [['#B0BEC5',\n",
       "                                                                  '#B0BEC5',\n",
       "                                                                  '#B0BEC5',\n",
       "                                                                  '#B0BEC5',\n",
       "                                                                  '#B0BEC5',\n",
       "                                                                  '#B0BEC5',\n",
       "                                                                  '#B0BEC5',\n",
       "                                                                  '#B0BEC5',\n",
       "                                                                  '#B0BEC5',\n",
       "                                                                  '#B0BEC5',\n",
       "                                                                  '#B0BEC5',\n",
       "                                                                  '#B0BEC5',\n",
       "                                                                  '#B0BEC5', 'red',\n",
       "                                                                  '#B0BEC5',\n",
       "                                                                  '#B0BEC5',\n",
       "                                                                  '#B0BEC5',\n",
       "                                                                  '#B0BEC5',\n",
       "                                                                  '#B0BEC5',\n",
       "                                                                  '#B0BEC5',\n",
       "                                                                  '#B0BEC5',\n",
       "                                                                  '#B0BEC5',\n",
       "                                                                  '#B0BEC5',\n",
       "                                                                  '#B0BEC5',\n",
       "                                                                  '#B0BEC5',\n",
       "                                                                  '#B0BEC5',\n",
       "                                                                  '#B0BEC5',\n",
       "                                                                  '#B0BEC5',\n",
       "                                                                  '#B0BEC5',\n",
       "                                                                  '#B0BEC5',\n",
       "                                                                  '#B0BEC5',\n",
       "                                                                  '#B0BEC5',\n",
       "                                                                  '#B0BEC5',\n",
       "                                                                  '#B0BEC5',\n",
       "                                                                  '#B0BEC5',\n",
       "                                                                  '#B0BEC5',\n",
       "                                                                  '#B0BEC5']]}],\n",
       "                                       'label': 'Topic 13',\n",
       "                                       'method': 'update'},\n",
       "                                      {'args': [{'marker.color': [['#B0BEC5',\n",
       "                                                                  '#B0BEC5',\n",
       "                                                                  '#B0BEC5',\n",
       "                                                                  '#B0BEC5',\n",
       "                                                                  '#B0BEC5',\n",
       "                                                                  '#B0BEC5',\n",
       "                                                                  '#B0BEC5',\n",
       "                                                                  '#B0BEC5',\n",
       "                                                                  '#B0BEC5',\n",
       "                                                                  '#B0BEC5',\n",
       "                                                                  '#B0BEC5',\n",
       "                                                                  '#B0BEC5',\n",
       "                                                                  '#B0BEC5',\n",
       "                                                                  '#B0BEC5', 'red',\n",
       "                                                                  '#B0BEC5',\n",
       "                                                                  '#B0BEC5',\n",
       "                                                                  '#B0BEC5',\n",
       "                                                                  '#B0BEC5',\n",
       "                                                                  '#B0BEC5',\n",
       "                                                                  '#B0BEC5',\n",
       "                                                                  '#B0BEC5',\n",
       "                                                                  '#B0BEC5',\n",
       "                                                                  '#B0BEC5',\n",
       "                                                                  '#B0BEC5',\n",
       "                                                                  '#B0BEC5',\n",
       "                                                                  '#B0BEC5',\n",
       "                                                                  '#B0BEC5',\n",
       "                                                                  '#B0BEC5',\n",
       "                                                                  '#B0BEC5',\n",
       "                                                                  '#B0BEC5',\n",
       "                                                                  '#B0BEC5',\n",
       "                                                                  '#B0BEC5',\n",
       "                                                                  '#B0BEC5',\n",
       "                                                                  '#B0BEC5',\n",
       "                                                                  '#B0BEC5',\n",
       "                                                                  '#B0BEC5']]}],\n",
       "                                       'label': 'Topic 14',\n",
       "                                       'method': 'update'},\n",
       "                                      {'args': [{'marker.color': [['#B0BEC5',\n",
       "                                                                  '#B0BEC5',\n",
       "                                                                  '#B0BEC5',\n",
       "                                                                  '#B0BEC5',\n",
       "                                                                  '#B0BEC5',\n",
       "                                                                  '#B0BEC5',\n",
       "                                                                  '#B0BEC5',\n",
       "                                                                  '#B0BEC5',\n",
       "                                                                  '#B0BEC5',\n",
       "                                                                  '#B0BEC5',\n",
       "                                                                  '#B0BEC5',\n",
       "                                                                  '#B0BEC5',\n",
       "                                                                  '#B0BEC5',\n",
       "                                                                  '#B0BEC5',\n",
       "                                                                  '#B0BEC5', 'red',\n",
       "                                                                  '#B0BEC5',\n",
       "                                                                  '#B0BEC5',\n",
       "                                                                  '#B0BEC5',\n",
       "                                                                  '#B0BEC5',\n",
       "                                                                  '#B0BEC5',\n",
       "                                                                  '#B0BEC5',\n",
       "                                                                  '#B0BEC5',\n",
       "                                                                  '#B0BEC5',\n",
       "                                                                  '#B0BEC5',\n",
       "                                                                  '#B0BEC5',\n",
       "                                                                  '#B0BEC5',\n",
       "                                                                  '#B0BEC5',\n",
       "                                                                  '#B0BEC5',\n",
       "                                                                  '#B0BEC5',\n",
       "                                                                  '#B0BEC5',\n",
       "                                                                  '#B0BEC5',\n",
       "                                                                  '#B0BEC5',\n",
       "                                                                  '#B0BEC5',\n",
       "                                                                  '#B0BEC5',\n",
       "                                                                  '#B0BEC5',\n",
       "                                                                  '#B0BEC5']]}],\n",
       "                                       'label': 'Topic 15',\n",
       "                                       'method': 'update'},\n",
       "                                      {'args': [{'marker.color': [['#B0BEC5',\n",
       "                                                                  '#B0BEC5',\n",
       "                                                                  '#B0BEC5',\n",
       "                                                                  '#B0BEC5',\n",
       "                                                                  '#B0BEC5',\n",
       "                                                                  '#B0BEC5',\n",
       "                                                                  '#B0BEC5',\n",
       "                                                                  '#B0BEC5',\n",
       "                                                                  '#B0BEC5',\n",
       "                                                                  '#B0BEC5',\n",
       "                                                                  '#B0BEC5',\n",
       "                                                                  '#B0BEC5',\n",
       "                                                                  '#B0BEC5',\n",
       "                                                                  '#B0BEC5',\n",
       "                                                                  '#B0BEC5',\n",
       "                                                                  '#B0BEC5', 'red',\n",
       "                                                                  '#B0BEC5',\n",
       "                                                                  '#B0BEC5',\n",
       "                                                                  '#B0BEC5',\n",
       "                                                                  '#B0BEC5',\n",
       "                                                                  '#B0BEC5',\n",
       "                                                                  '#B0BEC5',\n",
       "                                                                  '#B0BEC5',\n",
       "                                                                  '#B0BEC5',\n",
       "                                                                  '#B0BEC5',\n",
       "                                                                  '#B0BEC5',\n",
       "                                                                  '#B0BEC5',\n",
       "                                                                  '#B0BEC5',\n",
       "                                                                  '#B0BEC5',\n",
       "                                                                  '#B0BEC5',\n",
       "                                                                  '#B0BEC5',\n",
       "                                                                  '#B0BEC5',\n",
       "                                                                  '#B0BEC5',\n",
       "                                                                  '#B0BEC5',\n",
       "                                                                  '#B0BEC5',\n",
       "                                                                  '#B0BEC5']]}],\n",
       "                                       'label': 'Topic 16',\n",
       "                                       'method': 'update'},\n",
       "                                      {'args': [{'marker.color': [['#B0BEC5',\n",
       "                                                                  '#B0BEC5',\n",
       "                                                                  '#B0BEC5',\n",
       "                                                                  '#B0BEC5',\n",
       "                                                                  '#B0BEC5',\n",
       "                                                                  '#B0BEC5',\n",
       "                                                                  '#B0BEC5',\n",
       "                                                                  '#B0BEC5',\n",
       "                                                                  '#B0BEC5',\n",
       "                                                                  '#B0BEC5',\n",
       "                                                                  '#B0BEC5',\n",
       "                                                                  '#B0BEC5',\n",
       "                                                                  '#B0BEC5',\n",
       "                                                                  '#B0BEC5',\n",
       "                                                                  '#B0BEC5',\n",
       "                                                                  '#B0BEC5',\n",
       "                                                                  '#B0BEC5', 'red',\n",
       "                                                                  '#B0BEC5',\n",
       "                                                                  '#B0BEC5',\n",
       "                                                                  '#B0BEC5',\n",
       "                                                                  '#B0BEC5',\n",
       "                                                                  '#B0BEC5',\n",
       "                                                                  '#B0BEC5',\n",
       "                                                                  '#B0BEC5',\n",
       "                                                                  '#B0BEC5',\n",
       "                                                                  '#B0BEC5',\n",
       "                                                                  '#B0BEC5',\n",
       "                                                                  '#B0BEC5',\n",
       "                                                                  '#B0BEC5',\n",
       "                                                                  '#B0BEC5',\n",
       "                                                                  '#B0BEC5',\n",
       "                                                                  '#B0BEC5',\n",
       "                                                                  '#B0BEC5',\n",
       "                                                                  '#B0BEC5',\n",
       "                                                                  '#B0BEC5',\n",
       "                                                                  '#B0BEC5']]}],\n",
       "                                       'label': 'Topic 17',\n",
       "                                       'method': 'update'},\n",
       "                                      {'args': [{'marker.color': [['#B0BEC5',\n",
       "                                                                  '#B0BEC5',\n",
       "                                                                  '#B0BEC5',\n",
       "                                                                  '#B0BEC5',\n",
       "                                                                  '#B0BEC5',\n",
       "                                                                  '#B0BEC5',\n",
       "                                                                  '#B0BEC5',\n",
       "                                                                  '#B0BEC5',\n",
       "                                                                  '#B0BEC5',\n",
       "                                                                  '#B0BEC5',\n",
       "                                                                  '#B0BEC5',\n",
       "                                                                  '#B0BEC5',\n",
       "                                                                  '#B0BEC5',\n",
       "                                                                  '#B0BEC5',\n",
       "                                                                  '#B0BEC5',\n",
       "                                                                  '#B0BEC5',\n",
       "                                                                  '#B0BEC5',\n",
       "                                                                  '#B0BEC5', 'red',\n",
       "                                                                  '#B0BEC5',\n",
       "                                                                  '#B0BEC5',\n",
       "                                                                  '#B0BEC5',\n",
       "                                                                  '#B0BEC5',\n",
       "                                                                  '#B0BEC5',\n",
       "                                                                  '#B0BEC5',\n",
       "                                                                  '#B0BEC5',\n",
       "                                                                  '#B0BEC5',\n",
       "                                                                  '#B0BEC5',\n",
       "                                                                  '#B0BEC5',\n",
       "                                                                  '#B0BEC5',\n",
       "                                                                  '#B0BEC5',\n",
       "                                                                  '#B0BEC5',\n",
       "                                                                  '#B0BEC5',\n",
       "                                                                  '#B0BEC5',\n",
       "                                                                  '#B0BEC5',\n",
       "                                                                  '#B0BEC5',\n",
       "                                                                  '#B0BEC5']]}],\n",
       "                                       'label': 'Topic 18',\n",
       "                                       'method': 'update'},\n",
       "                                      {'args': [{'marker.color': [['#B0BEC5',\n",
       "                                                                  '#B0BEC5',\n",
       "                                                                  '#B0BEC5',\n",
       "                                                                  '#B0BEC5',\n",
       "                                                                  '#B0BEC5',\n",
       "                                                                  '#B0BEC5',\n",
       "                                                                  '#B0BEC5',\n",
       "                                                                  '#B0BEC5',\n",
       "                                                                  '#B0BEC5',\n",
       "                                                                  '#B0BEC5',\n",
       "                                                                  '#B0BEC5',\n",
       "                                                                  '#B0BEC5',\n",
       "                                                                  '#B0BEC5',\n",
       "                                                                  '#B0BEC5',\n",
       "                                                                  '#B0BEC5',\n",
       "                                                                  '#B0BEC5',\n",
       "                                                                  '#B0BEC5',\n",
       "                                                                  '#B0BEC5',\n",
       "                                                                  '#B0BEC5', 'red',\n",
       "                                                                  '#B0BEC5',\n",
       "                                                                  '#B0BEC5',\n",
       "                                                                  '#B0BEC5',\n",
       "                                                                  '#B0BEC5',\n",
       "                                                                  '#B0BEC5',\n",
       "                                                                  '#B0BEC5',\n",
       "                                                                  '#B0BEC5',\n",
       "                                                                  '#B0BEC5',\n",
       "                                                                  '#B0BEC5',\n",
       "                                                                  '#B0BEC5',\n",
       "                                                                  '#B0BEC5',\n",
       "                                                                  '#B0BEC5',\n",
       "                                                                  '#B0BEC5',\n",
       "                                                                  '#B0BEC5',\n",
       "                                                                  '#B0BEC5',\n",
       "                                                                  '#B0BEC5',\n",
       "                                                                  '#B0BEC5']]}],\n",
       "                                       'label': 'Topic 19',\n",
       "                                       'method': 'update'},\n",
       "                                      {'args': [{'marker.color': [['#B0BEC5',\n",
       "                                                                  '#B0BEC5',\n",
       "                                                                  '#B0BEC5',\n",
       "                                                                  '#B0BEC5',\n",
       "                                                                  '#B0BEC5',\n",
       "                                                                  '#B0BEC5',\n",
       "                                                                  '#B0BEC5',\n",
       "                                                                  '#B0BEC5',\n",
       "                                                                  '#B0BEC5',\n",
       "                                                                  '#B0BEC5',\n",
       "                                                                  '#B0BEC5',\n",
       "                                                                  '#B0BEC5',\n",
       "                                                                  '#B0BEC5',\n",
       "                                                                  '#B0BEC5',\n",
       "                                                                  '#B0BEC5',\n",
       "                                                                  '#B0BEC5',\n",
       "                                                                  '#B0BEC5',\n",
       "                                                                  '#B0BEC5',\n",
       "                                                                  '#B0BEC5',\n",
       "                                                                  '#B0BEC5', 'red',\n",
       "                                                                  '#B0BEC5',\n",
       "                                                                  '#B0BEC5',\n",
       "                                                                  '#B0BEC5',\n",
       "                                                                  '#B0BEC5',\n",
       "                                                                  '#B0BEC5',\n",
       "                                                                  '#B0BEC5',\n",
       "                                                                  '#B0BEC5',\n",
       "                                                                  '#B0BEC5',\n",
       "                                                                  '#B0BEC5',\n",
       "                                                                  '#B0BEC5',\n",
       "                                                                  '#B0BEC5',\n",
       "                                                                  '#B0BEC5',\n",
       "                                                                  '#B0BEC5',\n",
       "                                                                  '#B0BEC5',\n",
       "                                                                  '#B0BEC5',\n",
       "                                                                  '#B0BEC5']]}],\n",
       "                                       'label': 'Topic 20',\n",
       "                                       'method': 'update'},\n",
       "                                      {'args': [{'marker.color': [['#B0BEC5',\n",
       "                                                                  '#B0BEC5',\n",
       "                                                                  '#B0BEC5',\n",
       "                                                                  '#B0BEC5',\n",
       "                                                                  '#B0BEC5',\n",
       "                                                                  '#B0BEC5',\n",
       "                                                                  '#B0BEC5',\n",
       "                                                                  '#B0BEC5',\n",
       "                                                                  '#B0BEC5',\n",
       "                                                                  '#B0BEC5',\n",
       "                                                                  '#B0BEC5',\n",
       "                                                                  '#B0BEC5',\n",
       "                                                                  '#B0BEC5',\n",
       "                                                                  '#B0BEC5',\n",
       "                                                                  '#B0BEC5',\n",
       "                                                                  '#B0BEC5',\n",
       "                                                                  '#B0BEC5',\n",
       "                                                                  '#B0BEC5',\n",
       "                                                                  '#B0BEC5',\n",
       "                                                                  '#B0BEC5',\n",
       "                                                                  '#B0BEC5', 'red',\n",
       "                                                                  '#B0BEC5',\n",
       "                                                                  '#B0BEC5',\n",
       "                                                                  '#B0BEC5',\n",
       "                                                                  '#B0BEC5',\n",
       "                                                                  '#B0BEC5',\n",
       "                                                                  '#B0BEC5',\n",
       "                                                                  '#B0BEC5',\n",
       "                                                                  '#B0BEC5',\n",
       "                                                                  '#B0BEC5',\n",
       "                                                                  '#B0BEC5',\n",
       "                                                                  '#B0BEC5',\n",
       "                                                                  '#B0BEC5',\n",
       "                                                                  '#B0BEC5',\n",
       "                                                                  '#B0BEC5',\n",
       "                                                                  '#B0BEC5']]}],\n",
       "                                       'label': 'Topic 21',\n",
       "                                       'method': 'update'},\n",
       "                                      {'args': [{'marker.color': [['#B0BEC5',\n",
       "                                                                  '#B0BEC5',\n",
       "                                                                  '#B0BEC5',\n",
       "                                                                  '#B0BEC5',\n",
       "                                                                  '#B0BEC5',\n",
       "                                                                  '#B0BEC5',\n",
       "                                                                  '#B0BEC5',\n",
       "                                                                  '#B0BEC5',\n",
       "                                                                  '#B0BEC5',\n",
       "                                                                  '#B0BEC5',\n",
       "                                                                  '#B0BEC5',\n",
       "                                                                  '#B0BEC5',\n",
       "                                                                  '#B0BEC5',\n",
       "                                                                  '#B0BEC5',\n",
       "                                                                  '#B0BEC5',\n",
       "                                                                  '#B0BEC5',\n",
       "                                                                  '#B0BEC5',\n",
       "                                                                  '#B0BEC5',\n",
       "                                                                  '#B0BEC5',\n",
       "                                                                  '#B0BEC5',\n",
       "                                                                  '#B0BEC5',\n",
       "                                                                  '#B0BEC5', 'red',\n",
       "                                                                  '#B0BEC5',\n",
       "                                                                  '#B0BEC5',\n",
       "                                                                  '#B0BEC5',\n",
       "                                                                  '#B0BEC5',\n",
       "                                                                  '#B0BEC5',\n",
       "                                                                  '#B0BEC5',\n",
       "                                                                  '#B0BEC5',\n",
       "                                                                  '#B0BEC5',\n",
       "                                                                  '#B0BEC5',\n",
       "                                                                  '#B0BEC5',\n",
       "                                                                  '#B0BEC5',\n",
       "                                                                  '#B0BEC5',\n",
       "                                                                  '#B0BEC5',\n",
       "                                                                  '#B0BEC5']]}],\n",
       "                                       'label': 'Topic 22',\n",
       "                                       'method': 'update'},\n",
       "                                      {'args': [{'marker.color': [['#B0BEC5',\n",
       "                                                                  '#B0BEC5',\n",
       "                                                                  '#B0BEC5',\n",
       "                                                                  '#B0BEC5',\n",
       "                                                                  '#B0BEC5',\n",
       "                                                                  '#B0BEC5',\n",
       "                                                                  '#B0BEC5',\n",
       "                                                                  '#B0BEC5',\n",
       "                                                                  '#B0BEC5',\n",
       "                                                                  '#B0BEC5',\n",
       "                                                                  '#B0BEC5',\n",
       "                                                                  '#B0BEC5',\n",
       "                                                                  '#B0BEC5',\n",
       "                                                                  '#B0BEC5',\n",
       "                                                                  '#B0BEC5',\n",
       "                                                                  '#B0BEC5',\n",
       "                                                                  '#B0BEC5',\n",
       "                                                                  '#B0BEC5',\n",
       "                                                                  '#B0BEC5',\n",
       "                                                                  '#B0BEC5',\n",
       "                                                                  '#B0BEC5',\n",
       "                                                                  '#B0BEC5',\n",
       "                                                                  '#B0BEC5', 'red',\n",
       "                                                                  '#B0BEC5',\n",
       "                                                                  '#B0BEC5',\n",
       "                                                                  '#B0BEC5',\n",
       "                                                                  '#B0BEC5',\n",
       "                                                                  '#B0BEC5',\n",
       "                                                                  '#B0BEC5',\n",
       "                                                                  '#B0BEC5',\n",
       "                                                                  '#B0BEC5',\n",
       "                                                                  '#B0BEC5',\n",
       "                                                                  '#B0BEC5',\n",
       "                                                                  '#B0BEC5',\n",
       "                                                                  '#B0BEC5',\n",
       "                                                                  '#B0BEC5']]}],\n",
       "                                       'label': 'Topic 23',\n",
       "                                       'method': 'update'},\n",
       "                                      {'args': [{'marker.color': [['#B0BEC5',\n",
       "                                                                  '#B0BEC5',\n",
       "                                                                  '#B0BEC5',\n",
       "                                                                  '#B0BEC5',\n",
       "                                                                  '#B0BEC5',\n",
       "                                                                  '#B0BEC5',\n",
       "                                                                  '#B0BEC5',\n",
       "                                                                  '#B0BEC5',\n",
       "                                                                  '#B0BEC5',\n",
       "                                                                  '#B0BEC5',\n",
       "                                                                  '#B0BEC5',\n",
       "                                                                  '#B0BEC5',\n",
       "                                                                  '#B0BEC5',\n",
       "                                                                  '#B0BEC5',\n",
       "                                                                  '#B0BEC5',\n",
       "                                                                  '#B0BEC5',\n",
       "                                                                  '#B0BEC5',\n",
       "                                                                  '#B0BEC5',\n",
       "                                                                  '#B0BEC5',\n",
       "                                                                  '#B0BEC5',\n",
       "                                                                  '#B0BEC5',\n",
       "                                                                  '#B0BEC5',\n",
       "                                                                  '#B0BEC5',\n",
       "                                                                  '#B0BEC5', 'red',\n",
       "                                                                  '#B0BEC5',\n",
       "                                                                  '#B0BEC5',\n",
       "                                                                  '#B0BEC5',\n",
       "                                                                  '#B0BEC5',\n",
       "                                                                  '#B0BEC5',\n",
       "                                                                  '#B0BEC5',\n",
       "                                                                  '#B0BEC5',\n",
       "                                                                  '#B0BEC5',\n",
       "                                                                  '#B0BEC5',\n",
       "                                                                  '#B0BEC5',\n",
       "                                                                  '#B0BEC5',\n",
       "                                                                  '#B0BEC5']]}],\n",
       "                                       'label': 'Topic 24',\n",
       "                                       'method': 'update'},\n",
       "                                      {'args': [{'marker.color': [['#B0BEC5',\n",
       "                                                                  '#B0BEC5',\n",
       "                                                                  '#B0BEC5',\n",
       "                                                                  '#B0BEC5',\n",
       "                                                                  '#B0BEC5',\n",
       "                                                                  '#B0BEC5',\n",
       "                                                                  '#B0BEC5',\n",
       "                                                                  '#B0BEC5',\n",
       "                                                                  '#B0BEC5',\n",
       "                                                                  '#B0BEC5',\n",
       "                                                                  '#B0BEC5',\n",
       "                                                                  '#B0BEC5',\n",
       "                                                                  '#B0BEC5',\n",
       "                                                                  '#B0BEC5',\n",
       "                                                                  '#B0BEC5',\n",
       "                                                                  '#B0BEC5',\n",
       "                                                                  '#B0BEC5',\n",
       "                                                                  '#B0BEC5',\n",
       "                                                                  '#B0BEC5',\n",
       "                                                                  '#B0BEC5',\n",
       "                                                                  '#B0BEC5',\n",
       "                                                                  '#B0BEC5',\n",
       "                                                                  '#B0BEC5',\n",
       "                                                                  '#B0BEC5',\n",
       "                                                                  '#B0BEC5', 'red',\n",
       "                                                                  '#B0BEC5',\n",
       "                                                                  '#B0BEC5',\n",
       "                                                                  '#B0BEC5',\n",
       "                                                                  '#B0BEC5',\n",
       "                                                                  '#B0BEC5',\n",
       "                                                                  '#B0BEC5',\n",
       "                                                                  '#B0BEC5',\n",
       "                                                                  '#B0BEC5',\n",
       "                                                                  '#B0BEC5',\n",
       "                                                                  '#B0BEC5',\n",
       "                                                                  '#B0BEC5']]}],\n",
       "                                       'label': 'Topic 25',\n",
       "                                       'method': 'update'},\n",
       "                                      {'args': [{'marker.color': [['#B0BEC5',\n",
       "                                                                  '#B0BEC5',\n",
       "                                                                  '#B0BEC5',\n",
       "                                                                  '#B0BEC5',\n",
       "                                                                  '#B0BEC5',\n",
       "                                                                  '#B0BEC5',\n",
       "                                                                  '#B0BEC5',\n",
       "                                                                  '#B0BEC5',\n",
       "                                                                  '#B0BEC5',\n",
       "                                                                  '#B0BEC5',\n",
       "                                                                  '#B0BEC5',\n",
       "                                                                  '#B0BEC5',\n",
       "                                                                  '#B0BEC5',\n",
       "                                                                  '#B0BEC5',\n",
       "                                                                  '#B0BEC5',\n",
       "                                                                  '#B0BEC5',\n",
       "                                                                  '#B0BEC5',\n",
       "                                                                  '#B0BEC5',\n",
       "                                                                  '#B0BEC5',\n",
       "                                                                  '#B0BEC5',\n",
       "                                                                  '#B0BEC5',\n",
       "                                                                  '#B0BEC5',\n",
       "                                                                  '#B0BEC5',\n",
       "                                                                  '#B0BEC5',\n",
       "                                                                  '#B0BEC5',\n",
       "                                                                  '#B0BEC5', 'red',\n",
       "                                                                  '#B0BEC5',\n",
       "                                                                  '#B0BEC5',\n",
       "                                                                  '#B0BEC5',\n",
       "                                                                  '#B0BEC5',\n",
       "                                                                  '#B0BEC5',\n",
       "                                                                  '#B0BEC5',\n",
       "                                                                  '#B0BEC5',\n",
       "                                                                  '#B0BEC5',\n",
       "                                                                  '#B0BEC5',\n",
       "                                                                  '#B0BEC5']]}],\n",
       "                                       'label': 'Topic 26',\n",
       "                                       'method': 'update'},\n",
       "                                      {'args': [{'marker.color': [['#B0BEC5',\n",
       "                                                                  '#B0BEC5',\n",
       "                                                                  '#B0BEC5',\n",
       "                                                                  '#B0BEC5',\n",
       "                                                                  '#B0BEC5',\n",
       "                                                                  '#B0BEC5',\n",
       "                                                                  '#B0BEC5',\n",
       "                                                                  '#B0BEC5',\n",
       "                                                                  '#B0BEC5',\n",
       "                                                                  '#B0BEC5',\n",
       "                                                                  '#B0BEC5',\n",
       "                                                                  '#B0BEC5',\n",
       "                                                                  '#B0BEC5',\n",
       "                                                                  '#B0BEC5',\n",
       "                                                                  '#B0BEC5',\n",
       "                                                                  '#B0BEC5',\n",
       "                                                                  '#B0BEC5',\n",
       "                                                                  '#B0BEC5',\n",
       "                                                                  '#B0BEC5',\n",
       "                                                                  '#B0BEC5',\n",
       "                                                                  '#B0BEC5',\n",
       "                                                                  '#B0BEC5',\n",
       "                                                                  '#B0BEC5',\n",
       "                                                                  '#B0BEC5',\n",
       "                                                                  '#B0BEC5',\n",
       "                                                                  '#B0BEC5',\n",
       "                                                                  '#B0BEC5', 'red',\n",
       "                                                                  '#B0BEC5',\n",
       "                                                                  '#B0BEC5',\n",
       "                                                                  '#B0BEC5',\n",
       "                                                                  '#B0BEC5',\n",
       "                                                                  '#B0BEC5',\n",
       "                                                                  '#B0BEC5',\n",
       "                                                                  '#B0BEC5',\n",
       "                                                                  '#B0BEC5',\n",
       "                                                                  '#B0BEC5']]}],\n",
       "                                       'label': 'Topic 27',\n",
       "                                       'method': 'update'},\n",
       "                                      {'args': [{'marker.color': [['#B0BEC5',\n",
       "                                                                  '#B0BEC5',\n",
       "                                                                  '#B0BEC5',\n",
       "                                                                  '#B0BEC5',\n",
       "                                                                  '#B0BEC5',\n",
       "                                                                  '#B0BEC5',\n",
       "                                                                  '#B0BEC5',\n",
       "                                                                  '#B0BEC5',\n",
       "                                                                  '#B0BEC5',\n",
       "                                                                  '#B0BEC5',\n",
       "                                                                  '#B0BEC5',\n",
       "                                                                  '#B0BEC5',\n",
       "                                                                  '#B0BEC5',\n",
       "                                                                  '#B0BEC5',\n",
       "                                                                  '#B0BEC5',\n",
       "                                                                  '#B0BEC5',\n",
       "                                                                  '#B0BEC5',\n",
       "                                                                  '#B0BEC5',\n",
       "                                                                  '#B0BEC5',\n",
       "                                                                  '#B0BEC5',\n",
       "                                                                  '#B0BEC5',\n",
       "                                                                  '#B0BEC5',\n",
       "                                                                  '#B0BEC5',\n",
       "                                                                  '#B0BEC5',\n",
       "                                                                  '#B0BEC5',\n",
       "                                                                  '#B0BEC5',\n",
       "                                                                  '#B0BEC5',\n",
       "                                                                  '#B0BEC5', 'red',\n",
       "                                                                  '#B0BEC5',\n",
       "                                                                  '#B0BEC5',\n",
       "                                                                  '#B0BEC5',\n",
       "                                                                  '#B0BEC5',\n",
       "                                                                  '#B0BEC5',\n",
       "                                                                  '#B0BEC5',\n",
       "                                                                  '#B0BEC5',\n",
       "                                                                  '#B0BEC5']]}],\n",
       "                                       'label': 'Topic 28',\n",
       "                                       'method': 'update'},\n",
       "                                      {'args': [{'marker.color': [['#B0BEC5',\n",
       "                                                                  '#B0BEC5',\n",
       "                                                                  '#B0BEC5',\n",
       "                                                                  '#B0BEC5',\n",
       "                                                                  '#B0BEC5',\n",
       "                                                                  '#B0BEC5',\n",
       "                                                                  '#B0BEC5',\n",
       "                                                                  '#B0BEC5',\n",
       "                                                                  '#B0BEC5',\n",
       "                                                                  '#B0BEC5',\n",
       "                                                                  '#B0BEC5',\n",
       "                                                                  '#B0BEC5',\n",
       "                                                                  '#B0BEC5',\n",
       "                                                                  '#B0BEC5',\n",
       "                                                                  '#B0BEC5',\n",
       "                                                                  '#B0BEC5',\n",
       "                                                                  '#B0BEC5',\n",
       "                                                                  '#B0BEC5',\n",
       "                                                                  '#B0BEC5',\n",
       "                                                                  '#B0BEC5',\n",
       "                                                                  '#B0BEC5',\n",
       "                                                                  '#B0BEC5',\n",
       "                                                                  '#B0BEC5',\n",
       "                                                                  '#B0BEC5',\n",
       "                                                                  '#B0BEC5',\n",
       "                                                                  '#B0BEC5',\n",
       "                                                                  '#B0BEC5',\n",
       "                                                                  '#B0BEC5',\n",
       "                                                                  '#B0BEC5', 'red',\n",
       "                                                                  '#B0BEC5',\n",
       "                                                                  '#B0BEC5',\n",
       "                                                                  '#B0BEC5',\n",
       "                                                                  '#B0BEC5',\n",
       "                                                                  '#B0BEC5',\n",
       "                                                                  '#B0BEC5',\n",
       "                                                                  '#B0BEC5']]}],\n",
       "                                       'label': 'Topic 29',\n",
       "                                       'method': 'update'},\n",
       "                                      {'args': [{'marker.color': [['#B0BEC5',\n",
       "                                                                  '#B0BEC5',\n",
       "                                                                  '#B0BEC5',\n",
       "                                                                  '#B0BEC5',\n",
       "                                                                  '#B0BEC5',\n",
       "                                                                  '#B0BEC5',\n",
       "                                                                  '#B0BEC5',\n",
       "                                                                  '#B0BEC5',\n",
       "                                                                  '#B0BEC5',\n",
       "                                                                  '#B0BEC5',\n",
       "                                                                  '#B0BEC5',\n",
       "                                                                  '#B0BEC5',\n",
       "                                                                  '#B0BEC5',\n",
       "                                                                  '#B0BEC5',\n",
       "                                                                  '#B0BEC5',\n",
       "                                                                  '#B0BEC5',\n",
       "                                                                  '#B0BEC5',\n",
       "                                                                  '#B0BEC5',\n",
       "                                                                  '#B0BEC5',\n",
       "                                                                  '#B0BEC5',\n",
       "                                                                  '#B0BEC5',\n",
       "                                                                  '#B0BEC5',\n",
       "                                                                  '#B0BEC5',\n",
       "                                                                  '#B0BEC5',\n",
       "                                                                  '#B0BEC5',\n",
       "                                                                  '#B0BEC5',\n",
       "                                                                  '#B0BEC5',\n",
       "                                                                  '#B0BEC5',\n",
       "                                                                  '#B0BEC5',\n",
       "                                                                  '#B0BEC5', 'red',\n",
       "                                                                  '#B0BEC5',\n",
       "                                                                  '#B0BEC5',\n",
       "                                                                  '#B0BEC5',\n",
       "                                                                  '#B0BEC5',\n",
       "                                                                  '#B0BEC5',\n",
       "                                                                  '#B0BEC5']]}],\n",
       "                                       'label': 'Topic 30',\n",
       "                                       'method': 'update'},\n",
       "                                      {'args': [{'marker.color': [['#B0BEC5',\n",
       "                                                                  '#B0BEC5',\n",
       "                                                                  '#B0BEC5',\n",
       "                                                                  '#B0BEC5',\n",
       "                                                                  '#B0BEC5',\n",
       "                                                                  '#B0BEC5',\n",
       "                                                                  '#B0BEC5',\n",
       "                                                                  '#B0BEC5',\n",
       "                                                                  '#B0BEC5',\n",
       "                                                                  '#B0BEC5',\n",
       "                                                                  '#B0BEC5',\n",
       "                                                                  '#B0BEC5',\n",
       "                                                                  '#B0BEC5',\n",
       "                                                                  '#B0BEC5',\n",
       "                                                                  '#B0BEC5',\n",
       "                                                                  '#B0BEC5',\n",
       "                                                                  '#B0BEC5',\n",
       "                                                                  '#B0BEC5',\n",
       "                                                                  '#B0BEC5',\n",
       "                                                                  '#B0BEC5',\n",
       "                                                                  '#B0BEC5',\n",
       "                                                                  '#B0BEC5',\n",
       "                                                                  '#B0BEC5',\n",
       "                                                                  '#B0BEC5',\n",
       "                                                                  '#B0BEC5',\n",
       "                                                                  '#B0BEC5',\n",
       "                                                                  '#B0BEC5',\n",
       "                                                                  '#B0BEC5',\n",
       "                                                                  '#B0BEC5',\n",
       "                                                                  '#B0BEC5',\n",
       "                                                                  '#B0BEC5', 'red',\n",
       "                                                                  '#B0BEC5',\n",
       "                                                                  '#B0BEC5',\n",
       "                                                                  '#B0BEC5',\n",
       "                                                                  '#B0BEC5',\n",
       "                                                                  '#B0BEC5']]}],\n",
       "                                       'label': 'Topic 31',\n",
       "                                       'method': 'update'},\n",
       "                                      {'args': [{'marker.color': [['#B0BEC5',\n",
       "                                                                  '#B0BEC5',\n",
       "                                                                  '#B0BEC5',\n",
       "                                                                  '#B0BEC5',\n",
       "                                                                  '#B0BEC5',\n",
       "                                                                  '#B0BEC5',\n",
       "                                                                  '#B0BEC5',\n",
       "                                                                  '#B0BEC5',\n",
       "                                                                  '#B0BEC5',\n",
       "                                                                  '#B0BEC5',\n",
       "                                                                  '#B0BEC5',\n",
       "                                                                  '#B0BEC5',\n",
       "                                                                  '#B0BEC5',\n",
       "                                                                  '#B0BEC5',\n",
       "                                                                  '#B0BEC5',\n",
       "                                                                  '#B0BEC5',\n",
       "                                                                  '#B0BEC5',\n",
       "                                                                  '#B0BEC5',\n",
       "                                                                  '#B0BEC5',\n",
       "                                                                  '#B0BEC5',\n",
       "                                                                  '#B0BEC5',\n",
       "                                                                  '#B0BEC5',\n",
       "                                                                  '#B0BEC5',\n",
       "                                                                  '#B0BEC5',\n",
       "                                                                  '#B0BEC5',\n",
       "                                                                  '#B0BEC5',\n",
       "                                                                  '#B0BEC5',\n",
       "                                                                  '#B0BEC5',\n",
       "                                                                  '#B0BEC5',\n",
       "                                                                  '#B0BEC5',\n",
       "                                                                  '#B0BEC5',\n",
       "                                                                  '#B0BEC5', 'red',\n",
       "                                                                  '#B0BEC5',\n",
       "                                                                  '#B0BEC5',\n",
       "                                                                  '#B0BEC5',\n",
       "                                                                  '#B0BEC5']]}],\n",
       "                                       'label': 'Topic 32',\n",
       "                                       'method': 'update'},\n",
       "                                      {'args': [{'marker.color': [['#B0BEC5',\n",
       "                                                                  '#B0BEC5',\n",
       "                                                                  '#B0BEC5',\n",
       "                                                                  '#B0BEC5',\n",
       "                                                                  '#B0BEC5',\n",
       "                                                                  '#B0BEC5',\n",
       "                                                                  '#B0BEC5',\n",
       "                                                                  '#B0BEC5',\n",
       "                                                                  '#B0BEC5',\n",
       "                                                                  '#B0BEC5',\n",
       "                                                                  '#B0BEC5',\n",
       "                                                                  '#B0BEC5',\n",
       "                                                                  '#B0BEC5',\n",
       "                                                                  '#B0BEC5',\n",
       "                                                                  '#B0BEC5',\n",
       "                                                                  '#B0BEC5',\n",
       "                                                                  '#B0BEC5',\n",
       "                                                                  '#B0BEC5',\n",
       "                                                                  '#B0BEC5',\n",
       "                                                                  '#B0BEC5',\n",
       "                                                                  '#B0BEC5',\n",
       "                                                                  '#B0BEC5',\n",
       "                                                                  '#B0BEC5',\n",
       "                                                                  '#B0BEC5',\n",
       "                                                                  '#B0BEC5',\n",
       "                                                                  '#B0BEC5',\n",
       "                                                                  '#B0BEC5',\n",
       "                                                                  '#B0BEC5',\n",
       "                                                                  '#B0BEC5',\n",
       "                                                                  '#B0BEC5',\n",
       "                                                                  '#B0BEC5',\n",
       "                                                                  '#B0BEC5',\n",
       "                                                                  '#B0BEC5', 'red',\n",
       "                                                                  '#B0BEC5',\n",
       "                                                                  '#B0BEC5',\n",
       "                                                                  '#B0BEC5']]}],\n",
       "                                       'label': 'Topic 33',\n",
       "                                       'method': 'update'},\n",
       "                                      {'args': [{'marker.color': [['#B0BEC5',\n",
       "                                                                  '#B0BEC5',\n",
       "                                                                  '#B0BEC5',\n",
       "                                                                  '#B0BEC5',\n",
       "                                                                  '#B0BEC5',\n",
       "                                                                  '#B0BEC5',\n",
       "                                                                  '#B0BEC5',\n",
       "                                                                  '#B0BEC5',\n",
       "                                                                  '#B0BEC5',\n",
       "                                                                  '#B0BEC5',\n",
       "                                                                  '#B0BEC5',\n",
       "                                                                  '#B0BEC5',\n",
       "                                                                  '#B0BEC5',\n",
       "                                                                  '#B0BEC5',\n",
       "                                                                  '#B0BEC5',\n",
       "                                                                  '#B0BEC5',\n",
       "                                                                  '#B0BEC5',\n",
       "                                                                  '#B0BEC5',\n",
       "                                                                  '#B0BEC5',\n",
       "                                                                  '#B0BEC5',\n",
       "                                                                  '#B0BEC5',\n",
       "                                                                  '#B0BEC5',\n",
       "                                                                  '#B0BEC5',\n",
       "                                                                  '#B0BEC5',\n",
       "                                                                  '#B0BEC5',\n",
       "                                                                  '#B0BEC5',\n",
       "                                                                  '#B0BEC5',\n",
       "                                                                  '#B0BEC5',\n",
       "                                                                  '#B0BEC5',\n",
       "                                                                  '#B0BEC5',\n",
       "                                                                  '#B0BEC5',\n",
       "                                                                  '#B0BEC5',\n",
       "                                                                  '#B0BEC5',\n",
       "                                                                  '#B0BEC5', 'red',\n",
       "                                                                  '#B0BEC5',\n",
       "                                                                  '#B0BEC5']]}],\n",
       "                                       'label': 'Topic 34',\n",
       "                                       'method': 'update'},\n",
       "                                      {'args': [{'marker.color': [['#B0BEC5',\n",
       "                                                                  '#B0BEC5',\n",
       "                                                                  '#B0BEC5',\n",
       "                                                                  '#B0BEC5',\n",
       "                                                                  '#B0BEC5',\n",
       "                                                                  '#B0BEC5',\n",
       "                                                                  '#B0BEC5',\n",
       "                                                                  '#B0BEC5',\n",
       "                                                                  '#B0BEC5',\n",
       "                                                                  '#B0BEC5',\n",
       "                                                                  '#B0BEC5',\n",
       "                                                                  '#B0BEC5',\n",
       "                                                                  '#B0BEC5',\n",
       "                                                                  '#B0BEC5',\n",
       "                                                                  '#B0BEC5',\n",
       "                                                                  '#B0BEC5',\n",
       "                                                                  '#B0BEC5',\n",
       "                                                                  '#B0BEC5',\n",
       "                                                                  '#B0BEC5',\n",
       "                                                                  '#B0BEC5',\n",
       "                                                                  '#B0BEC5',\n",
       "                                                                  '#B0BEC5',\n",
       "                                                                  '#B0BEC5',\n",
       "                                                                  '#B0BEC5',\n",
       "                                                                  '#B0BEC5',\n",
       "                                                                  '#B0BEC5',\n",
       "                                                                  '#B0BEC5',\n",
       "                                                                  '#B0BEC5',\n",
       "                                                                  '#B0BEC5',\n",
       "                                                                  '#B0BEC5',\n",
       "                                                                  '#B0BEC5',\n",
       "                                                                  '#B0BEC5',\n",
       "                                                                  '#B0BEC5',\n",
       "                                                                  '#B0BEC5',\n",
       "                                                                  '#B0BEC5', 'red',\n",
       "                                                                  '#B0BEC5']]}],\n",
       "                                       'label': 'Topic 35',\n",
       "                                       'method': 'update'},\n",
       "                                      {'args': [{'marker.color': [['#B0BEC5',\n",
       "                                                                  '#B0BEC5',\n",
       "                                                                  '#B0BEC5',\n",
       "                                                                  '#B0BEC5',\n",
       "                                                                  '#B0BEC5',\n",
       "                                                                  '#B0BEC5',\n",
       "                                                                  '#B0BEC5',\n",
       "                                                                  '#B0BEC5',\n",
       "                                                                  '#B0BEC5',\n",
       "                                                                  '#B0BEC5',\n",
       "                                                                  '#B0BEC5',\n",
       "                                                                  '#B0BEC5',\n",
       "                                                                  '#B0BEC5',\n",
       "                                                                  '#B0BEC5',\n",
       "                                                                  '#B0BEC5',\n",
       "                                                                  '#B0BEC5',\n",
       "                                                                  '#B0BEC5',\n",
       "                                                                  '#B0BEC5',\n",
       "                                                                  '#B0BEC5',\n",
       "                                                                  '#B0BEC5',\n",
       "                                                                  '#B0BEC5',\n",
       "                                                                  '#B0BEC5',\n",
       "                                                                  '#B0BEC5',\n",
       "                                                                  '#B0BEC5',\n",
       "                                                                  '#B0BEC5',\n",
       "                                                                  '#B0BEC5',\n",
       "                                                                  '#B0BEC5',\n",
       "                                                                  '#B0BEC5',\n",
       "                                                                  '#B0BEC5',\n",
       "                                                                  '#B0BEC5',\n",
       "                                                                  '#B0BEC5',\n",
       "                                                                  '#B0BEC5',\n",
       "                                                                  '#B0BEC5',\n",
       "                                                                  '#B0BEC5',\n",
       "                                                                  '#B0BEC5',\n",
       "                                                                  '#B0BEC5',\n",
       "                                                                  'red']]}],\n",
       "                                       'label': 'Topic 36',\n",
       "                                       'method': 'update'}]}],\n",
       "               'template': '...',\n",
       "               'title': {'font': {'color': 'Black', 'size': 22},\n",
       "                         'text': '<b>Intertopic Distance Map</b>',\n",
       "                         'x': 0.5,\n",
       "                         'xanchor': 'center',\n",
       "                         'y': 0.95,\n",
       "                         'yanchor': 'top'},\n",
       "               'width': 650,\n",
       "               'xaxis': {'anchor': 'y',\n",
       "                         'domain': [0.0, 1.0],\n",
       "                         'range': [-15.501186800003051, 20.260311794281005],\n",
       "                         'title': {'text': ''},\n",
       "                         'visible': False},\n",
       "               'yaxis': {'anchor': 'x',\n",
       "                         'domain': [0.0, 1.0],\n",
       "                         'range': [-17.487872076034545, 19.878111743927],\n",
       "                         'title': {'text': ''},\n",
       "                         'visible': False}}\n",
       "})"
      ]
     },
     "execution_count": 20,
     "metadata": {},
     "output_type": "execute_result"
    }
   ],
   "source": [
    "topic_model.visualize_topics()"
   ]
  },
  {
   "cell_type": "code",
   "execution_count": null,
   "metadata": {},
   "outputs": [],
   "source": []
  }
 ],
 "metadata": {
  "kernelspec": {
   "display_name": "nlp",
   "language": "python",
   "name": "python3"
  },
  "language_info": {
   "codemirror_mode": {
    "name": "ipython",
    "version": 3
   },
   "file_extension": ".py",
   "mimetype": "text/x-python",
   "name": "python",
   "nbconvert_exporter": "python",
   "pygments_lexer": "ipython3",
   "version": "3.9.18"
  }
 },
 "nbformat": 4,
 "nbformat_minor": 2
}
